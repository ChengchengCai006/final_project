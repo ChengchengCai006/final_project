{
 "cells": [
  {
   "cell_type": "markdown",
   "id": "d4c5a136-e872-4846-9965-9ddc5251a0b3",
   "metadata": {},
   "source": [
    "# NYC Apartment Search\n",
    "\n",
    "_[Project prompt](https://docs.google.com/document/d/1BYVyFBDcTywdUlanH0ysfOrNWPgl7UkqXA7NeewTzxA/edit#heading=h.bpxu7uvknnbk)_\n",
    "\n",
    "_This scaffolding notebook may be used to help setup your final project. It's **totally optional** whether you make use of this or not._\n",
    "\n",
    "_If you do use this notebook, everything provided is optional as well - you may remove or add code as you wish._\n",
    "\n",
    "_**All code below should be consider \"pseudo-code\" - not functional by itself, and only an idea of a possible approach.**_"
   ]
  },
  {
   "cell_type": "markdown",
   "id": "bdf11fa0-4684-4f5e-8048-0f4cc5f4f243",
   "metadata": {},
   "source": [
    "## Setup"
   ]
  },
  {
   "cell_type": "code",
   "execution_count": 39,
   "id": "0f675d4b-794e-407c-aac9-b85c4a3975d2",
   "metadata": {},
   "outputs": [],
   "source": [
    "# All import statements needed for the project, for example:\n",
    "import json\n",
    "import pathlib\n",
    "import urllib.parse\n",
    "\n",
    "import pandas as pd\n",
    "import geopandas as gpd\n",
    "import requests\n",
    "import re\n",
    "import psycopg2\n",
    "import shapely\n",
    "\n",
    "from sqlalchemy import create_engine, MetaData, Table, Column, Integer, String, Float, TIMESTAMP\n",
    "from geoalchemy2 import Geometry\n",
    "from datetime import datetime, timedelta"
   ]
  },
  {
   "cell_type": "code",
   "execution_count": 14,
   "id": "70a62277-51cf-48a2-81d2-9b2127088a7e",
   "metadata": {},
   "outputs": [],
   "source": [
    "# Any constants you might need; some have been added for you\n",
    "\n",
    "# Where data files will be read from/written to - this should already exist\n",
    "DATA_DIR = pathlib.Path(\"data\")\n",
    "ZIPCODE_DATA_FILE = DATA_DIR / \"nyc_zipcodes.shp\"\n",
    "ZILLOW_DATA_FILE = DATA_DIR / \"zillow_rent_data.csv\"\n",
    "\n",
    "NYC_DATA_APP_TOKEN = \"NJflFVV2YiwlXmMlt4Y9jwTGO\"\n",
    "API_311 = 'https://data.cityofnewyork.us/resource/erm2-nwe9.json'\n",
    "API_TREE='https://data.cityofnewyork.us/resource/uvpi-gqnh.json'\n",
    "\n",
    "## Soql for NYC_311 and NYC_TREE Download\n",
    "SOQL_BASE_QUERY_311 = f\"{API_311}?$where=created_date between '2015-01-01T00:00:00' and '2023-10-31T00:00:00'&$limit=1000000\"\n",
    "SOQL_QUERIES_311 = {f\"query_{i}\": f\"{SOQL_BASE_QUERY_311}&$offset={(i-1)*1000000}\" for i in range(1, 26)}\n",
    "SOQL_QUERY_TREE=f\"{API_TREE}?$where=created_at between '2015-01-01T00:00:00' and '2015-12-31T23:59:59'&$limit=1000000000\"\n",
    "\n",
    "DB_NAME = \"GroupProject\"\n",
    "DB_USER = 'postgres'\n",
    "DB_PASSWORD = ''\n",
    "DB_HOST = 'localhost'\n",
    "DB_URL=f'postgresql://{DB_USER}:{DB_PASSWORD}@{DB_HOST}/{DB_NAME}'\n",
    "DB_SCHEMA_FILE = \"schema.sql\"\n",
    "\n",
    "# directory where DB queries for Part 3 will be saved\n",
    "QUERY_DIR = pathlib.Path(\"queries\")"
   ]
  },
  {
   "cell_type": "code",
   "execution_count": 15,
   "id": "cd67cca9-ec72-44e3-83b8-b65f1ed5bb2f",
   "metadata": {},
   "outputs": [],
   "source": [
    "# Make sure the QUERY_DIRECTORY exists\n",
    "if not QUERY_DIR.exists():\n",
    "    QUERY_DIR.mkdir()"
   ]
  },
  {
   "cell_type": "markdown",
   "id": "52476a07-9bf2-4b7a-8cb7-93648bb4d303",
   "metadata": {},
   "source": [
    "## Part 1: Data Preprocessing"
   ]
  },
  {
   "cell_type": "markdown",
   "id": "7e08fe1c",
   "metadata": {},
   "source": [
    "### Download and Clean NYC_311"
   ]
  },
  {
   "cell_type": "code",
   "execution_count": 16,
   "id": "63b18f12-c0ce-4b9c-adc1-805703edc575",
   "metadata": {},
   "outputs": [],
   "source": [
    "def download_nyc_json_data(query):\n",
    "    headers = {'X-App-Token': NYC_DATA_APP_TOKEN }\n",
    "    response = requests.get(query, headers=headers)\n",
    "    df = pd.read_json(response.text)\n",
    "    return df"
   ]
  },
  {
   "cell_type": "code",
   "execution_count": 17,
   "id": "e56cca4c",
   "metadata": {},
   "outputs": [],
   "source": [
    "def download_311_data(queries_dict):\n",
    "    for query_name, query in queries_dict.items():\n",
    "        query_df = download_nyc_json_data(query)\n",
    "        query_df.to_csv(f\"{query_name}_data.csv\", index=False)"
   ]
  },
  {
   "cell_type": "code",
   "execution_count": 19,
   "id": "39c96195",
   "metadata": {},
   "outputs": [],
   "source": [
    "def load_and_clean_311_data():\n",
    "    all_data = pd.concat([pd.read_csv(f\"{query_name}_data.csv\", low_memory=False) for query_name in SOQL_QUERIES_311], ignore_index=True)\n",
    "    \n",
    "    # Filter for noise-related complaints\n",
    "    noise_dataset = all_data[all_data['complaint_type'].str.lower().str.contains(\"noise\")]\n",
    "\n",
    "    # Select relevant columns\n",
    "    noise_dataset = noise_dataset[['unique_key', 'created_date', 'complaint_type', 'incident_zip', 'latitude', 'longitude']]\n",
    "\n",
    "    # Convert latitude and longitude to a GeoDataFrame with a 'location' column\n",
    "    noise_dataset['location'] = gpd.points_from_xy(noise_dataset['longitude'], noise_dataset['latitude'], crs=\"EPSG:4326\")\n",
    "\n",
    "    # Drop latitude and longitude columns\n",
    "    noise_dataset = noise_dataset.drop(['latitude', 'longitude'], axis=1)\n",
    "\n",
    "    # Rename columns\n",
    "    noise_dataset = noise_dataset.rename(columns={\"incident_zip\": \"zipcode\"})\n",
    "\n",
    "    # Drop rows with missing zip codes\n",
    "    noise_dataset = noise_dataset.dropna(subset=['zipcode'])\n",
    "\n",
    "    # Change data types\n",
    "    convert_dict = {'unique_key': int, 'created_date': 'datetime64[ns]', 'complaint_type': str, 'zipcode': int}\n",
    "    noise_dataset = noise_dataset.astype(convert_dict)\n",
    "\n",
    "    return gpd.GeoDataFrame(noise_dataset, geometry='location')"
   ]
  },
  {
   "cell_type": "markdown",
   "id": "673fbbd9",
   "metadata": {},
   "source": [
    "### Download and Clean NYC_tree"
   ]
  },
  {
   "cell_type": "code",
   "execution_count": 20,
   "id": "ee245240-2fbb-45b8-9a92-4e2368f62c60",
   "metadata": {},
   "outputs": [],
   "source": [
    "def download_and_clean_tree_data():\n",
    "    # Download tree data for the year 2015\n",
    "    tree_data = download_nyc_json_data(SOQL_QUERY_TREE)\n",
    "\n",
    "    # Select relevant columns\n",
    "    selected_columns = ['tree_id', 'status', 'health', 'spc_common', 'zipcode', 'latitude', 'longitude']\n",
    "    tree_data = tree_data[selected_columns]\n",
    "\n",
    "    # Convert latitude and longitude to a GeoDataFrame with a 'location' column\n",
    "    tree_data['location'] = gpd.points_from_xy(tree_data['longitude'], tree_data['latitude'], crs=\"EPSG:4326\")\n",
    "\n",
    "    # Drop latitude and longitude columns\n",
    "    tree_data = tree_data.drop(['latitude', 'longitude'], axis=1)\n",
    "\n",
    "    # Rename columns\n",
    "    tree_data = tree_data.rename(columns={\"spc_common\": \"species\"})\n",
    "\n",
    "    return gpd.GeoDataFrame(tree_data, geometry='location')"
   ]
  },
  {
   "cell_type": "markdown",
   "id": "ea06c46a",
   "metadata": {},
   "source": [
    "### Load and Clean NYC_Zipcode"
   ]
  },
  {
   "cell_type": "code",
   "execution_count": 21,
   "id": "747ff49f-a18b-4fc0-8da6-6834a10d11ce",
   "metadata": {},
   "outputs": [],
   "source": [
    "def load_and_clean_zipcodes_data(zipcode_datafile): \n",
    "    try:\n",
    "        data = gpd.read_file(zipcode_datafile)\n",
    "        \n",
    "        # Select relevant columns\n",
    "        selected_columns = ['ZIPCODE', 'geometry']\n",
    "        data_nyc = data[selected_columns]\n",
    "        \n",
    "        # Rename columns for clarity\n",
    "        zipcode_nyc = gpd.GeoDataFrame(data_nyc, geometry='geometry').rename(\n",
    "            columns={\"ZIPCODE\": \"zipcode\"})\n",
    "        \n",
    "        # Change data types and coordinate reference system\n",
    "        zipcode_nyc = zipcode_nyc.to_crs(epsg=4326)\n",
    "        zipcode_nyc = zipcode_nyc.astype({'zipcode': int})\n",
    "        \n",
    "        # Drop duplicate zipcodes, keeping the first occurrence\n",
    "        zipcode_nyc = zipcode_nyc.drop_duplicates(subset=['zipcode'])\n",
    "        \n",
    "        return zipcode_nyc\n",
    "    \n",
    "    except Exception as e:\n",
    "        # Handle exceptions\n",
    "        print(f\"Error: {e}. Could not read file: {zipcode_datafile}\")\n",
    "        return None"
   ]
  },
  {
   "cell_type": "markdown",
   "id": "22d98610",
   "metadata": {},
   "source": [
    "### Load and Clean NYC_Zillow"
   ]
  },
  {
   "cell_type": "code",
   "execution_count": 22,
   "id": "c9681a41",
   "metadata": {},
   "outputs": [],
   "source": [
    "def load_and_clean_zillow_data(zillow_datafile): \n",
    "    data = pd.read_csv(zillow_datafile)\n",
    "    \n",
    "    # Only get the data of \"NY\" state\n",
    "    zillow_data_NY = data[data.City == \"New York\"]\n",
    "    \n",
    "    # Get DataFrame containing selected columns and all numeric columns\n",
    "    numeric_columns = data.filter(regex='^\\d').columns.tolist()\n",
    "    zillow_NY_dataset = zillow_data_NY[[\"RegionName\"] + numeric_columns]\n",
    "    \n",
    "    # Rename some columns\n",
    "    zillow_NY_dataset = zillow_NY_dataset.rename(columns={\"RegionName\": \"zipcode\"})\n",
    "    zillow_NY_dataset.columns = [\"zipcode\"] + [col.replace('-', '') for col in numeric_columns]\n",
    "    \n",
    "    return zillow_NY_dataset"
   ]
  },
  {
   "cell_type": "markdown",
   "id": "120e60ce",
   "metadata": {},
   "source": [
    "### Load all data"
   ]
  },
  {
   "cell_type": "code",
   "execution_count": 23,
   "id": "345ebc2c-14f1-490c-9857-11f1e332e3bc",
   "metadata": {},
   "outputs": [],
   "source": [
    "def load_all_data():\n",
    "    data_311 = load_and_clean_311_data()\n",
    "    data_tree = download_and_clean_tree_data()\n",
    "    data_zipcode = load_and_clean_zipcodes_data(ZIPCODE_DATA_FILE)\n",
    "    data_zillow = load_and_clean_zillow_data(ZILLOW_DATA_FILE)\n",
    "    \n",
    "    return (\n",
    "        data_311,\n",
    "        data_tree,\n",
    "        data_zipcode,\n",
    "        data_zillow\n",
    "    )"
   ]
  },
  {
   "cell_type": "code",
   "execution_count": 24,
   "id": "f2768bc8-4130-4298-be28-13d4b250a666",
   "metadata": {},
   "outputs": [],
   "source": [
    "data_311, data_tree, data_zipcode, data_zillow = load_all_data()"
   ]
  },
  {
   "cell_type": "code",
   "execution_count": 25,
   "id": "23ad8bbc-bf91-457e-97db-a945fabeee29",
   "metadata": {},
   "outputs": [
    {
     "name": "stdout",
     "output_type": "stream",
     "text": [
      "<class 'geopandas.geodataframe.GeoDataFrame'>\n",
      "Index: 5056549 entries, 9 to 24626307\n",
      "Data columns (total 5 columns):\n",
      " #   Column          Dtype         \n",
      "---  ------          -----         \n",
      " 0   unique_key      int64         \n",
      " 1   created_date    datetime64[ns]\n",
      " 2   complaint_type  object        \n",
      " 3   zipcode         int64         \n",
      " 4   location        geometry      \n",
      "dtypes: datetime64[ns](1), geometry(1), int64(2), object(1)\n",
      "memory usage: 231.5+ MB\n"
     ]
    }
   ],
   "source": [
    "# Show basic info about each dataframe\n",
    "data_311.info()"
   ]
  },
  {
   "cell_type": "code",
   "execution_count": 26,
   "id": "ec68f4be-f365-46c1-91a1-ab75deb75ff4",
   "metadata": {},
   "outputs": [
    {
     "data": {
      "text/html": [
       "<div>\n",
       "<style scoped>\n",
       "    .dataframe tbody tr th:only-of-type {\n",
       "        vertical-align: middle;\n",
       "    }\n",
       "\n",
       "    .dataframe tbody tr th {\n",
       "        vertical-align: top;\n",
       "    }\n",
       "\n",
       "    .dataframe thead th {\n",
       "        text-align: right;\n",
       "    }\n",
       "</style>\n",
       "<table border=\"1\" class=\"dataframe\">\n",
       "  <thead>\n",
       "    <tr style=\"text-align: right;\">\n",
       "      <th></th>\n",
       "      <th>unique_key</th>\n",
       "      <th>created_date</th>\n",
       "      <th>complaint_type</th>\n",
       "      <th>zipcode</th>\n",
       "      <th>location</th>\n",
       "    </tr>\n",
       "  </thead>\n",
       "  <tbody>\n",
       "    <tr>\n",
       "      <th>9</th>\n",
       "      <td>59273608</td>\n",
       "      <td>2023-10-30 23:58:22</td>\n",
       "      <td>Noise - Residential</td>\n",
       "      <td>11233</td>\n",
       "      <td>POINT (-73.93110 40.68470)</td>\n",
       "    </tr>\n",
       "    <tr>\n",
       "      <th>10</th>\n",
       "      <td>59277713</td>\n",
       "      <td>2023-10-30 23:58:20</td>\n",
       "      <td>Noise - Street/Sidewalk</td>\n",
       "      <td>11229</td>\n",
       "      <td>POINT (-73.95575 40.60559)</td>\n",
       "    </tr>\n",
       "    <tr>\n",
       "      <th>17</th>\n",
       "      <td>59271083</td>\n",
       "      <td>2023-10-30 23:54:45</td>\n",
       "      <td>Noise - Street/Sidewalk</td>\n",
       "      <td>10025</td>\n",
       "      <td>POINT (-73.96521 40.80111)</td>\n",
       "    </tr>\n",
       "    <tr>\n",
       "      <th>18</th>\n",
       "      <td>59270832</td>\n",
       "      <td>2023-10-30 23:54:19</td>\n",
       "      <td>Noise - Residential</td>\n",
       "      <td>11102</td>\n",
       "      <td>POINT (-73.92473 40.76758)</td>\n",
       "    </tr>\n",
       "    <tr>\n",
       "      <th>20</th>\n",
       "      <td>59272404</td>\n",
       "      <td>2023-10-30 23:54:04</td>\n",
       "      <td>Noise - Vehicle</td>\n",
       "      <td>11434</td>\n",
       "      <td>POINT (-73.77976 40.69105)</td>\n",
       "    </tr>\n",
       "  </tbody>\n",
       "</table>\n",
       "</div>"
      ],
      "text/plain": [
       "    unique_key        created_date           complaint_type  zipcode  \\\n",
       "9     59273608 2023-10-30 23:58:22      Noise - Residential    11233   \n",
       "10    59277713 2023-10-30 23:58:20  Noise - Street/Sidewalk    11229   \n",
       "17    59271083 2023-10-30 23:54:45  Noise - Street/Sidewalk    10025   \n",
       "18    59270832 2023-10-30 23:54:19      Noise - Residential    11102   \n",
       "20    59272404 2023-10-30 23:54:04          Noise - Vehicle    11434   \n",
       "\n",
       "                      location  \n",
       "9   POINT (-73.93110 40.68470)  \n",
       "10  POINT (-73.95575 40.60559)  \n",
       "17  POINT (-73.96521 40.80111)  \n",
       "18  POINT (-73.92473 40.76758)  \n",
       "20  POINT (-73.77976 40.69105)  "
      ]
     },
     "execution_count": 26,
     "metadata": {},
     "output_type": "execute_result"
    }
   ],
   "source": [
    "# Show first 5 entries about each dataframe\n",
    "data_311.head()"
   ]
  },
  {
   "cell_type": "code",
   "execution_count": 27,
   "id": "6a803b68-2f07-44b8-8b24-d4f16c9e03fe",
   "metadata": {},
   "outputs": [
    {
     "name": "stdout",
     "output_type": "stream",
     "text": [
      "<class 'geopandas.geodataframe.GeoDataFrame'>\n",
      "RangeIndex: 509525 entries, 0 to 509524\n",
      "Data columns (total 6 columns):\n",
      " #   Column    Non-Null Count   Dtype   \n",
      "---  ------    --------------   -----   \n",
      " 0   tree_id   509525 non-null  int64   \n",
      " 1   status    509525 non-null  object  \n",
      " 2   health    485498 non-null  object  \n",
      " 3   species   485498 non-null  object  \n",
      " 4   zipcode   509525 non-null  int64   \n",
      " 5   location  509525 non-null  geometry\n",
      "dtypes: geometry(1), int64(2), object(3)\n",
      "memory usage: 23.3+ MB\n"
     ]
    }
   ],
   "source": [
    "data_tree.info()"
   ]
  },
  {
   "cell_type": "code",
   "execution_count": 28,
   "id": "14705df9-ea77-4d57-ac8e-1845f80a216d",
   "metadata": {},
   "outputs": [
    {
     "data": {
      "text/html": [
       "<div>\n",
       "<style scoped>\n",
       "    .dataframe tbody tr th:only-of-type {\n",
       "        vertical-align: middle;\n",
       "    }\n",
       "\n",
       "    .dataframe tbody tr th {\n",
       "        vertical-align: top;\n",
       "    }\n",
       "\n",
       "    .dataframe thead th {\n",
       "        text-align: right;\n",
       "    }\n",
       "</style>\n",
       "<table border=\"1\" class=\"dataframe\">\n",
       "  <thead>\n",
       "    <tr style=\"text-align: right;\">\n",
       "      <th></th>\n",
       "      <th>tree_id</th>\n",
       "      <th>status</th>\n",
       "      <th>health</th>\n",
       "      <th>species</th>\n",
       "      <th>zipcode</th>\n",
       "      <th>location</th>\n",
       "    </tr>\n",
       "  </thead>\n",
       "  <tbody>\n",
       "    <tr>\n",
       "      <th>0</th>\n",
       "      <td>180683</td>\n",
       "      <td>Alive</td>\n",
       "      <td>Fair</td>\n",
       "      <td>red maple</td>\n",
       "      <td>11375</td>\n",
       "      <td>POINT (-73.84422 40.72309)</td>\n",
       "    </tr>\n",
       "    <tr>\n",
       "      <th>1</th>\n",
       "      <td>200540</td>\n",
       "      <td>Alive</td>\n",
       "      <td>Fair</td>\n",
       "      <td>pin oak</td>\n",
       "      <td>11357</td>\n",
       "      <td>POINT (-73.81868 40.79411)</td>\n",
       "    </tr>\n",
       "    <tr>\n",
       "      <th>2</th>\n",
       "      <td>204026</td>\n",
       "      <td>Alive</td>\n",
       "      <td>Good</td>\n",
       "      <td>honeylocust</td>\n",
       "      <td>11211</td>\n",
       "      <td>POINT (-73.93661 40.71758)</td>\n",
       "    </tr>\n",
       "    <tr>\n",
       "      <th>3</th>\n",
       "      <td>204337</td>\n",
       "      <td>Alive</td>\n",
       "      <td>Good</td>\n",
       "      <td>honeylocust</td>\n",
       "      <td>11211</td>\n",
       "      <td>POINT (-73.93446 40.71354)</td>\n",
       "    </tr>\n",
       "    <tr>\n",
       "      <th>4</th>\n",
       "      <td>189565</td>\n",
       "      <td>Alive</td>\n",
       "      <td>Good</td>\n",
       "      <td>American linden</td>\n",
       "      <td>11215</td>\n",
       "      <td>POINT (-73.97598 40.66678)</td>\n",
       "    </tr>\n",
       "  </tbody>\n",
       "</table>\n",
       "</div>"
      ],
      "text/plain": [
       "   tree_id status health          species  zipcode                    location\n",
       "0   180683  Alive   Fair        red maple    11375  POINT (-73.84422 40.72309)\n",
       "1   200540  Alive   Fair          pin oak    11357  POINT (-73.81868 40.79411)\n",
       "2   204026  Alive   Good      honeylocust    11211  POINT (-73.93661 40.71758)\n",
       "3   204337  Alive   Good      honeylocust    11211  POINT (-73.93446 40.71354)\n",
       "4   189565  Alive   Good  American linden    11215  POINT (-73.97598 40.66678)"
      ]
     },
     "execution_count": 28,
     "metadata": {},
     "output_type": "execute_result"
    }
   ],
   "source": [
    "data_tree.head()"
   ]
  },
  {
   "cell_type": "code",
   "execution_count": 29,
   "id": "e6006cd2-3a00-4660-8d2a-a660b9bfd91e",
   "metadata": {},
   "outputs": [
    {
     "name": "stdout",
     "output_type": "stream",
     "text": [
      "<class 'geopandas.geodataframe.GeoDataFrame'>\n",
      "Index: 248 entries, 0 to 262\n",
      "Data columns (total 2 columns):\n",
      " #   Column    Non-Null Count  Dtype   \n",
      "---  ------    --------------  -----   \n",
      " 0   zipcode   248 non-null    int64   \n",
      " 1   geometry  248 non-null    geometry\n",
      "dtypes: geometry(1), int64(1)\n",
      "memory usage: 5.8 KB\n"
     ]
    }
   ],
   "source": [
    "data_zipcode.info()"
   ]
  },
  {
   "cell_type": "code",
   "execution_count": 30,
   "id": "07f880ef-c5fc-4159-8174-21ccd44f492d",
   "metadata": {},
   "outputs": [
    {
     "data": {
      "text/html": [
       "<div>\n",
       "<style scoped>\n",
       "    .dataframe tbody tr th:only-of-type {\n",
       "        vertical-align: middle;\n",
       "    }\n",
       "\n",
       "    .dataframe tbody tr th {\n",
       "        vertical-align: top;\n",
       "    }\n",
       "\n",
       "    .dataframe thead th {\n",
       "        text-align: right;\n",
       "    }\n",
       "</style>\n",
       "<table border=\"1\" class=\"dataframe\">\n",
       "  <thead>\n",
       "    <tr style=\"text-align: right;\">\n",
       "      <th></th>\n",
       "      <th>zipcode</th>\n",
       "      <th>geometry</th>\n",
       "    </tr>\n",
       "  </thead>\n",
       "  <tbody>\n",
       "    <tr>\n",
       "      <th>0</th>\n",
       "      <td>11436</td>\n",
       "      <td>POLYGON ((-73.80585 40.68291, -73.80569 40.682...</td>\n",
       "    </tr>\n",
       "    <tr>\n",
       "      <th>1</th>\n",
       "      <td>11213</td>\n",
       "      <td>POLYGON ((-73.93740 40.67973, -73.93487 40.679...</td>\n",
       "    </tr>\n",
       "    <tr>\n",
       "      <th>2</th>\n",
       "      <td>11212</td>\n",
       "      <td>POLYGON ((-73.90294 40.67084, -73.90223 40.668...</td>\n",
       "    </tr>\n",
       "    <tr>\n",
       "      <th>3</th>\n",
       "      <td>11225</td>\n",
       "      <td>POLYGON ((-73.95797 40.67066, -73.95576 40.670...</td>\n",
       "    </tr>\n",
       "    <tr>\n",
       "      <th>4</th>\n",
       "      <td>11218</td>\n",
       "      <td>POLYGON ((-73.97208 40.65060, -73.97192 40.650...</td>\n",
       "    </tr>\n",
       "  </tbody>\n",
       "</table>\n",
       "</div>"
      ],
      "text/plain": [
       "   zipcode                                           geometry\n",
       "0    11436  POLYGON ((-73.80585 40.68291, -73.80569 40.682...\n",
       "1    11213  POLYGON ((-73.93740 40.67973, -73.93487 40.679...\n",
       "2    11212  POLYGON ((-73.90294 40.67084, -73.90223 40.668...\n",
       "3    11225  POLYGON ((-73.95797 40.67066, -73.95576 40.670...\n",
       "4    11218  POLYGON ((-73.97208 40.65060, -73.97192 40.650..."
      ]
     },
     "execution_count": 30,
     "metadata": {},
     "output_type": "execute_result"
    }
   ],
   "source": [
    "data_zipcode.head()"
   ]
  },
  {
   "cell_type": "code",
   "execution_count": 31,
   "id": "59724f74-5f1e-435c-b843-f381a875dd4a",
   "metadata": {},
   "outputs": [
    {
     "name": "stdout",
     "output_type": "stream",
     "text": [
      "<class 'pandas.core.frame.DataFrame'>\n",
      "Index: 145 entries, 4 to 6721\n",
      "Columns: 106 entries, zipcode to 20230930\n",
      "dtypes: float64(105), int64(1)\n",
      "memory usage: 121.2 KB\n"
     ]
    }
   ],
   "source": [
    "data_zillow.info()"
   ]
  },
  {
   "cell_type": "code",
   "execution_count": 32,
   "id": "e29ae5d9-9768-4590-a2f2-dd63b07dd712",
   "metadata": {},
   "outputs": [
    {
     "data": {
      "text/html": [
       "<div>\n",
       "<style scoped>\n",
       "    .dataframe tbody tr th:only-of-type {\n",
       "        vertical-align: middle;\n",
       "    }\n",
       "\n",
       "    .dataframe tbody tr th {\n",
       "        vertical-align: top;\n",
       "    }\n",
       "\n",
       "    .dataframe thead th {\n",
       "        text-align: right;\n",
       "    }\n",
       "</style>\n",
       "<table border=\"1\" class=\"dataframe\">\n",
       "  <thead>\n",
       "    <tr style=\"text-align: right;\">\n",
       "      <th></th>\n",
       "      <th>zipcode</th>\n",
       "      <th>20150131</th>\n",
       "      <th>20150228</th>\n",
       "      <th>20150331</th>\n",
       "      <th>20150430</th>\n",
       "      <th>20150531</th>\n",
       "      <th>20150630</th>\n",
       "      <th>20150731</th>\n",
       "      <th>20150831</th>\n",
       "      <th>20150930</th>\n",
       "      <th>...</th>\n",
       "      <th>20221231</th>\n",
       "      <th>20230131</th>\n",
       "      <th>20230228</th>\n",
       "      <th>20230331</th>\n",
       "      <th>20230430</th>\n",
       "      <th>20230531</th>\n",
       "      <th>20230630</th>\n",
       "      <th>20230731</th>\n",
       "      <th>20230831</th>\n",
       "      <th>20230930</th>\n",
       "    </tr>\n",
       "  </thead>\n",
       "  <tbody>\n",
       "    <tr>\n",
       "      <th>4</th>\n",
       "      <td>11385</td>\n",
       "      <td>NaN</td>\n",
       "      <td>2087.527084</td>\n",
       "      <td>NaN</td>\n",
       "      <td>2149.924252</td>\n",
       "      <td>2166.263698</td>\n",
       "      <td>2148.992886</td>\n",
       "      <td>2190.098591</td>\n",
       "      <td>2264.966715</td>\n",
       "      <td>2297.900917</td>\n",
       "      <td>...</td>\n",
       "      <td>2935.808220</td>\n",
       "      <td>2895.699421</td>\n",
       "      <td>2873.209025</td>\n",
       "      <td>2881.906361</td>\n",
       "      <td>2913.546218</td>\n",
       "      <td>2963.964134</td>\n",
       "      <td>3005.735342</td>\n",
       "      <td>3034.413822</td>\n",
       "      <td>3064.476503</td>\n",
       "      <td>3079.585783</td>\n",
       "    </tr>\n",
       "    <tr>\n",
       "      <th>6</th>\n",
       "      <td>11208</td>\n",
       "      <td>NaN</td>\n",
       "      <td>NaN</td>\n",
       "      <td>NaN</td>\n",
       "      <td>NaN</td>\n",
       "      <td>NaN</td>\n",
       "      <td>NaN</td>\n",
       "      <td>NaN</td>\n",
       "      <td>NaN</td>\n",
       "      <td>NaN</td>\n",
       "      <td>...</td>\n",
       "      <td>2508.670432</td>\n",
       "      <td>2588.030194</td>\n",
       "      <td>2613.790654</td>\n",
       "      <td>2585.561351</td>\n",
       "      <td>2633.200754</td>\n",
       "      <td>2672.038493</td>\n",
       "      <td>2806.918757</td>\n",
       "      <td>2765.224364</td>\n",
       "      <td>2737.547470</td>\n",
       "      <td>2728.733333</td>\n",
       "    </tr>\n",
       "    <tr>\n",
       "      <th>12</th>\n",
       "      <td>11236</td>\n",
       "      <td>NaN</td>\n",
       "      <td>NaN</td>\n",
       "      <td>NaN</td>\n",
       "      <td>NaN</td>\n",
       "      <td>NaN</td>\n",
       "      <td>NaN</td>\n",
       "      <td>NaN</td>\n",
       "      <td>NaN</td>\n",
       "      <td>NaN</td>\n",
       "      <td>...</td>\n",
       "      <td>NaN</td>\n",
       "      <td>NaN</td>\n",
       "      <td>NaN</td>\n",
       "      <td>NaN</td>\n",
       "      <td>NaN</td>\n",
       "      <td>NaN</td>\n",
       "      <td>NaN</td>\n",
       "      <td>NaN</td>\n",
       "      <td>2285.460026</td>\n",
       "      <td>2362.500000</td>\n",
       "    </tr>\n",
       "    <tr>\n",
       "      <th>13</th>\n",
       "      <td>10467</td>\n",
       "      <td>NaN</td>\n",
       "      <td>NaN</td>\n",
       "      <td>NaN</td>\n",
       "      <td>NaN</td>\n",
       "      <td>NaN</td>\n",
       "      <td>NaN</td>\n",
       "      <td>NaN</td>\n",
       "      <td>NaN</td>\n",
       "      <td>NaN</td>\n",
       "      <td>...</td>\n",
       "      <td>2145.642295</td>\n",
       "      <td>2155.617718</td>\n",
       "      <td>2172.346611</td>\n",
       "      <td>2160.962748</td>\n",
       "      <td>2110.533203</td>\n",
       "      <td>2180.323655</td>\n",
       "      <td>2276.372290</td>\n",
       "      <td>2334.204728</td>\n",
       "      <td>2353.686402</td>\n",
       "      <td>2423.888889</td>\n",
       "    </tr>\n",
       "    <tr>\n",
       "      <th>14</th>\n",
       "      <td>11373</td>\n",
       "      <td>NaN</td>\n",
       "      <td>NaN</td>\n",
       "      <td>NaN</td>\n",
       "      <td>NaN</td>\n",
       "      <td>NaN</td>\n",
       "      <td>NaN</td>\n",
       "      <td>NaN</td>\n",
       "      <td>NaN</td>\n",
       "      <td>NaN</td>\n",
       "      <td>...</td>\n",
       "      <td>2199.459063</td>\n",
       "      <td>2255.604528</td>\n",
       "      <td>2262.101623</td>\n",
       "      <td>2271.514956</td>\n",
       "      <td>2250.182334</td>\n",
       "      <td>2231.959479</td>\n",
       "      <td>2257.413993</td>\n",
       "      <td>2247.592851</td>\n",
       "      <td>2302.557354</td>\n",
       "      <td>2292.994444</td>\n",
       "    </tr>\n",
       "  </tbody>\n",
       "</table>\n",
       "<p>5 rows × 106 columns</p>\n",
       "</div>"
      ],
      "text/plain": [
       "    zipcode  20150131     20150228  20150331     20150430     20150531  \\\n",
       "4     11385       NaN  2087.527084       NaN  2149.924252  2166.263698   \n",
       "6     11208       NaN          NaN       NaN          NaN          NaN   \n",
       "12    11236       NaN          NaN       NaN          NaN          NaN   \n",
       "13    10467       NaN          NaN       NaN          NaN          NaN   \n",
       "14    11373       NaN          NaN       NaN          NaN          NaN   \n",
       "\n",
       "       20150630     20150731     20150831     20150930  ...     20221231  \\\n",
       "4   2148.992886  2190.098591  2264.966715  2297.900917  ...  2935.808220   \n",
       "6           NaN          NaN          NaN          NaN  ...  2508.670432   \n",
       "12          NaN          NaN          NaN          NaN  ...          NaN   \n",
       "13          NaN          NaN          NaN          NaN  ...  2145.642295   \n",
       "14          NaN          NaN          NaN          NaN  ...  2199.459063   \n",
       "\n",
       "       20230131     20230228     20230331     20230430     20230531  \\\n",
       "4   2895.699421  2873.209025  2881.906361  2913.546218  2963.964134   \n",
       "6   2588.030194  2613.790654  2585.561351  2633.200754  2672.038493   \n",
       "12          NaN          NaN          NaN          NaN          NaN   \n",
       "13  2155.617718  2172.346611  2160.962748  2110.533203  2180.323655   \n",
       "14  2255.604528  2262.101623  2271.514956  2250.182334  2231.959479   \n",
       "\n",
       "       20230630     20230731     20230831     20230930  \n",
       "4   3005.735342  3034.413822  3064.476503  3079.585783  \n",
       "6   2806.918757  2765.224364  2737.547470  2728.733333  \n",
       "12          NaN          NaN  2285.460026  2362.500000  \n",
       "13  2276.372290  2334.204728  2353.686402  2423.888889  \n",
       "14  2257.413993  2247.592851  2302.557354  2292.994444  \n",
       "\n",
       "[5 rows x 106 columns]"
      ]
     },
     "execution_count": 32,
     "metadata": {},
     "output_type": "execute_result"
    }
   ],
   "source": [
    "data_zillow.head()"
   ]
  },
  {
   "cell_type": "markdown",
   "id": "e685942c-26dc-40db-84c2-a71aa3340806",
   "metadata": {},
   "source": [
    "## Part 2: Storing Data"
   ]
  },
  {
   "cell_type": "code",
   "execution_count": 33,
   "id": "f349fbdd-67d0-40a4-97a0-d9b8c8ec8013",
   "metadata": {},
   "outputs": [
    {
     "name": "stdout",
     "output_type": "stream",
     "text": [
      "createdb: error: database creation failed: ERROR:  database \"GroupProject\" already exists\r\n"
     ]
    }
   ],
   "source": [
    "## first step: create database 'GroupProject'in PostgreSQL\n",
    "!createdb GroupProject"
   ]
  },
  {
   "cell_type": "code",
   "execution_count": 34,
   "id": "590ed80d-7b60-484f-a123-23b673b0f440",
   "metadata": {},
   "outputs": [
    {
     "name": "stdout",
     "output_type": "stream",
     "text": [
      "ERROR:  extension \"postgis\" already exists\r\n"
     ]
    }
   ],
   "source": [
    "!psql --dbname GroupProject -c 'CREATE EXTENSION postgis;'"
   ]
  },
  {
   "cell_type": "markdown",
   "id": "527a251c-f337-4b24-bb41-96ee4621a9bd",
   "metadata": {},
   "source": [
    "### Creating Tables\n",
    "\n",
    "\n",
    "These are just a couple of options to creating your tables; you can use one or the other, a different method, or a combination."
   ]
  },
  {
   "cell_type": "code",
   "execution_count": 65,
   "id": "490d0cc6-74b3-4d35-a454-57f647c9f8e3",
   "metadata": {},
   "outputs": [],
   "source": [
    "def create_tables(engine):\n",
    "    metadata = MetaData()\n",
    "\n",
    "    nyc_311 = Table(\n",
    "        'nyc_311', metadata,\n",
    "        Column('unique_key', Integer, primary_key=True),\n",
    "        Column('created_date', TIMESTAMP),\n",
    "        Column('complaint_type', String),\n",
    "        Column('zipcode', Integer),\n",
    "        Column('location', Geometry('POINT', srid=4326))\n",
    "    )\n",
    "\n",
    "    nyc_tree = Table(\n",
    "        'nyc_tree', metadata,\n",
    "        Column('tree_id', Integer, primary_key=True),\n",
    "        Column('status', String),\n",
    "        Column('health', String),\n",
    "        Column('species', String),\n",
    "        Column('zipcode', Integer),\n",
    "        Column('location', Geometry('POINT', srid=4326))\n",
    "    )\n",
    "\n",
    "    nyc_zipcode = Table(\n",
    "        'nyc_zipcode', metadata,\n",
    "        Column('zipcode', Integer, primary_key=True),\n",
    "        Column('location', Geometry('POLYGON', srid=4326))\n",
    "    )\n",
    "    \n",
    "    nyc_zillow = Table(\n",
    "        'nyc_zillow', metadata,\n",
    "        Column('zipcode', Integer, primary_key=True)\n",
    "    )\n",
    "\n",
    "    data_columns = data_zillow.columns[1:]\n",
    "    for data_column in data_columns:\n",
    "        nyc_zillow.append_column(Column(data_column, Float))\n",
    "\n",
    "    metadata.create_all(engine)"
   ]
  },
  {
   "cell_type": "code",
   "execution_count": 66,
   "id": "7759fefc",
   "metadata": {},
   "outputs": [],
   "source": [
    "def create_indexes(connection):\n",
    "    sql_create_indexes = \"\"\"\n",
    "    CREATE INDEX IF NOT EXISTS idx_nyc_311_location ON \"nyc_311\" USING gist (location);\n",
    "    CREATE INDEX IF NOT EXISTS idx_nyc_tree_location ON \"nyc_tree\" USING gist (location);\n",
    "    CREATE INDEX IF NOT EXISTS idx_nyc_zipcode_location ON \"nyc_zipcode\" USING gist (location);\n",
    "    \"\"\"\n",
    "\n",
    "    with connection.cursor() as cursor:\n",
    "        cursor.execute(sql_create_indexes)"
   ]
  },
  {
   "cell_type": "code",
   "execution_count": 67,
   "id": "f36d86f6-ff6e-4bb8-8fa2-df0d4282e959",
   "metadata": {},
   "outputs": [],
   "source": [
    "engine = create_engine(DB_URL)\n",
    "create_tables(engine)"
   ]
  },
  {
   "cell_type": "code",
   "execution_count": 68,
   "id": "48eacd37-4fd7-4768-b689-88b07d5c234e",
   "metadata": {},
   "outputs": [],
   "source": [
    "with psycopg2.connect(DB_URL) as connection:\n",
    "    create_indexes(connection)"
   ]
  },
  {
   "cell_type": "markdown",
   "id": "2e88a50c-9528-4a5c-9a52-b96781ee8985",
   "metadata": {},
   "source": [
    "### Add Data to Database"
   ]
  },
  {
   "cell_type": "code",
   "execution_count": 69,
   "id": "69e37800-cd95-44b5-9c21-eb7ac2b2e4ec",
   "metadata": {},
   "outputs": [],
   "source": [
    "def write_dataframes_to_table(df_name, table_name):\n",
    "    engine = create_engine(DB_URL)\n",
    "    \n",
    "    # if it cantains geometry data, use \"gpd.to_postgis\", else use \"pd.to_sql\"\n",
    "    try:\n",
    "        df_name.to_postgis(table_name, engine, if_exists='replace', index=False)\n",
    "    except:\n",
    "        df_name.to_sql(table_name, engine, if_exists='replace', index=False)"
   ]
  },
  {
   "cell_type": "code",
   "execution_count": 70,
   "id": "d1f042f5-8270-477d-929a-872f7d9a0bc8",
   "metadata": {},
   "outputs": [],
   "source": [
    "write_dataframes_to_table(data_311, 'nyc_311')\n",
    "write_dataframes_to_table(data_tree, 'nyc_tree')\n",
    "write_dataframes_to_table(data_zipcode,\"nyc_zipcode\")\n",
    "write_dataframes_to_table(data_zillow,\"nyc_zillow\")"
   ]
  },
  {
   "cell_type": "markdown",
   "id": "e4708cb4-d034-43b6-955b-a21d0eab74d4",
   "metadata": {},
   "source": [
    "#### Option 2: SQLAlchemy"
   ]
  },
  {
   "cell_type": "code",
   "execution_count": null,
   "id": "210ddbad-3b11-47a2-9245-935f482fa7ea",
   "metadata": {},
   "outputs": [],
   "source": [
    "Session = db.orm.sessionmaker(bind=engine)\n",
    "session = Session()"
   ]
  },
  {
   "cell_type": "code",
   "execution_count": null,
   "id": "3f2b21c6-59d9-4bae-8c33-ab4b49ff2b3a",
   "metadata": {},
   "outputs": [],
   "source": [
    "for row in geodf_tree_data.iterrows():\n",
    "    tree = Tree(...)\n",
    "    session.add(tree)"
   ]
  },
  {
   "cell_type": "code",
   "execution_count": null,
   "id": "83e4bfb9-4fbc-45fe-8a98-a760a22234f8",
   "metadata": {},
   "outputs": [],
   "source": [
    "session.commit()"
   ]
  },
  {
   "cell_type": "markdown",
   "id": "eb63b553-0c64-4da8-9fc7-41555d89d853",
   "metadata": {},
   "source": [
    "## Part 3: Understanding the Data"
   ]
  },
  {
   "cell_type": "markdown",
   "id": "7ac7e12b-e251-4f08-8dc5-601db30c2089",
   "metadata": {},
   "source": [
    "### Query 1"
   ]
  },
  {
   "cell_type": "code",
   "execution_count": null,
   "id": "d6ce8548-4aba-4bf9-992c-dedd0f249db4",
   "metadata": {},
   "outputs": [],
   "source": [
    "# Helper function to write the queries to file\n",
    "def write_query_to_file(query, outfile):\n",
    "    raise NotImplementedError()"
   ]
  },
  {
   "cell_type": "code",
   "execution_count": null,
   "id": "6605e6f3-ec42-4a8b-833c-5138c14b678b",
   "metadata": {},
   "outputs": [],
   "source": [
    "QUERY_1_FILENAME = QUERY_DIR / \"FILL_ME_IN\"\n",
    "\n",
    "QUERY_1 = \"\"\"\n",
    "FILL_ME_IN\n",
    "\"\"\""
   ]
  },
  {
   "cell_type": "code",
   "execution_count": null,
   "id": "ce044adf-ecdf-4237-9b20-b7cdaaab0c6c",
   "metadata": {},
   "outputs": [],
   "source": [
    "with engine.connect() as conn:\n",
    "    result = conn.execute(db.text(QUERY_1))\n",
    "    for row in result:\n",
    "        print(row)"
   ]
  },
  {
   "cell_type": "code",
   "execution_count": null,
   "id": "4b7b2c3d-8961-4c7e-8eb1-fc973d0ab9c1",
   "metadata": {},
   "outputs": [],
   "source": [
    "write_query_to_file(QUERY_1, QUERY_1_FILENAME)"
   ]
  },
  {
   "cell_type": "markdown",
   "id": "75223ce5-6ab5-4613-b6af-fa8e33bcc7d5",
   "metadata": {},
   "source": [
    "## Part 4: Visualizing the Data"
   ]
  },
  {
   "cell_type": "markdown",
   "id": "b21fcfed-ddbb-4908-a60e-ed7cbc6d5b00",
   "metadata": {},
   "source": [
    "### Visualization 1"
   ]
  },
  {
   "cell_type": "code",
   "execution_count": null,
   "id": "6f0e2cde-e43b-407b-ab93-ff85a2dba469",
   "metadata": {},
   "outputs": [],
   "source": [
    "# use a more descriptive name for your function\n",
    "def plot_visual_1(dataframe):\n",
    "    figure, axes = plt.subplots(figsize=(20, 10))\n",
    "    \n",
    "    values = \"...\"  # use the dataframe to pull out values needed to plot\n",
    "    \n",
    "    # you may want to use matplotlib to plot your visualizations;\n",
    "    # there are also many other plot types (other \n",
    "    # than axes.plot) you can use\n",
    "    axes.plot(values, \"...\")\n",
    "    # there are other methods to use to label your axes, to style \n",
    "    # and set up axes labels, etc\n",
    "    axes.set_title(\"Some Descriptive Title\")\n",
    "    \n",
    "    plt.show()"
   ]
  },
  {
   "cell_type": "code",
   "execution_count": null,
   "id": "ed80755f-d1e1-4e53-8ef8-f5295c59a3fe",
   "metadata": {},
   "outputs": [],
   "source": [
    "def get_data_for_visual_1():\n",
    "    # Query your database for the data needed.\n",
    "    # You can put the data queried into a pandas/geopandas dataframe, if you wish\n",
    "    raise NotImplementedError()"
   ]
  },
  {
   "cell_type": "code",
   "execution_count": null,
   "id": "f6a2632a-b516-4a6e-8b67-97116ab6fce4",
   "metadata": {},
   "outputs": [],
   "source": [
    "some_dataframe = get_data_for_visual_1()\n",
    "plot_visual_1(some_dataframe)"
   ]
  }
 ],
 "metadata": {
  "kernelspec": {
   "display_name": "Python 3 (ipykernel)",
   "language": "python",
   "name": "python3"
  },
  "language_info": {
   "codemirror_mode": {
    "name": "ipython",
    "version": 3
   },
   "file_extension": ".py",
   "mimetype": "text/x-python",
   "name": "python",
   "nbconvert_exporter": "python",
   "pygments_lexer": "ipython3",
   "version": "3.11.5"
  }
 },
 "nbformat": 4,
 "nbformat_minor": 5
}
