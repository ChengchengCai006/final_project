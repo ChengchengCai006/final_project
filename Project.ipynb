{
 "cells": [
  {
   "cell_type": "markdown",
   "id": "d4c5a136-e872-4846-9965-9ddc5251a0b3",
   "metadata": {},
   "source": [
    "# NYC Apartment Search\n",
    "\n",
    "_[Project prompt](https://docs.google.com/document/d/1uAUJGEUzfNj6OsWNAimnYCw7eKaHhMUfU1MTj9YwYw4/edit?usp=sharing), [grading rubric](https://docs.google.com/document/d/1UYkYtDtHJS2nzodDjJ3X3c2AdYNuj3ueki58p_hQGhA/edit)_\n",
    "\n",
    "\n",
    "**Background:**\n",
    "\n",
    "Imagine your apartment lease is ending at the close of the year, and the search for a new apartment is on. To narrow down potential neighborhoods, you've identified key criteria that matter to you.\n",
    "\n",
    "**Goals:**\n",
    "\n",
    "- quiet neighborhood (relating to dataset of `311 complaints`)\n",
    "- a lot of greenery (relating to dataset of `2015 tree census`) \n",
    "- within budget (relating to dataset of `Zillow`)"
   ]
  },
  {
   "cell_type": "markdown",
   "id": "bdf11fa0-4684-4f5e-8048-0f4cc5f4f243",
   "metadata": {},
   "source": [
    "## Setup"
   ]
  },
  {
   "cell_type": "code",
   "execution_count": 4,
   "id": "0f675d4b-794e-407c-aac9-b85c4a3975d2",
   "metadata": {},
   "outputs": [],
   "source": [
    "# All import statements needed for the project\n",
    "import pathlib\n",
    "import pandas as pd\n",
    "import geopandas as gpd\n",
    "from geopandas import GeoDataFrame\n",
    "import matplotlib.pyplot as plt\n",
    "import requests\n",
    "import re\n",
    "import psycopg2\n",
    "import shapely\n",
    "import folium\n",
    "\n",
    "from sqlalchemy import create_engine, MetaData, Table, Column, Integer, String, Float, TIMESTAMP, Date, text\n",
    "from geoalchemy2 import Geometry, WKTElement\n",
    "from datetime import datetime, timedelta\n",
    "from shapely.geometry import Point\n",
    "from shapely.wkb import dumps\n",
    "from pathlib import Path\n",
    "from geopy.distance import geodesic"
   ]
  },
  {
   "cell_type": "code",
   "execution_count": 5,
   "id": "70a62277-51cf-48a2-81d2-9b2127088a7e",
   "metadata": {},
   "outputs": [],
   "source": [
    "# Any constants you might need; some have been added for you\n",
    "\n",
    "## File Path\n",
    "DATA_DIR = pathlib.Path(\"data\")\n",
    "ZIPCODE_DATA_FILE = DATA_DIR / \"nyc_zipcodes.shp\"\n",
    "ZILLOW_DATA_FILE = DATA_DIR / \"zillow_rent_data.csv\"\n",
    "\n",
    "## Application token and json url for downloading nyc_311 and nyc_tree\n",
    "NYC_DATA_APP_TOKEN = \"NJflFVV2YiwlXmMlt4Y9jwTGO\"\n",
    "API_311 = 'https://data.cityofnewyork.us/resource/erm2-nwe9.json'\n",
    "API_TREE='https://data.cityofnewyork.us/resource/uvpi-gqnh.json'\n",
    "\n",
    "## Soql for NYC_311 and NYC_TREE Download\n",
    "SOQL_BASE_QUERY_311 = f\"{API_311}?$where=created_date between '2015-01-01T00:00:00' and '2023-10-31T00:00:00'&$limit=1000000\"\n",
    "SOQL_QUERIES_311 = {f\"query_{i}\": f\"{SOQL_BASE_QUERY_311}&$offset={(i-1)*1000000}\" for i in range(1, 26)}\n",
    "SOQL_QUERY_TREE=f\"{API_TREE}?$where=created_at between '2015-01-01T00:00:00' and '2015-12-31T23:59:59'&$limit=1000000000\"\n",
    "\n",
    "## Postgresql Database information\n",
    "DB_NAME = \"GroupProject\"\n",
    "DB_USER = 'postgres'\n",
    "DB_PASSWORD = ''\n",
    "DB_HOST = 'localhost'\n",
    "DB_URL=f'postgresql://{DB_USER}:{DB_PASSWORD}@{DB_HOST}/{DB_NAME}'\n",
    "\n",
    "## Database schema file\n",
    "DB_SCHEMA_FILE = \"schema.sql\"\n",
    "\n",
    "## campus geometry information\n",
    "latitude = 40.80737875669467\n",
    "longitude = -73.96253174434912\n",
    "point = Point(longitude, latitude)\n",
    "point_wkt = f\"POINT({longitude} {latitude})\"\n",
    "point_wkb = dumps(point, hex=True)\n",
    "\n",
    "## directory where DB queries for Part 3 will be saved\n",
    "QUERY_DIR = pathlib.Path(\"queries\")"
   ]
  },
  {
   "cell_type": "code",
   "execution_count": 6,
   "id": "cd67cca9-ec72-44e3-83b8-b65f1ed5bb2f",
   "metadata": {},
   "outputs": [],
   "source": [
    "# Make sure the QUERY_DIRECTORY exists\n",
    "if not QUERY_DIR.exists():\n",
    "    QUERY_DIR.mkdir()"
   ]
  },
  {
   "cell_type": "markdown",
   "id": "52476a07-9bf2-4b7a-8cb7-93648bb4d303",
   "metadata": {},
   "source": [
    "## Part 1: Data Preprocessing\n",
    "\n",
    "In Part 1, we processed four datasets: **NYC311**, **NYCTree**, **NYC Zipcode**, and **NYC Zillow**."
   ]
  },
  {
   "cell_type": "markdown",
   "id": "7e08fe1c",
   "metadata": {},
   "source": [
    "### 1. Download and Clean NYC_311\n",
    "- **Download:**\n",
    "  - Implemented a function `download_nyc_json_data` using application tokens and API URLs to retrieve JSON data, converting it to a DataFrame.\n",
    "  - Executed `download_311_data` to handle the large dataset. It utilized SOQL queries to download 1 million records at a time, repeating this 25 times. Each batch was saved as a CSV file to manage the dataset's size efficiently.\n",
    "\n",
    "- **Clean:**\n",
    "  - Implemented function `load_and_clean_311_data` \n",
    "      - read and concatenate all saved CSV files into a single DataFrame.\n",
    "      - Selected columns (`unique_key`, `created_date`, `complaint_type`, `incident_zip`, `latitude`, `longitude`) and created a new 'location' column using GeoPandas for spatial data representation.\n",
    "      - Dropped the original `latitude` and `longitude` columns and renamed `incident_zip` to `zipcode`.\n",
    "      - Removed rows with missing zip codes and converted the data types of columns (`unique_key`, `created_date`, `complaint_type`, `zipcode`) for consistency and accuracy.\n",
    "      - Transformed the DataFrame into a GeoDataFrame with 'location' as the geometry column for spatial analysis.\n"
   ]
  },
  {
   "cell_type": "code",
   "execution_count": 7,
   "id": "63b18f12-c0ce-4b9c-adc1-805703edc575",
   "metadata": {},
   "outputs": [],
   "source": [
    "# this function is used to download json url using application token\n",
    "def download_nyc_json_data(query: str) -> pd.DataFrame:\n",
    "    headers = {'X-App-Token': NYC_DATA_APP_TOKEN }\n",
    "    response = requests.get(query, headers=headers)\n",
    "    df = pd.read_json(response.text)\n",
    "    return df"
   ]
  },
  {
   "cell_type": "code",
   "execution_count": 8,
   "id": "e56cca4c",
   "metadata": {},
   "outputs": [],
   "source": [
    "# this function is used download nyc_311 data\n",
    "def download_311_data(queries_dict: dict):\n",
    "    for query_name, query in queries_dict.items():\n",
    "        query_df = download_nyc_json_data(query)\n",
    "        query_df.to_csv(f\"{query_name}_data.csv\", index=False)"
   ]
  },
  {
   "cell_type": "code",
   "execution_count": 9,
   "id": "39c96195",
   "metadata": {},
   "outputs": [],
   "source": [
    "# this function is used to load and clean 311 data\n",
    "def load_and_clean_311_data() -> GeoDataFrame:\n",
    "    ## read and concat all 311 data, which previously saved as csv file\n",
    "    all_data = pd.concat([pd.read_csv(f\"{query_name}_data.csv\", low_memory=False) for query_name in SOQL_QUERIES_311], ignore_index=True)\n",
    "    \n",
    "    ## choose columns which will be used for later analysis\n",
    "    data_311 = all_data[['unique_key', 'created_date', 'complaint_type', 'incident_zip', 'latitude', 'longitude']].copy()\n",
    "\n",
    "    # Create a new column 'location' without modifying the original DataFrame\n",
    "    data_311['location'] = gpd.points_from_xy(data_311['longitude'], data_311['latitude'], crs=\"EPSG:4326\")\n",
    "\n",
    "    # Drop latitude and longitude columns\n",
    "    data_311 = data_311.drop(['latitude', 'longitude'], axis=1)\n",
    "\n",
    "    # Rename columns\n",
    "    data_311 = data_311.rename(columns={\"incident_zip\": \"zipcode\"})\n",
    "\n",
    "    # Drop rows with missing zip codes\n",
    "    data_311['zipcode'] = pd.to_numeric(data_311['zipcode'], errors='coerce')\n",
    "    data_311 = data_311.dropna(subset=['zipcode'])\n",
    "\n",
    "    # Change data types\n",
    "    convert_dict = {'unique_key': int, 'created_date': 'datetime64[ns]', 'complaint_type': str, 'zipcode': int}\n",
    "    data_311 = data_311.astype(convert_dict)\n",
    "\n",
    "    # Create GeoDataFrame with 'location' as the geometry column\n",
    "    geo_data_311 = gpd.GeoDataFrame(data_311, geometry='location')\n",
    "\n",
    "    return geo_data_311"
   ]
  },
  {
   "cell_type": "markdown",
   "id": "673fbbd9",
   "metadata": {},
   "source": [
    "### 2. Download and Clean NYC_tree\n",
    "- **Download:**\n",
    "  - Utilized the `download_nyc_json_data` function with application tokens, API URLs, and a SOQL query specifically designed to retrieve tree data for the year 2015.\n",
    "\n",
    "- **Clean:**\n",
    "  - Selected relevant columns: `tree_id`, `status`, `health`, `spc_common` (species), `zipcode`, `latitude`, and `longitude`.\n",
    "  - Transformed latitude and longitude data into a GeoDataFrame with a 'location' column using GeoPandas, representing each tree's spatial data.\n",
    "  - Dropped the original `latitude` and `longitude` columns for data efficiency.\n",
    "  - Renamed the column `spc_common` to `species` for clarity and consistency.\n"
   ]
  },
  {
   "cell_type": "code",
   "execution_count": 10,
   "id": "ee245240-2fbb-45b8-9a92-4e2368f62c60",
   "metadata": {},
   "outputs": [],
   "source": [
    "# this function is used to load and clean tree data\n",
    "def download_and_clean_tree_data() -> GeoDataFrame:\n",
    "    # Download tree data for the year 2015\n",
    "    tree_data = download_nyc_json_data(SOQL_QUERY_TREE)\n",
    "\n",
    "    # Select relevant columns\n",
    "    selected_columns = ['tree_id', 'status', 'health', 'spc_common', 'zipcode', 'latitude', 'longitude']\n",
    "    tree_data = tree_data[selected_columns]\n",
    "\n",
    "    # Convert latitude and longitude to a GeoDataFrame with a 'location' column\n",
    "    tree_data['location'] = gpd.points_from_xy(tree_data['longitude'], tree_data['latitude'], crs=\"EPSG:4326\")\n",
    "\n",
    "    # Drop latitude and longitude columns\n",
    "    tree_data = tree_data.drop(['latitude', 'longitude'], axis=1)\n",
    "\n",
    "    # Rename columns\n",
    "    tree_data = tree_data.rename(columns={\"spc_common\": \"species\"})\n",
    "\n",
    "    return gpd.GeoDataFrame(tree_data, geometry='location')"
   ]
  },
  {
   "cell_type": "markdown",
   "id": "ea06c46a",
   "metadata": {},
   "source": [
    "### 3. Load and Clean NYC_Zipcode\n",
    "\n",
    "- **Load:**\n",
    "  - Imported zipcode data using GeoPandas’ `read_file` function, with error handling to catch and report any issues during the import process.\n",
    "\n",
    "- **Clean:**\n",
    "  - Selected only the necessary columns: `ZIPCODE` and `geometry`, and renamed them to `zipcode` and `location` for clarity.\n",
    "  - Converted the data into a GeoDataFrame, setting `location` as the geometry column.\n",
    "  - Updated the coordinate reference system to `EPSG:4326` for consistent spatial data representation.\n",
    "  - Changed the data type of `zipcode` to integer for accurate data handling.\n",
    "  - Eliminated duplicate entries in the `zipcode` column to ensure data uniqueness and integrity.\n"
   ]
  },
  {
   "cell_type": "code",
   "execution_count": 11,
   "id": "747ff49f-a18b-4fc0-8da6-6834a10d11ce",
   "metadata": {},
   "outputs": [],
   "source": [
    "# this function is used to load and clean zipcode data\n",
    "def load_and_clean_zipcodes_data(zipcode_datafile: Path) -> GeoDataFrame or None: \n",
    "    try:\n",
    "        data = gpd.read_file(zipcode_datafile)\n",
    "        \n",
    "        # Select relevant columns and rename them\n",
    "        data_nyc = data[['ZIPCODE', 'geometry']].rename(\n",
    "            columns={\"ZIPCODE\": \"zipcode\", \"geometry\": \"location\"})\n",
    "        \n",
    "        # Create GeoDataFrame with the selected and renamed columns\n",
    "        zipcode_nyc = gpd.GeoDataFrame(data_nyc, geometry='location')\n",
    "        \n",
    "        # Change data types and coordinate reference system\n",
    "        zipcode_nyc = zipcode_nyc.to_crs(epsg=4326)\n",
    "        zipcode_nyc = zipcode_nyc.astype({'zipcode': int})\n",
    "        \n",
    "        # Drop duplicate zipcodes, keeping the first occurrence\n",
    "        zipcode_nyc = zipcode_nyc.drop_duplicates(subset=['zipcode'])\n",
    "        \n",
    "        return zipcode_nyc\n",
    "    \n",
    "    except Exception as e:\n",
    "        print(f\"Error: {e}. Could not read file: {zipcode_datafile}\")\n",
    "        return None"
   ]
  },
  {
   "cell_type": "markdown",
   "id": "22d98610",
   "metadata": {},
   "source": [
    "### 4. Load and Clean NYC_Zillow\n",
    "\n",
    "- **Load:**\n",
    "  - Utilized Pandas to read the Zillow dataset from a specified CSV file (`zillow_datafile`).\n",
    "\n",
    "- **Clean:**\n",
    "  - Filtered the dataset to include only entries for New York City.\n",
    "  - Isolated relevant columns, focusing on `RegionName` and all numeric columns representing dates.\n",
    "  - Transformed the dataset using the `melt` function in Pandas, converting date columns into rows for a more streamlined structure. The columns for this transformation were `RegionName` as `id_vars` and the numeric columns as values.\n",
    "  - Dropped rows with missing values in the newly created `rent` column to maintain data integrity.\n",
    "  - Renamed the `RegionName` column to `zipcode` for clarity and alignment with other datasets.\n",
    "  - Converted the `recorded_date` column to a datetime format to facilitate time-based analysis.\n"
   ]
  },
  {
   "cell_type": "code",
   "execution_count": 12,
   "id": "c9681a41",
   "metadata": {},
   "outputs": [],
   "source": [
    "# this function is used to load and clean zillow data\n",
    "def load_and_clean_zillow_data(zillow_datafile: Path)->pd.DataFrame:\n",
    "    data = pd.read_csv(zillow_datafile)\n",
    "    \n",
    "    # Only get the data of \"NY\" state\n",
    "    zillow_data_NY = data[data.City == \"New York\"]\n",
    "    \n",
    "    # Get DataFrame containing selected columns and all numeric columns\n",
    "    numeric_columns = data.filter(regex='^\\d').columns.tolist()\n",
    "    zillow_NY_dataset = zillow_data_NY[[\"RegionName\"] + numeric_columns]\n",
    "    \n",
    "    # Melt the DataFrame to transform the date columns into rows\n",
    "    zillow_NY_dataset_melted = pd.melt(zillow_NY_dataset, id_vars=[\"RegionName\"], var_name=\"recorded_date\", value_name=\"rent\")\n",
    "    \n",
    "    # Drop rows with missing values in the \"value\" column\n",
    "    zillow_NY_dataset_melted = zillow_NY_dataset_melted.dropna(subset=[\"rent\"])\n",
    "    \n",
    "    # Rename some columns\n",
    "    zillow_NY_dataset_melted = zillow_NY_dataset_melted.rename(columns={\"RegionName\": \"zipcode\"})\n",
    "    \n",
    "    # Convert \"date\" column to date format\n",
    "    zillow_NY_dataset_melted[\"recorded_date\"] = pd.to_datetime(zillow_NY_dataset_melted[\"recorded_date\"])\n",
    "    \n",
    "    return zillow_NY_dataset_melted"
   ]
  },
  {
   "cell_type": "markdown",
   "id": "120e60ce",
   "metadata": {},
   "source": [
    "### 5. Load all data\n",
    "- **Load Data:**\n",
    "  - Utilize the previously set functions to load each dataset.\n",
    "\n",
    "- **Verify Data:**\n",
    "  - For each loaded dataset, perform the following checks:\n",
    "    1. **Display Info:**\n",
    "       - Use the `.info()` method to get an overview of each dataset. This includes details like column names, data types, and the number of non-null values, which are crucial for assessing data completeness and structure.\n",
    "    2. **Display Initial Rows:**\n",
    "       - Employ the `.head()` method to view the first few rows of each dataset. This step is important for a preliminary check to ensure that the data is loaded correctly and matches the expected format.\n"
   ]
  },
  {
   "cell_type": "code",
   "execution_count": 13,
   "id": "345ebc2c-14f1-490c-9857-11f1e332e3bc",
   "metadata": {},
   "outputs": [],
   "source": [
    "## this function is used to load all dataset\n",
    "def load_all_data()-> GeoDataFrame or pd.DataFrame:\n",
    "    data_311 = load_and_clean_311_data()\n",
    "    data_tree = download_and_clean_tree_data()\n",
    "    data_zipcode = load_and_clean_zipcodes_data(ZIPCODE_DATA_FILE)\n",
    "    data_zillow = load_and_clean_zillow_data(ZILLOW_DATA_FILE)\n",
    "    \n",
    "    return (\n",
    "        data_311,\n",
    "        data_tree,\n",
    "        data_zipcode,\n",
    "        data_zillow\n",
    "    )"
   ]
  },
  {
   "cell_type": "code",
   "execution_count": 14,
   "id": "f2768bc8-4130-4298-be28-13d4b250a666",
   "metadata": {},
   "outputs": [],
   "source": [
    "data_311, data_tree, data_zipcode, data_zillow = load_all_data()"
   ]
  },
  {
   "cell_type": "code",
   "execution_count": 15,
   "id": "23ad8bbc-bf91-457e-97db-a945fabeee29",
   "metadata": {},
   "outputs": [
    {
     "name": "stdout",
     "output_type": "stream",
     "text": [
      "<class 'geopandas.geodataframe.GeoDataFrame'>\n",
      "Int64Index: 23807000 entries, 0 to 24627961\n",
      "Data columns (total 5 columns):\n",
      " #   Column          Dtype         \n",
      "---  ------          -----         \n",
      " 0   unique_key      int64         \n",
      " 1   created_date    datetime64[ns]\n",
      " 2   complaint_type  object        \n",
      " 3   zipcode         int64         \n",
      " 4   location        geometry      \n",
      "dtypes: datetime64[ns](1), geometry(1), int64(2), object(1)\n",
      "memory usage: 1.1+ GB\n"
     ]
    }
   ],
   "source": [
    "# Show basic info about 311 dataframe\n",
    "data_311.info()"
   ]
  },
  {
   "cell_type": "code",
   "execution_count": 16,
   "id": "ec68f4be-f365-46c1-91a1-ab75deb75ff4",
   "metadata": {},
   "outputs": [
    {
     "data": {
      "text/html": [
       "<div>\n",
       "<style scoped>\n",
       "    .dataframe tbody tr th:only-of-type {\n",
       "        vertical-align: middle;\n",
       "    }\n",
       "\n",
       "    .dataframe tbody tr th {\n",
       "        vertical-align: top;\n",
       "    }\n",
       "\n",
       "    .dataframe thead th {\n",
       "        text-align: right;\n",
       "    }\n",
       "</style>\n",
       "<table border=\"1\" class=\"dataframe\">\n",
       "  <thead>\n",
       "    <tr style=\"text-align: right;\">\n",
       "      <th></th>\n",
       "      <th>unique_key</th>\n",
       "      <th>created_date</th>\n",
       "      <th>complaint_type</th>\n",
       "      <th>zipcode</th>\n",
       "      <th>location</th>\n",
       "    </tr>\n",
       "  </thead>\n",
       "  <tbody>\n",
       "    <tr>\n",
       "      <th>0</th>\n",
       "      <td>59288833</td>\n",
       "      <td>2023-10-31</td>\n",
       "      <td>Food Poisoning</td>\n",
       "      <td>11103</td>\n",
       "      <td>POINT (-73.91848 40.75963)</td>\n",
       "    </tr>\n",
       "    <tr>\n",
       "      <th>1</th>\n",
       "      <td>59285818</td>\n",
       "      <td>2023-10-31</td>\n",
       "      <td>Food Poisoning</td>\n",
       "      <td>10016</td>\n",
       "      <td>POINT (-73.97879 40.74432)</td>\n",
       "    </tr>\n",
       "    <tr>\n",
       "      <th>2</th>\n",
       "      <td>59287303</td>\n",
       "      <td>2023-10-31</td>\n",
       "      <td>Food Poisoning</td>\n",
       "      <td>10280</td>\n",
       "      <td>POINT (-74.01598 40.71110)</td>\n",
       "    </tr>\n",
       "    <tr>\n",
       "      <th>3</th>\n",
       "      <td>59287302</td>\n",
       "      <td>2023-10-31</td>\n",
       "      <td>Food Poisoning</td>\n",
       "      <td>11372</td>\n",
       "      <td>POINT (-73.89328 40.74881)</td>\n",
       "    </tr>\n",
       "    <tr>\n",
       "      <th>4</th>\n",
       "      <td>59285819</td>\n",
       "      <td>2023-10-31</td>\n",
       "      <td>Food Poisoning</td>\n",
       "      <td>10021</td>\n",
       "      <td>POINT (-73.95441 40.76886)</td>\n",
       "    </tr>\n",
       "  </tbody>\n",
       "</table>\n",
       "</div>"
      ],
      "text/plain": [
       "   unique_key created_date  complaint_type  zipcode  \\\n",
       "0    59288833   2023-10-31  Food Poisoning    11103   \n",
       "1    59285818   2023-10-31  Food Poisoning    10016   \n",
       "2    59287303   2023-10-31  Food Poisoning    10280   \n",
       "3    59287302   2023-10-31  Food Poisoning    11372   \n",
       "4    59285819   2023-10-31  Food Poisoning    10021   \n",
       "\n",
       "                     location  \n",
       "0  POINT (-73.91848 40.75963)  \n",
       "1  POINT (-73.97879 40.74432)  \n",
       "2  POINT (-74.01598 40.71110)  \n",
       "3  POINT (-73.89328 40.74881)  \n",
       "4  POINT (-73.95441 40.76886)  "
      ]
     },
     "execution_count": 16,
     "metadata": {},
     "output_type": "execute_result"
    }
   ],
   "source": [
    "# Show first 5 entries about 311 dataframe\n",
    "data_311.head()"
   ]
  },
  {
   "cell_type": "code",
   "execution_count": 17,
   "id": "6a803b68-2f07-44b8-8b24-d4f16c9e03fe",
   "metadata": {},
   "outputs": [
    {
     "name": "stdout",
     "output_type": "stream",
     "text": [
      "<class 'geopandas.geodataframe.GeoDataFrame'>\n",
      "RangeIndex: 509525 entries, 0 to 509524\n",
      "Data columns (total 6 columns):\n",
      " #   Column    Non-Null Count   Dtype   \n",
      "---  ------    --------------   -----   \n",
      " 0   tree_id   509525 non-null  int64   \n",
      " 1   status    509525 non-null  object  \n",
      " 2   health    485498 non-null  object  \n",
      " 3   species   485498 non-null  object  \n",
      " 4   zipcode   509525 non-null  int64   \n",
      " 5   location  509525 non-null  geometry\n",
      "dtypes: geometry(1), int64(2), object(3)\n",
      "memory usage: 23.3+ MB\n"
     ]
    }
   ],
   "source": [
    "# Show basic info about tree dataframe\n",
    "data_tree.info()"
   ]
  },
  {
   "cell_type": "code",
   "execution_count": 18,
   "id": "14705df9-ea77-4d57-ac8e-1845f80a216d",
   "metadata": {},
   "outputs": [
    {
     "data": {
      "text/html": [
       "<div>\n",
       "<style scoped>\n",
       "    .dataframe tbody tr th:only-of-type {\n",
       "        vertical-align: middle;\n",
       "    }\n",
       "\n",
       "    .dataframe tbody tr th {\n",
       "        vertical-align: top;\n",
       "    }\n",
       "\n",
       "    .dataframe thead th {\n",
       "        text-align: right;\n",
       "    }\n",
       "</style>\n",
       "<table border=\"1\" class=\"dataframe\">\n",
       "  <thead>\n",
       "    <tr style=\"text-align: right;\">\n",
       "      <th></th>\n",
       "      <th>tree_id</th>\n",
       "      <th>status</th>\n",
       "      <th>health</th>\n",
       "      <th>species</th>\n",
       "      <th>zipcode</th>\n",
       "      <th>location</th>\n",
       "    </tr>\n",
       "  </thead>\n",
       "  <tbody>\n",
       "    <tr>\n",
       "      <th>0</th>\n",
       "      <td>180683</td>\n",
       "      <td>Alive</td>\n",
       "      <td>Fair</td>\n",
       "      <td>red maple</td>\n",
       "      <td>11375</td>\n",
       "      <td>POINT (-73.84422 40.72309)</td>\n",
       "    </tr>\n",
       "    <tr>\n",
       "      <th>1</th>\n",
       "      <td>200540</td>\n",
       "      <td>Alive</td>\n",
       "      <td>Fair</td>\n",
       "      <td>pin oak</td>\n",
       "      <td>11357</td>\n",
       "      <td>POINT (-73.81868 40.79411)</td>\n",
       "    </tr>\n",
       "    <tr>\n",
       "      <th>2</th>\n",
       "      <td>204026</td>\n",
       "      <td>Alive</td>\n",
       "      <td>Good</td>\n",
       "      <td>honeylocust</td>\n",
       "      <td>11211</td>\n",
       "      <td>POINT (-73.93661 40.71758)</td>\n",
       "    </tr>\n",
       "    <tr>\n",
       "      <th>3</th>\n",
       "      <td>204337</td>\n",
       "      <td>Alive</td>\n",
       "      <td>Good</td>\n",
       "      <td>honeylocust</td>\n",
       "      <td>11211</td>\n",
       "      <td>POINT (-73.93446 40.71354)</td>\n",
       "    </tr>\n",
       "    <tr>\n",
       "      <th>4</th>\n",
       "      <td>189565</td>\n",
       "      <td>Alive</td>\n",
       "      <td>Good</td>\n",
       "      <td>American linden</td>\n",
       "      <td>11215</td>\n",
       "      <td>POINT (-73.97598 40.66678)</td>\n",
       "    </tr>\n",
       "  </tbody>\n",
       "</table>\n",
       "</div>"
      ],
      "text/plain": [
       "   tree_id status health          species  zipcode                    location\n",
       "0   180683  Alive   Fair        red maple    11375  POINT (-73.84422 40.72309)\n",
       "1   200540  Alive   Fair          pin oak    11357  POINT (-73.81868 40.79411)\n",
       "2   204026  Alive   Good      honeylocust    11211  POINT (-73.93661 40.71758)\n",
       "3   204337  Alive   Good      honeylocust    11211  POINT (-73.93446 40.71354)\n",
       "4   189565  Alive   Good  American linden    11215  POINT (-73.97598 40.66678)"
      ]
     },
     "execution_count": 18,
     "metadata": {},
     "output_type": "execute_result"
    }
   ],
   "source": [
    "# Show first 5 entries about tree dataframe\n",
    "data_tree.head()"
   ]
  },
  {
   "cell_type": "code",
   "execution_count": 19,
   "id": "e6006cd2-3a00-4660-8d2a-a660b9bfd91e",
   "metadata": {},
   "outputs": [
    {
     "name": "stdout",
     "output_type": "stream",
     "text": [
      "<class 'geopandas.geodataframe.GeoDataFrame'>\n",
      "Int64Index: 248 entries, 0 to 262\n",
      "Data columns (total 2 columns):\n",
      " #   Column    Non-Null Count  Dtype   \n",
      "---  ------    --------------  -----   \n",
      " 0   zipcode   248 non-null    int64   \n",
      " 1   location  248 non-null    geometry\n",
      "dtypes: geometry(1), int64(1)\n",
      "memory usage: 5.8 KB\n"
     ]
    }
   ],
   "source": [
    "# Show basic info about zipcode dataframe\n",
    "data_zipcode.info()"
   ]
  },
  {
   "cell_type": "code",
   "execution_count": 20,
   "id": "07f880ef-c5fc-4159-8174-21ccd44f492d",
   "metadata": {},
   "outputs": [
    {
     "data": {
      "text/html": [
       "<div>\n",
       "<style scoped>\n",
       "    .dataframe tbody tr th:only-of-type {\n",
       "        vertical-align: middle;\n",
       "    }\n",
       "\n",
       "    .dataframe tbody tr th {\n",
       "        vertical-align: top;\n",
       "    }\n",
       "\n",
       "    .dataframe thead th {\n",
       "        text-align: right;\n",
       "    }\n",
       "</style>\n",
       "<table border=\"1\" class=\"dataframe\">\n",
       "  <thead>\n",
       "    <tr style=\"text-align: right;\">\n",
       "      <th></th>\n",
       "      <th>zipcode</th>\n",
       "      <th>location</th>\n",
       "    </tr>\n",
       "  </thead>\n",
       "  <tbody>\n",
       "    <tr>\n",
       "      <th>0</th>\n",
       "      <td>11436</td>\n",
       "      <td>POLYGON ((-73.80585 40.68291, -73.80569 40.682...</td>\n",
       "    </tr>\n",
       "    <tr>\n",
       "      <th>1</th>\n",
       "      <td>11213</td>\n",
       "      <td>POLYGON ((-73.93740 40.67973, -73.93487 40.679...</td>\n",
       "    </tr>\n",
       "    <tr>\n",
       "      <th>2</th>\n",
       "      <td>11212</td>\n",
       "      <td>POLYGON ((-73.90294 40.67084, -73.90223 40.668...</td>\n",
       "    </tr>\n",
       "    <tr>\n",
       "      <th>3</th>\n",
       "      <td>11225</td>\n",
       "      <td>POLYGON ((-73.95797 40.67066, -73.95576 40.670...</td>\n",
       "    </tr>\n",
       "    <tr>\n",
       "      <th>4</th>\n",
       "      <td>11218</td>\n",
       "      <td>POLYGON ((-73.97208 40.65060, -73.97192 40.650...</td>\n",
       "    </tr>\n",
       "  </tbody>\n",
       "</table>\n",
       "</div>"
      ],
      "text/plain": [
       "   zipcode                                           location\n",
       "0    11436  POLYGON ((-73.80585 40.68291, -73.80569 40.682...\n",
       "1    11213  POLYGON ((-73.93740 40.67973, -73.93487 40.679...\n",
       "2    11212  POLYGON ((-73.90294 40.67084, -73.90223 40.668...\n",
       "3    11225  POLYGON ((-73.95797 40.67066, -73.95576 40.670...\n",
       "4    11218  POLYGON ((-73.97208 40.65060, -73.97192 40.650..."
      ]
     },
     "execution_count": 20,
     "metadata": {},
     "output_type": "execute_result"
    }
   ],
   "source": [
    "# Show first 5 entries about zipcode dataframe\n",
    "data_zipcode.head()"
   ]
  },
  {
   "cell_type": "code",
   "execution_count": 21,
   "id": "59724f74-5f1e-435c-b843-f381a875dd4a",
   "metadata": {},
   "outputs": [
    {
     "name": "stdout",
     "output_type": "stream",
     "text": [
      "<class 'pandas.core.frame.DataFrame'>\n",
      "Int64Index: 9039 entries, 5 to 15224\n",
      "Data columns (total 3 columns):\n",
      " #   Column         Non-Null Count  Dtype         \n",
      "---  ------         --------------  -----         \n",
      " 0   zipcode        9039 non-null   int64         \n",
      " 1   recorded_date  9039 non-null   datetime64[ns]\n",
      " 2   rent           9039 non-null   float64       \n",
      "dtypes: datetime64[ns](1), float64(1), int64(1)\n",
      "memory usage: 282.5 KB\n"
     ]
    }
   ],
   "source": [
    "# Show basic info about zillow dataframe\n",
    "data_zillow.info()"
   ]
  },
  {
   "cell_type": "code",
   "execution_count": 22,
   "id": "e29ae5d9-9768-4590-a2f2-dd63b07dd712",
   "metadata": {},
   "outputs": [
    {
     "data": {
      "text/html": [
       "<div>\n",
       "<style scoped>\n",
       "    .dataframe tbody tr th:only-of-type {\n",
       "        vertical-align: middle;\n",
       "    }\n",
       "\n",
       "    .dataframe tbody tr th {\n",
       "        vertical-align: top;\n",
       "    }\n",
       "\n",
       "    .dataframe thead th {\n",
       "        text-align: right;\n",
       "    }\n",
       "</style>\n",
       "<table border=\"1\" class=\"dataframe\">\n",
       "  <thead>\n",
       "    <tr style=\"text-align: right;\">\n",
       "      <th></th>\n",
       "      <th>zipcode</th>\n",
       "      <th>recorded_date</th>\n",
       "      <th>rent</th>\n",
       "    </tr>\n",
       "  </thead>\n",
       "  <tbody>\n",
       "    <tr>\n",
       "      <th>5</th>\n",
       "      <td>11226</td>\n",
       "      <td>2015-01-31</td>\n",
       "      <td>1944.609891</td>\n",
       "    </tr>\n",
       "    <tr>\n",
       "      <th>7</th>\n",
       "      <td>10025</td>\n",
       "      <td>2015-01-31</td>\n",
       "      <td>3068.951823</td>\n",
       "    </tr>\n",
       "    <tr>\n",
       "      <th>13</th>\n",
       "      <td>11206</td>\n",
       "      <td>2015-01-31</td>\n",
       "      <td>2482.829299</td>\n",
       "    </tr>\n",
       "    <tr>\n",
       "      <th>14</th>\n",
       "      <td>11221</td>\n",
       "      <td>2015-01-31</td>\n",
       "      <td>2125.738807</td>\n",
       "    </tr>\n",
       "    <tr>\n",
       "      <th>20</th>\n",
       "      <td>11235</td>\n",
       "      <td>2015-01-31</td>\n",
       "      <td>1687.789898</td>\n",
       "    </tr>\n",
       "  </tbody>\n",
       "</table>\n",
       "</div>"
      ],
      "text/plain": [
       "    zipcode recorded_date         rent\n",
       "5     11226    2015-01-31  1944.609891\n",
       "7     10025    2015-01-31  3068.951823\n",
       "13    11206    2015-01-31  2482.829299\n",
       "14    11221    2015-01-31  2125.738807\n",
       "20    11235    2015-01-31  1687.789898"
      ]
     },
     "execution_count": 22,
     "metadata": {},
     "output_type": "execute_result"
    }
   ],
   "source": [
    "# Show first 5 entries about zillow dataframe\n",
    "data_zillow.head()"
   ]
  },
  {
   "cell_type": "markdown",
   "id": "e685942c-26dc-40db-84c2-a71aa3340806",
   "metadata": {},
   "source": [
    "## Part 2: Storing Data\n",
    "In this part, the focus is on creating a PostgreSQL database and storing the processed data efficiently.\n",
    "\n",
    "- **Create PostgreSQL Database:**\n",
    "  - Establish a new PostgreSQL database named **\"GroupProject\"**.\n",
    "  - Within this database, create a **PostGIS extension**. PostGIS is an essential extension for handling geographical and location data, making it ideal for the datasets we have.\n",
    "\n",
    "- **Create Tables and Indexes:**\n",
    "  - In the \"GroupProject\" database, create four distinct tables corresponding to the datasets: data_311, data_tree, data_zipcode, and data_zillow.\n",
    "  - For 3 table, create **indexes** for geometry column.\n",
    "\n",
    "- **Write Data from DataFrames to Tables:**\n",
    "  - Transfer the data from the GeoPandas/Pandas DataFrames into the corresponding tables in the database.\n"
   ]
  },
  {
   "cell_type": "markdown",
   "id": "10c30f23",
   "metadata": {},
   "source": [
    "### 1. Create PostgreSQL Database and Set Postgis Extension"
   ]
  },
  {
   "cell_type": "code",
   "execution_count": 28,
   "id": "f349fbdd-67d0-40a4-97a0-d9b8c8ec8013",
   "metadata": {},
   "outputs": [
    {
     "name": "stdout",
     "output_type": "stream",
     "text": [
      "createdb: error: database creation failed: ERROR:  database \"GroupProject\" already exists\r\n"
     ]
    }
   ],
   "source": [
    "# first step: create database 'GroupProject'in PostgreSQL\n",
    "!createdb GroupProject"
   ]
  },
  {
   "cell_type": "code",
   "execution_count": 29,
   "id": "590ed80d-7b60-484f-a123-23b673b0f440",
   "metadata": {},
   "outputs": [
    {
     "name": "stdout",
     "output_type": "stream",
     "text": [
      "ERROR:  extension \"postgis\" already exists\r\n"
     ]
    }
   ],
   "source": [
    "# second step: create postgis extension\n",
    "!psql --dbname GroupProject -c 'CREATE EXTENSION postgis;'"
   ]
  },
  {
   "cell_type": "markdown",
   "id": "527a251c-f337-4b24-bb41-96ee4621a9bd",
   "metadata": {},
   "source": [
    "### 2. Create Tables and Indexes\n",
    "\n",
    "- Use **SQLAlchemy** to Create Tables\n",
    "    - **Function Definition for Table Creation**:\n",
    "      - Defined a function `create_tables` with the _engine_ as its parameter.\n",
    "      - Set primary keys and data types for each of the four tables: `nyc_311`, `nyc_tree`, `nyc_zipcode`, `nyc_zillow`.\n",
    "      - Bound table definitions to the engine using `MetaData` from SQLAlchemy. Invoked the `create_all` method to execute table creation in the database.\n",
    "\n",
    "    - **Establishing Database Connection**:\n",
    "      - Connected to the PostgreSQL database using the `create_engine` function from SQLAlchemy.\n",
    "      - Called the `create_tables` function to create tables in the database.\n",
    "\n",
    "- Use **psycopg2** to Create Indexes\n",
    "    - **Function Definition for Index Creation**:\n",
    "      - Defined a function `create_indexes` with the _connection_ as its parameter.\n",
    "      - Ran SQL commands to create GIST indexes on the `location` columns of `nyc_311`, `nyc_tree`, and `nyc_zipcode`.\n",
    "\n",
    "    - **Establishing Database Connection**:\n",
    "      - Connected to the database using the `psycopg2.connect` function.\n",
    "      - Called the `create_indexes` function to create indexes in the database.\n"
   ]
  },
  {
   "cell_type": "code",
   "execution_count": 30,
   "id": "490d0cc6-74b3-4d35-a454-57f647c9f8e3",
   "metadata": {},
   "outputs": [],
   "source": [
    "# this function is used to create tables\n",
    "def create_tables(engine)-> None:\n",
    "    metadata = MetaData()\n",
    "\n",
    "    nyc_311 = Table(\n",
    "        'nyc_311', metadata,\n",
    "        Column('unique_key', Integer, primary_key=True),\n",
    "        Column('created_date', TIMESTAMP),\n",
    "        Column('complaint_type', String),\n",
    "        Column('zipcode', Integer),\n",
    "        Column('location', Geometry('POINT', srid=4326))\n",
    "    )\n",
    "\n",
    "    nyc_tree = Table(\n",
    "        'nyc_tree', metadata,\n",
    "        Column('tree_id', Integer, primary_key=True),\n",
    "        Column('status', String),\n",
    "        Column('health', String),\n",
    "        Column('species', String),\n",
    "        Column('zipcode', Integer),\n",
    "        Column('location', Geometry('POINT', srid=4326))\n",
    "    )\n",
    "\n",
    "    nyc_zipcode = Table(\n",
    "        'nyc_zipcode', metadata,\n",
    "        Column('zipcode', Integer, primary_key=True),\n",
    "        Column('location', Geometry('POLYGON', srid=4326))\n",
    "    )\n",
    "    \n",
    "    nyc_zillow = Table(\n",
    "        'nyc_zillow', metadata,\n",
    "        Column('zipcode', Integer, primary_key=True),\n",
    "        Column('recorded_date', Date),\n",
    "        Column('rent', Float)\n",
    "    )\n",
    "\n",
    "    metadata.create_all(engine)"
   ]
  },
  {
   "cell_type": "code",
   "execution_count": 31,
   "id": "7759fefc",
   "metadata": {},
   "outputs": [],
   "source": [
    "# this function is used to create indexes\n",
    "def create_indexes(connection)-> None:\n",
    "    sql_create_indexes = \"\"\"\n",
    "    CREATE INDEX IF NOT EXISTS idx_nyc_311_location ON \"nyc_311\" USING gist (location);\n",
    "    CREATE INDEX IF NOT EXISTS idx_nyc_tree_location ON \"nyc_tree\" USING gist (location);\n",
    "    CREATE INDEX IF NOT EXISTS idx_nyc_zipcode_location ON \"nyc_zipcode\" USING gist (location);\n",
    "    \"\"\"\n",
    "\n",
    "    with connection.cursor() as cursor:\n",
    "        cursor.execute(sql_create_indexes)"
   ]
  },
  {
   "cell_type": "code",
   "execution_count": 32,
   "id": "f36d86f6-ff6e-4bb8-8fa2-df0d4282e959",
   "metadata": {},
   "outputs": [],
   "source": [
    "# use sqlalchemy to create tables in the postgresql\n",
    "engine = create_engine(DB_URL)\n",
    "create_tables(engine)"
   ]
  },
  {
   "cell_type": "code",
   "execution_count": 33,
   "id": "48eacd37-4fd7-4768-b689-88b07d5c234e",
   "metadata": {},
   "outputs": [],
   "source": [
    "# use psycopg2 to create indexes in the postgresql\n",
    "with psycopg2.connect(DB_URL) as connection:\n",
    "    create_indexes(connection)"
   ]
  },
  {
   "cell_type": "markdown",
   "id": "2e88a50c-9528-4a5c-9a52-b96781ee8985",
   "metadata": {},
   "source": [
    "### Add Data to Database\n",
    "- **Define a Function to Write DataFrames to Tables**:\n",
    "  - Created a function `write_dataframes_to_table` with parameters _df_name_ (the DataFrame to be written) and _table_name_ (the target table in the database).\n",
    "  - Implemented a conditional check: if the DataFrame is a GeoPandas DataFrame, it utilizes the `to_postgis` method for writing spatial data. For regular Pandas DataFrames, the `to_sql` method is used.\n",
    "\n",
    "- **Execute Function for Data Insertion**:\n",
    "  - Called the `write_dataframes_to_table` function to transfer data from the four dataframes (`NYC311`, `NYCTree`, `NYC Zipcode`, `NYC Zillow`) into their respective tables in the database.\n"
   ]
  },
  {
   "cell_type": "code",
   "execution_count": 34,
   "id": "69e37800-cd95-44b5-9c21-eb7ac2b2e4ec",
   "metadata": {},
   "outputs": [],
   "source": [
    "# this function is used to write date into tables\n",
    "def write_dataframes_to_table(df_name:pd.DataFrame, table_name:str)->None:\n",
    "    engine = create_engine(DB_URL)\n",
    "    \n",
    "    # if it is geopandas dataframe, use \"gpd.to_postgis\", else use \"pd.to_sql\"\n",
    "    try:\n",
    "        df_name.to_postgis(table_name, engine, if_exists='replace', index=False)\n",
    "    except:\n",
    "        df_name.to_sql(table_name, engine, if_exists='replace', index=False)"
   ]
  },
  {
   "cell_type": "code",
   "execution_count": null,
   "id": "d1f042f5-8270-477d-929a-872f7d9a0bc8",
   "metadata": {},
   "outputs": [],
   "source": [
    "write_dataframes_to_table(data_311, 'nyc_311')\n",
    "write_dataframes_to_table(data_tree, 'nyc_tree')\n",
    "write_dataframes_to_table(data_zipcode,\"nyc_zipcode\")\n",
    "write_dataframes_to_table(data_zillow,\"nyc_zillow\")"
   ]
  },
  {
   "cell_type": "markdown",
   "id": "eb63b553-0c64-4da8-9fc7-41555d89d853",
   "metadata": {},
   "source": [
    "## Part 3: Understanding the Data"
   ]
  },
  {
   "cell_type": "code",
   "execution_count": null,
   "id": "9e229fe9",
   "metadata": {},
   "outputs": [],
   "source": [
    "# Define a function to write the queries to file\n",
    "# Setting the filename for the SQL query file\n",
    "def write_query_to_file(query:str, file_name:Path)-> None:\n",
    "    with open(file_name, 'w') as file:\n",
    "        file.write(query)  # Writing the SQL query to the specified file"
   ]
  },
  {
   "cell_type": "markdown",
   "id": "7ac7e12b-e251-4f08-8dc5-601db30c2089",
   "metadata": {},
   "source": [
    "### Query 1 : Which area might be more calm to live in?\n",
    "**Question:**\n",
    "Between October 1st, 2022 and September 30th, 2023 (inclusive), find the number of 311 complaints per zip code. The query result should have two columns, one row per zip code, with the number of complaints in descending order.\n",
    "\n",
    "**Solution:**\n",
    "- **Objective:** Analyze and count noise-related 311 complaints in New York City by zip code from October 1st, 2022, to September 30th, 2023.\n",
    "- **Method:** The code filters complaints from the nyc_311 database, groups them by zip code, and calculates the total number of noise complaints for each zip code.\n",
    "- **Sorting:** Results are sorted in descending order, showing zip codes with the most noise complaints first.\n",
    "- **Output:** Produces a table listing each zip code with its corresponding number of noise complaints, helping to identify areas with high noise issues."
   ]
  },
  {
   "cell_type": "code",
   "execution_count": null,
   "id": "6605e6f3-ec42-4a8b-833c-5138c14b678b",
   "metadata": {},
   "outputs": [],
   "source": [
    "# SQL query to find the number of 311 complaints per zip code\n",
    "QUERY_1 = \"\"\"\n",
    "SELECT \n",
    "      zipcode, \n",
    "      COUNT(*) AS complaint_count\n",
    "FROM \n",
    "      nyc_311\n",
    "WHERE \n",
    "      created_date BETWEEN '2022-10-01' AND '2023-09-30'\n",
    "      AND complaint_type LIKE '%Noise%'\n",
    "GROUP BY \n",
    "      zipcode\n",
    "ORDER BY \n",
    "      complaint_count DESC;\n",
    "\"\"\""
   ]
  },
  {
   "cell_type": "code",
   "execution_count": null,
   "id": "ce044adf-ecdf-4237-9b20-b7cdaaab0c6c",
   "metadata": {},
   "outputs": [],
   "source": [
    "# Print the result for the query \n",
    "with engine.connect() as conn:\n",
    "    result = conn.execute(text(QUERY_1))\n",
    "    print(f\"Zip Code ｜ Complaint Count\")\n",
    "    for row in result:\n",
    "        print(f\"{row.zipcode}｜{row.complaint_count}\")"
   ]
  },
  {
   "cell_type": "code",
   "execution_count": null,
   "id": "4b7b2c3d-8961-4c7e-8eb1-fc973d0ab9c1",
   "metadata": {},
   "outputs": [],
   "source": [
    "# Setting the filename for the SQL query file\n",
    "QUERY_1_FILENAME = QUERY_DIR / \"top_zipcodes_by_complaints.sql\"\n",
    "write_query_to_file(QUERY_1, QUERY_1_FILENAME)"
   ]
  },
  {
   "cell_type": "markdown",
   "id": "6aa157ef",
   "metadata": {},
   "source": [
    "### Query 2: Where has the most greenery?\n",
    "**Question:** Using just the trees table, which 10 zip codes have the most trees? The query result should have two columns, 10 rows. The rows should be sorted by the total number of trees, descending.\n",
    "\n",
    "**Solution:** \n",
    "- **Objective:** Identify the top 10 zip codes in New York City with the highest number of living trees.\n",
    "- **Method:** The code queries the nyc_tree database, focusing on 'Alive' trees, groups them by zip code, and counts the trees in each zip code.\n",
    "- **Sorting and Limiting:** Results are sorted in descending order of tree count, and the query is limited to the top 10 zip codes with the most trees.\n",
    "- **Output:** Produces a table displaying the 10 zip codes with the highest number of trees, offering insights into the areas with the most greenery."
   ]
  },
  {
   "cell_type": "code",
   "execution_count": null,
   "id": "ad8c30f9",
   "metadata": {},
   "outputs": [],
   "source": [
    "# SQL query to find the number of trees per zip code\n",
    "QUERY_2 = \"\"\"\n",
    "SELECT \n",
    "     zipcode, \n",
    "     COUNT(*) AS tree_count\n",
    "FROM \n",
    "     nyc_tree\n",
    "WHERE \n",
    "     status = 'Alive'\n",
    "GROUP BY \n",
    "     zipcode\n",
    "ORDER BY \n",
    "     tree_count DESC\n",
    "LIMIT 10;\n",
    "\"\"\""
   ]
  },
  {
   "cell_type": "code",
   "execution_count": null,
   "id": "5b564f23",
   "metadata": {},
   "outputs": [],
   "source": [
    "# Print the result for the query \n",
    "with engine.connect() as conn:\n",
    "    result = conn.execute(text(QUERY_2))\n",
    "    print(f\"Zip Code| Tree Count\")\n",
    "    for row in result:\n",
    "        print(f\"{row.zipcode}| {row.tree_count}\")"
   ]
  },
  {
   "cell_type": "code",
   "execution_count": null,
   "id": "5df945a4",
   "metadata": {},
   "outputs": [],
   "source": [
    "# Setting the filename for the SQL query file\n",
    "QUERY_2_FILENAME = QUERY_DIR / \"zipcodes_by_tree_count.sq\"\n",
    "write_query_to_file(QUERY_2, QUERY_2_FILENAME)"
   ]
  },
  {
   "cell_type": "markdown",
   "id": "03814875",
   "metadata": {},
   "source": [
    "### Query 3: Can I afford a place in the areas with the most trees?\n",
    "**Question:** Of the 10 zip codes with the most trees, for the month of August 2023, what is the average rent by zip code? The query should have a JOIN statement. The query result should have two columns (not three) and 10 rows. The rows should be sorted by the total number of trees, descending. “Humanize” the rent numbers, meaning format the results as 2,879.58 instead of 2879.575128.\n",
    "\n",
    "**Solution:**\n",
    "- **Objective:** Determine the average rent for August 2023 in the top 10 tree-rich zip codes in New York City.\n",
    "- **Method:** The code first identifies the 10 zip codes with the most living trees, then joins this data with the nyc_zillow database to calculate the average rent in these areas for August 2023.\n",
    "- **Formatting:** The average rent is formatted to be human-readable, displaying numbers in a standard currency format (e.g., 2,879.58).\n",
    "- **Output:** Generates a table listing each of the top 10 tree-rich zip codes with their corresponding average rent, sorted by the number of trees in descending order.\n"
   ]
  },
  {
   "cell_type": "code",
   "execution_count": null,
   "id": "d264d18e",
   "metadata": {},
   "outputs": [],
   "source": [
    "# SQL query to find the zip code with most trees\n",
    "QUERY_3 = \"\"\"\n",
    "SELECT \n",
    "    tc.zipcode, \n",
    "    TO_CHAR(AVG(z.rent), 'FM9,999,999.00') as average_rent\n",
    "FROM \n",
    "    (\n",
    "        SELECT \n",
    "            zipcode, \n",
    "            COUNT(*) AS tree_count\n",
    "        FROM \n",
    "            nyc_tree\n",
    "        WHERE \n",
    "            status = 'Alive'\n",
    "        GROUP BY \n",
    "            zipcode\n",
    "        ORDER BY \n",
    "            COUNT(*) DESC\n",
    "        LIMIT 10\n",
    "    ) AS tc\n",
    "JOIN \n",
    "    nyc_zillow z ON tc.zipcode = z.zipcode\n",
    "WHERE \n",
    "    z.recorded_date BETWEEN '2023-08-01' AND '2023-08-31'\n",
    "GROUP BY \n",
    "    tc.zipcode, tc.tree_count\n",
    "ORDER BY \n",
    "    tc.tree_count DESC\n",
    "\"\"\""
   ]
  },
  {
   "cell_type": "code",
   "execution_count": null,
   "id": "e5c371b2",
   "metadata": {},
   "outputs": [],
   "source": [
    "# Print the result for the query \n",
    "with engine.connect() as conn:\n",
    "    result = conn.execute(text(QUERY_3))\n",
    "    print(f\"Zip Code| Average Rent\")\n",
    "    for row in result:\n",
    "        print(f\"{row.zipcode}|{row.average_rent}\")"
   ]
  },
  {
   "cell_type": "code",
   "execution_count": null,
   "id": "ca70ccb8",
   "metadata": {},
   "outputs": [],
   "source": [
    "# Setting the filename for the SQL query file\n",
    "QUERY_3_FILENAME = QUERY_DIR / \"average_rent_top_tree_zipcodes.sql\"\n",
    "write_query_to_file(QUERY_3, QUERY_3_FILENAME)"
   ]
  },
  {
   "cell_type": "markdown",
   "id": "af17a8f9",
   "metadata": {},
   "source": [
    "### Query 4: Could there be a correlation between an area’s rent, the number of its trees, and the number of 311 complaints?\n",
    "\n",
    "**Question:** For the month of January 2023, return the 5 zip codes with the lowest average rent, and 5 zipcodes of the highest average rent, and include the tree count and complaint count for each zip code by using JOIN statements. The query result should have 4 columns (zip code, average rent, tree count, and complaint count) and 10 rows: five with the highest average rent, and five with the lowest average rent. “Humanize” the rent numbers, meaning format the results as 2,879.58 instead of 2879.575128.\n",
    "\n",
    "**Solution:**\n",
    "- **Objective:** Explore potential correlations between average rent, tree count, and 311 complaint count in NYC zip codes for January 2023, focusing on the five zip codes with the highest and lowest average rents.\n",
    "- **Method:** The code performs a complex analysis involving multiple JOIN statements. It first calculates the average rent for each zip code, then ranks them to identify the top and bottom five. It also aggregates tree and complaint counts for these zip codes.\n",
    "- **Formatting:** Average rent values are formatted for readability (e.g., 2,879.58 instead of 2879.575128).\n",
    "- **Output:** Generates a table with 10 rows, listing the zip codes with the five highest and five lowest average rents, along with their corresponding tree and complaint counts, to investigate potential correlations."
   ]
  },
  {
   "cell_type": "code",
   "execution_count": null,
   "id": "0d0177ea",
   "metadata": {},
   "outputs": [],
   "source": [
    "# SQL query to find the correlation between rent, trees and complaints\n",
    "QUERY_4 = \"\"\"\n",
    "WITH RentData AS (\n",
    "    SELECT \n",
    "        zipcode, \n",
    "        AVG(rent) AS average_rent\n",
    "    FROM \n",
    "        nyc_zillow\n",
    "    WHERE \n",
    "        recorded_date BETWEEN '2023-01-01' AND '2023-01-31'\n",
    "    GROUP BY \n",
    "        zipcode\n",
    "), RentRank AS (\n",
    "    SELECT \n",
    "        zipcode, \n",
    "        average_rent,\n",
    "        RANK() OVER (ORDER BY average_rent DESC) AS high_rank,\n",
    "        RANK() OVER (ORDER BY average_rent ASC) AS low_rank\n",
    "    FROM \n",
    "        RentData\n",
    "), TreeData AS (\n",
    "    SELECT \n",
    "        zipcode, \n",
    "        COUNT(*) AS tree_count\n",
    "    FROM \n",
    "        nyc_tree\n",
    "    WHERE \n",
    "        status = 'Alive'\n",
    "    GROUP BY \n",
    "        zipcode\n",
    "), ComplaintData AS (\n",
    "    SELECT \n",
    "        zipcode, \n",
    "        COUNT(*) AS complaint_count\n",
    "    FROM \n",
    "        nyc_311\n",
    "    WHERE \n",
    "        created_date BETWEEN '2023-01-01' AND '2023-01-31'\n",
    "    GROUP BY \n",
    "        zipcode\n",
    ")\n",
    "SELECT \n",
    "    r.zipcode, \n",
    "    TO_CHAR(r.average_rent, 'FM9,999,999.00') as formatted_rent, \n",
    "    t.tree_count, \n",
    "    c.complaint_count\n",
    "FROM \n",
    "    RentRank r\n",
    "JOIN \n",
    "    TreeData t ON r.zipcode = t.zipcode\n",
    "JOIN \n",
    "    ComplaintData c ON r.zipcode = c.zipcode\n",
    "WHERE \n",
    "    r.high_rank <= 5 OR r.low_rank <= 5\n",
    "ORDER BY \n",
    "    r.high_rank, r.low_rank\n",
    "\"\"\""
   ]
  },
  {
   "cell_type": "code",
   "execution_count": null,
   "id": "7c52ff97",
   "metadata": {},
   "outputs": [],
   "source": [
    "# Print the result for the query \n",
    "with engine.connect() as conn:\n",
    "    result = conn.execute(text(QUERY_4))\n",
    "    print(\"Zipcode |  Average Rent |  Tree Count |  Complaint Count\")\n",
    "    for row in result:\n",
    "        print(f\"{row.zipcode} |  {row.formatted_rent} |  {row.tree_count} |  {row.complaint_count}\")\n"
   ]
  },
  {
   "cell_type": "code",
   "execution_count": null,
   "id": "1974882b",
   "metadata": {},
   "outputs": [],
   "source": [
    "# Setting the filename for the SQL query file\n",
    "QUERY_4_FILENAME = QUERY_DIR / \"rent_tree_complaint_correlation.sql\"\n",
    "write_query_to_file(QUERY_4, QUERY_4_FILENAME)"
   ]
  },
  {
   "cell_type": "markdown",
   "id": "f5cea009",
   "metadata": {},
   "source": [
    "### Query 5: Where has the most greenery (take 2)?\n",
    "**Question:** Rewrite Query 2 to use both the trees table and the zipcodes table. Join both tables where the coordinate point of the tree is inside the polygon boundary of the zipcode as defined in the zipcode table. The query should have a JOIN statement. The query results should match exactly the results of Query 2.\n",
    "\n",
    "**Solution:**\n",
    "- **Objective:** Refine the analysis of the amount of greenery (living trees) in each zip code, using both the nyc_tree and nyc_zipcode tables, with spatial data to accurately match trees to zip codes.\n",
    "- **Method:** The code joins the tree data with zip code boundaries, counting trees only if they are physically located within the zip code's boundaries.\n",
    "- **Spatial Analysis:** Utilizes ST_Contains to ensure that only trees within the geographic boundary of each zip code are counted.\n",
    "- **Output:** Produces a list, limited to 2 zip codes, showing the number of living trees in each zip code, ordered by the tree count in descending order."
   ]
  },
  {
   "cell_type": "code",
   "execution_count": null,
   "id": "dc7b4f57",
   "metadata": {},
   "outputs": [],
   "source": [
    "# SQL query to find the number of trees per zip code\n",
    "QUERY_5 = \"\"\"\n",
    "SELECT \n",
    "     z.zipcode, \n",
    "     COUNT(*) as tree_count\n",
    "FROM \n",
    "     nyc_tree t\n",
    "JOIN \n",
    "     nyc_zipcode z ON ST_Contains(z.location, t.location)\n",
    "WHERE \n",
    "     t.status = 'Alive'\n",
    "GROUP BY \n",
    "     z.zipcode\n",
    "ORDER BY \n",
    "     tree_count DESC\n",
    "LIMIT 2;\n",
    "\"\"\""
   ]
  },
  {
   "cell_type": "code",
   "execution_count": null,
   "id": "0e8c907b",
   "metadata": {},
   "outputs": [],
   "source": [
    "# Print the result for the query \n",
    "with engine.connect() as conn:\n",
    "    result = conn.execute(text(QUERY_5))\n",
    "    print(\"Zipcode | Tree Count\")\n",
    "    for row in result:\n",
    "        print(f\"{row.zipcode} | {row.tree_count}\")"
   ]
  },
  {
   "cell_type": "code",
   "execution_count": null,
   "id": "e2a5beda",
   "metadata": {},
   "outputs": [],
   "source": [
    "# Setting the filename for the SQL query file\n",
    "QUERY_5_FILENAME = QUERY_DIR / \"greenery_with_zipcode_spatial_join.sql\"\n",
    "write_query_to_file(QUERY_5, QUERY_5_FILENAME)"
   ]
  },
  {
   "cell_type": "markdown",
   "id": "9cf80aef",
   "metadata": {},
   "source": [
    "### Query 6: What is the immediate area like?\n",
    "**Question:** Using the following coordinate pair on campus, which trees are within ½ mile radius of this point? (Latitude: 40.80737875669467, Longitude: -73.96253174434912)The result should have 5 columns (ID, species, health, status, and coordinate location of each tree). You may use regular Python to help construct the geometric object needed for setting the radius in the query.\n",
    "\n",
    "**Solution:**\n",
    "- **Objective:** Identify trees within a ½ mile radius of a specific coordinate point on a campus.\n",
    "- **Method:** The code utilizes a spatial query (ST_DWithin) in the nyc_tree database to find trees within 804.672 meters of the given coordinates.\n",
    "- **Data Columns:** The output includes the tree ID, species, health status, current status, and the exact geographic location of each tree.\n",
    "- **Output:** Generates a table listing trees within the specified radius, providing detailed information about each tree, which helps in understanding the immediate greenery around the given point."
   ]
  },
  {
   "cell_type": "code",
   "execution_count": null,
   "id": "8ec36ac2",
   "metadata": {},
   "outputs": [],
   "source": [
    "# SQL query to find the coordinate pair of trees\n",
    "QUERY_6 = f\"\"\"\n",
    "SELECT \n",
    "     tree_id, \n",
    "     species, \n",
    "     health, \n",
    "     status, \n",
    "     ST_AsText(location) AS location\n",
    "FROM \n",
    "     nyc_tree\n",
    "WHERE \n",
    "     ST_DWithin(location, '{point_wkt}'::geography, 804.672)\n",
    "\"\"\""
   ]
  },
  {
   "cell_type": "code",
   "execution_count": null,
   "id": "45e113f9",
   "metadata": {},
   "outputs": [],
   "source": [
    "# Print the result for the query \n",
    "with engine.connect() as conn:\n",
    "    result = conn.execute(text(QUERY_6))\n",
    "    print(\"ID | Species | Health | Status | Location\")\n",
    "    for row in result:\n",
    "        print(f\"{row.tree_id} | {row.species} | {row.health} | {row.status} | {row.location}\")"
   ]
  },
  {
   "cell_type": "code",
   "execution_count": null,
   "id": "59a67fb2",
   "metadata": {},
   "outputs": [],
   "source": [
    "# Setting the filename for the SQL query file\n",
    "QUERY_6_FILENAME = QUERY_DIR / \"trees_near_coordinate.sql\"\n",
    "write_query_to_file(QUERY_6, QUERY_6_FILENAME)"
   ]
  },
  {
   "cell_type": "markdown",
   "id": "75223ce5-6ab5-4613-b6af-fa8e33bcc7d5",
   "metadata": {},
   "source": [
    "## Part 4: Visualizing the Data"
   ]
  },
  {
   "cell_type": "markdown",
   "id": "b21fcfed-ddbb-4908-a60e-ed7cbc6d5b00",
   "metadata": {},
   "source": [
    "### Visualization 1: What can I expect to put up with in NYC?\n",
    "**Question:** First, find the top 3 complaint types for October 1st, 2022 to September 30th, 2023 (inclusive). Then, create an appropriate visualization for the number of complaints per day over $timeframe for those complaint types.  \n",
    "\n",
    "**Solution:** \n",
    "- **Objective:** Visualize the daily count of the top 3 complaint types in NYC from October 1st, 2022, to September 30th, 2023.\n",
    "\n",
    "- **Data Retrieval:** Query: Fetches daily counts of complaints for the three most common types within the specified timeframe.\n",
    "\n",
    "- **Data Visualization:**\n",
    "    - Plot Type: Generates a line plot for each complaint type over the given period.\n",
    "    - Visualization Details: The plot shows dates on the x-axis, complaint counts on the y-axis, and includes a legend for each complaint type.\n",
    "- **Result:** The resulting plot provides a clear view of the frequency and trends of the top 3 complaint types in NYC over a year, offering insights into common urban issues residents might encounter."
   ]
  },
  {
   "cell_type": "code",
   "execution_count": null,
   "id": "6f0e2cde-e43b-407b-ab93-ff85a2dba469",
   "metadata": {},
   "outputs": [],
   "source": [
    "#Fetches daily counts of complaints for the three most common types \n",
    "def get_data_for_complaints()->pd.DataFrame:\n",
    "    complaints_per_day_query = \"\"\"\n",
    "    SELECT \n",
    "        created_date::date, \n",
    "        complaint_type, \n",
    "        COUNT(*) as complaint_count\n",
    "    FROM \n",
    "        nyc_311\n",
    "    WHERE \n",
    "        created_date BETWEEN '2022-10-01' AND '2023-09-30'\n",
    "        AND complaint_type IN (\n",
    "            SELECT complaint_type\n",
    "            FROM nyc_311\n",
    "            WHERE created_date BETWEEN '2022-10-01' AND '2023-09-30'\n",
    "            GROUP BY complaint_type\n",
    "            ORDER BY COUNT(*) DESC\n",
    "            LIMIT 3\n",
    "        )\n",
    "    GROUP BY created_date::date, complaint_type\n",
    "    ORDER BY created_date\n",
    "    \"\"\"\n",
    "\n",
    "    with engine.connect() as conn:\n",
    "        complaints_data = pd.read_sql(complaints_per_day_query, conn)\n",
    "\n",
    "    return complaints_data"
   ]
  },
  {
   "cell_type": "code",
   "execution_count": null,
   "id": "ed80755f-d1e1-4e53-8ef8-f5295c59a3fe",
   "metadata": {},
   "outputs": [],
   "source": [
    "#Generates a line plot for each complaint type over the given period\n",
    "def plot_complaints(dataframe:pd.DataFrame)->None:\n",
    "    figure, axes = plt.subplots(figsize=(20, 10))\n",
    "\n",
    "    # Plotting the data for each complaint type\n",
    "    for complaint_type in dataframe['complaint_type'].unique():\n",
    "        filtered_data = dataframe[dataframe['complaint_type'] == complaint_type]\n",
    "        axes.plot(filtered_data['created_date'], filtered_data['complaint_count'], label=complaint_type)\n",
    "\n",
    "    # Labeling and styling\n",
    "    axes.set_title(\"Top 3 NYC Complaint Types per Day\")\n",
    "    axes.set_xlabel(\"Date\")\n",
    "    axes.set_ylabel(\"Number of Complaints\")\n",
    "    axes.legend()\n",
    "\n",
    "    plt.show()"
   ]
  },
  {
   "cell_type": "code",
   "execution_count": null,
   "id": "f6a2632a-b516-4a6e-8b67-97116ab6fce4",
   "metadata": {},
   "outputs": [],
   "source": [
    "# Show the result\n",
    "complaints_data = get_data_for_complaints()\n",
    "plot_complaints(complaints_data)"
   ]
  },
  {
   "cell_type": "markdown",
   "id": "a44215d5",
   "metadata": {},
   "source": [
    "### Visualization 2: What are the most common complaints in the immediate area?\n",
    "**Question:** Create a visualization that shows the number of complaints by complaint type for the top 10 complaints in zip code 10027 for October 1st, 2018 to September 30th, 2023 (inclusive).\n",
    "\n",
    "**Solution:**\n",
    "- **Objective:** Display the top 10 most common complaints in the zip code 10027 area from October 1st, 2018, to September 30th, 2023.\n",
    "\n",
    "- **Data Retrieval:**\n",
    "    - Query: Extracts data for the top 10 complaint types based on frequency within the specified period for zip code 10027.\n",
    "    - Database Interaction: Conducts a SQL query to gather data from the nyc_311 database.\n",
    "- **Data Visualization:**\n",
    "    - Chart Type: Creates a bar chart to represent the count of each of the top 10 complaints.\n",
    "    - Visualization Details: The bar chart displays complaint types on the x-axis and their corresponding counts on the y-axis, with labels rotated for better readability.\n",
    "- **Result:** The visualization provides an easy-to-understand representation of the most prevalent complaints in zip code 10027 over a five-year period, highlighting the key issues faced by residents in this area."
   ]
  },
  {
   "cell_type": "code",
   "execution_count": null,
   "id": "5275d7fd",
   "metadata": {},
   "outputs": [],
   "source": [
    "#Extracts data for the top 10 complaint types based on frequency within the specified period for zip code 10027\n",
    "def get_data_for_most_common_complaints()->pd.DataFrame:\n",
    "    complaints_query = \"\"\"\n",
    "    SELECT \n",
    "        complaint_type, \n",
    "        COUNT(*) as complaint_count\n",
    "    FROM \n",
    "        nyc_311\n",
    "    WHERE \n",
    "        zipcode = 10027 AND\n",
    "        created_date BETWEEN '2018-10-01' AND '2023-09-30'\n",
    "    GROUP BY \n",
    "        complaint_type\n",
    "    ORDER BY \n",
    "        complaint_count DESC\n",
    "    LIMIT 10\n",
    "    \"\"\"\n",
    "\n",
    "    with engine.connect() as conn:\n",
    "        complaints_data = pd.read_sql(complaints_query, conn)\n",
    "\n",
    "    return complaints_data"
   ]
  },
  {
   "cell_type": "code",
   "execution_count": null,
   "id": "eb330624",
   "metadata": {},
   "outputs": [],
   "source": [
    "#Creates a bar chart to represent the count of each of the top 10 complaints\n",
    "def plot_most_common_complaints(dataframe:pd.DataFrame):\n",
    "    figure, axes = plt.subplots(figsize=(20, 10))\n",
    "    # Plotting a bar chart\n",
    "    axes.bar(dataframe['complaint_type'], dataframe['complaint_count'], color='skyblue')\n",
    "\n",
    "    # Labeling and styling\n",
    "    axes.set_title(\"Top 10 Complaints in Zip Code 10027 (Oct 2018 - Sep 2023)\")\n",
    "    axes.set_xlabel(\"Complaint Type\")\n",
    "    axes.set_ylabel(\"Number of Complaints\")\n",
    "    plt.xticks(rotation=45, ha='right')  # Rotate labels for better readability\n",
    "\n",
    "    plt.show()"
   ]
  },
  {
   "cell_type": "code",
   "execution_count": null,
   "id": "f2cbcd93",
   "metadata": {},
   "outputs": [],
   "source": [
    "# Show the result\n",
    "complaints_data_10027 = get_data_for_most_common_complaints()\n",
    "plot_most_common_complaints(complaints_data_10027)"
   ]
  },
  {
   "cell_type": "markdown",
   "id": "2cb6b4ae",
   "metadata": {},
   "source": [
    "### Visualization 3: Is there any correlation between rent, trees, and complaints at all?\n",
    "\n",
    "**Question:** Between January 1st, 2015 and September 30th, 2023 (inclusive), create a visualization using 2 subplots that share the x-axis where one subplot shows rent compared to the number of trees by zip code, and the other subplot shows rent compared to the number of complaints by zip code.\n",
    "\n",
    "**Solution:**\n",
    "- **Objective:** Examine the relationship between average rent, tree count, and complaint count in NYC zip codes from 2015 to 2023.\n",
    "- **Data Processing:** Retrieves and merges data on average rent, tree count, and complaint count per zip code.\n",
    "- **Visualization:** Creates two scatter plots in one figure, one showing rent vs. tree count and the other showing rent vs. complaint count, with a shared x-axis for average rent.\n"
   ]
  },
  {
   "cell_type": "code",
   "execution_count": null,
   "id": "a7064a41",
   "metadata": {},
   "outputs": [],
   "source": [
    "def get_data_for_correlation()->pd.DataFrame:\n",
    "    # Query to get average rent by zip code\n",
    "    rent_query = \"\"\"\n",
    "    SELECT \n",
    "         zipcode, \n",
    "         AVG(rent) as average_rent\n",
    "    FROM \n",
    "         nyc_zillow\n",
    "    WHERE \n",
    "         recorded_date BETWEEN '2015-01-01' AND '2023-09-30'\n",
    "    GROUP BY \n",
    "         zipcode\n",
    "    \"\"\"\n",
    "\n",
    "    # Query to get tree count by zip code\n",
    "    tree_query = \"\"\"\n",
    "    SELECT \n",
    "         zipcode, \n",
    "         COUNT(*) as tree_count\n",
    "    FROM \n",
    "         nyc_tree\n",
    "    WHERE\n",
    "         status = 'Alive'\n",
    "    GROUP BY \n",
    "         zipcode\n",
    "    \"\"\"\n",
    "\n",
    "    # Query to get complaint count by zip code\n",
    "    complaint_query = \"\"\"\n",
    "    SELECT \n",
    "         zipcode, \n",
    "         COUNT(*) as complaint_count\n",
    "    FROM \n",
    "         nyc_311\n",
    "    WHERE \n",
    "         created_date BETWEEN '2015-01-01' AND '2023-09-30'\n",
    "    GROUP BY \n",
    "         zipcode\n",
    "    \"\"\"\n",
    "\n",
    "    # Execute queries and return dataframes\n",
    "    with engine.connect() as conn:\n",
    "        rent_data = pd.read_sql(rent_query, conn)\n",
    "        tree_data = pd.read_sql(tree_query, conn)\n",
    "        complaint_data = pd.read_sql(complaint_query, conn)\n",
    "\n",
    "    return rent_data, tree_data, complaint_data"
   ]
  },
  {
   "cell_type": "code",
   "execution_count": null,
   "id": "b422e621",
   "metadata": {},
   "outputs": [],
   "source": [
    "def plot_correlation(rent_df:pd.DataFrame, tree_df:pd.DataFrame, complaint_df:pd.DataFrame):\n",
    "    # Merging dataframes on zipcode\n",
    "    merged_df = rent_df.merge(tree_df, on='zipcode').merge(complaint_df, on='zipcode')\n",
    "\n",
    "    # Creating subplots\n",
    "    fig, (ax1, ax2) = plt.subplots(2, 1, figsize=(15, 10), sharex=True)\n",
    "\n",
    "    # Subplot 1: Rent vs Tree Count\n",
    "    ax1.scatter(merged_df['average_rent'], merged_df['tree_count'], color='green')\n",
    "    ax1.set_title('Average Rent vs Tree Count by Zip Code')\n",
    "    ax1.set_ylabel('Tree Count')\n",
    "\n",
    "    # Subplot 2: Rent vs Complaint Count\n",
    "    ax2.scatter(merged_df['average_rent'], merged_df['complaint_count'], color='red')\n",
    "    ax2.set_title('Average Rent vs Complaint Count by Zip Code')\n",
    "    ax2.set_xlabel('Average Rent')\n",
    "    ax2.set_ylabel('Complaint Count')\n",
    "\n",
    "    plt.show()"
   ]
  },
  {
   "cell_type": "code",
   "execution_count": null,
   "id": "3b6c7813",
   "metadata": {},
   "outputs": [],
   "source": [
    "# Show the result\n",
    "rent_data, tree_data, complaint_data = get_data_for_correlation()\n",
    "plot_correlation(rent_data, tree_data, complaint_data)"
   ]
  },
  {
   "cell_type": "markdown",
   "id": "1a52b578",
   "metadata": {},
   "source": [
    "### Visualization 4: If I can afford more in rent, will there be fewer issues & complaints?\n",
    "\n",
    "**Question:** Create a boxplot, where the x-axis is average rent in September 2023, separated into $1000 bins (i.e. $0-1000, $1001-2000, etc), and the y-axis is the number of 311 complaints observed in each zip code between October 1, 2022 (inclusive) to September 30, 2023 (inclusive).\n",
    "\n",
    "**Solution:**\n",
    "- **Objective:** Analyze if higher rent is associated with fewer 311 complaints in NYC from October 2022 to September 2023.\n",
    "- **Data Processing:** Gathers average rent for September 2023 and complaint counts over a year, then merges these by zip code.\n",
    "- **Visualization:** Creates a boxplot with rent divided into $1000 bins on the x-axis and complaint counts on the y-axis."
   ]
  },
  {
   "cell_type": "code",
   "execution_count": null,
   "id": "bcca96a4",
   "metadata": {},
   "outputs": [],
   "source": [
    "def get_data_for_afford_vs_complaints()->pd.DataFrame:\n",
    "    # Query to get average rent by zip code for September 2023\n",
    "    rent_query = \"\"\"\n",
    "    SELECT \n",
    "         zipcode, \n",
    "         AVG(rent) as average_rent\n",
    "    FROM \n",
    "         nyc_zillow\n",
    "    WHERE \n",
    "         recorded_date BETWEEN '2023-09-01' AND '2023-09-30'\n",
    "    GROUP BY \n",
    "         zipcode\n",
    "    \"\"\"\n",
    "\n",
    "    # Query to get complaint count by zip code\n",
    "    complaint_query = \"\"\"\n",
    "    SELECT \n",
    "         zipcode, \n",
    "         COUNT(*) as complaint_count\n",
    "    FROM \n",
    "         nyc_311\n",
    "    WHERE \n",
    "         created_date BETWEEN '2022-10-01' AND '2023-09-30'\n",
    "    GROUP BY \n",
    "         zipcode\n",
    "    \"\"\"\n",
    "\n",
    "    with engine.connect() as conn:\n",
    "        rent_data = pd.read_sql(rent_query, conn)\n",
    "        complaint_data = pd.read_sql(complaint_query, conn)\n",
    "\n",
    "    # Merging dataframes on zipcode\n",
    "    merged_data = rent_data.merge(complaint_data, on='zipcode')\n",
    "\n",
    "    # Categorizing rent into bins\n",
    "    rent_bins = pd.cut(merged_data['average_rent'], bins=range(0, int(merged_data['average_rent'].max()) + 1000, 1000), right=False)\n",
    "    merged_data['rent_bins'] = rent_bins\n",
    "\n",
    "    return merged_data"
   ]
  },
  {
   "cell_type": "code",
   "execution_count": null,
   "id": "e524ef97",
   "metadata": {},
   "outputs": [],
   "source": [
    "def plot_afford_vs_complaints(dataframe:pd.DataFrame):\n",
    "    fig, ax = plt.subplots(figsize=(20, 10))\n",
    "\n",
    "    # Creating a boxplot\n",
    "    dataframe.boxplot(column='complaint_count', by='rent_bins', ax=ax, grid=False)\n",
    "\n",
    "    # Labeling and styling\n",
    "    ax.set_title('Number of 311 Complaints vs Average Rent')\n",
    "    ax.set_xlabel('Average Rent Bins ($)')\n",
    "    ax.set_ylabel('Number of 311 Complaints')\n",
    "    plt.suptitle('')  # Remove default Pandas title\n",
    "    plt.xticks(rotation=45)\n",
    "\n",
    "    plt.show()"
   ]
  },
  {
   "cell_type": "code",
   "execution_count": null,
   "id": "6d06320a",
   "metadata": {},
   "outputs": [],
   "source": [
    "# Show the result\n",
    "afford_vs_complaint = get_data_for_afford_vs_complaints()\n",
    "plot_afford_vs_complaints(afford_vs_complaint)"
   ]
  },
  {
   "cell_type": "markdown",
   "id": "9bf4d631",
   "metadata": {},
   "source": [
    "### Visualization 5: Where were the recent 311 incidents reported from in the immediate area?\n",
    "**Question:** Create a geospatial plot of the coordinates of reported 311 incidents that happened between January 1st, 2023 and September 30th, 2023 (inclusive) within a 1 kilometer radius of the same coordinate from Query 6 in Part 3.\n",
    "\n",
    "**Solution:**\n",
    "- **Objective:** Map the locations of 311 incidents reported within a 1-kilometer radius of a specific coordinate point (from Query 6) in NYC between January 1st, 2023, and September 30th, 2023.\n",
    "- **Data Processing:** Retrieves longitude and latitude data for incidents that occurred within the specified timeframe and proximity to the given coordinates.\n",
    "- **Visualization:** Uses geospatial plotting to display each incident as a point on a map, centered around the target coordinate."
   ]
  },
  {
   "cell_type": "code",
   "execution_count": null,
   "id": "00cc4f80",
   "metadata": {},
   "outputs": [],
   "source": [
    "def get_data_for_incidents_data()->pd.DataFrame:\n",
    "    # Modify the query to extract longitude and latitude\n",
    "    incident_query = f\"\"\"\n",
    "    SELECT \n",
    "         ST_X(location::geometry) as longitude, \n",
    "         ST_Y(location::geometry) as latitude\n",
    "    FROM \n",
    "         nyc_311\n",
    "    WHERE \n",
    "        created_date BETWEEN '2023-01-01' AND '2023-09-30'\n",
    "        AND ST_DWithin(location::geography, ST_GeomFromWKB('\\\\x{point_wkb}', 4326)::geography, 1000)\n",
    "    \"\"\"\n",
    "\n",
    "    with engine.connect() as conn:\n",
    "        incidents_data = pd.read_sql(incident_query, conn)\n",
    "\n",
    "    return incidents_data\n"
   ]
  },
  {
   "cell_type": "code",
   "execution_count": null,
   "id": "80a44588",
   "metadata": {},
   "outputs": [],
   "source": [
    "def plot_incidents_data(dataframe:pd.DataFrame):\n",
    "    # Convert DataFrame to GeoDataFrame\n",
    "    gdf = gpd.GeoDataFrame(dataframe, geometry=gpd.points_from_xy(dataframe['longitude'], dataframe['latitude']))\n",
    "\n",
    "    # Plotting\n",
    "    fig, ax = plt.subplots(figsize=(10, 10))\n",
    "    gdf.plot(ax=ax, markersize=5, color='red', marker='o')\n",
    "    plt.title(\"311 Incidents Near Latitude 40.8074, Longitude -73.9625 (Jan 1, 2023 - Sep 30, 2023)\")\n",
    "    ax.set_xlabel(\"Longitude\")\n",
    "    ax.set_ylabel(\"Latitude\")    \n",
    "    \n",
    "    # Center the plot around the given coordinate\n",
    "    ax.set_xlim(longitude - 0.015, longitude + 0.015)\n",
    "    ax.set_ylim(latitude - 0.015, latitude + 0.015)\n",
    "    \n",
    "    plt.show()"
   ]
  },
  {
   "cell_type": "code",
   "execution_count": null,
   "id": "9b691f4e",
   "metadata": {},
   "outputs": [],
   "source": [
    "# Show the result\n",
    "incidents_data = get_data_for_incidents_data()\n",
    "plot_incidents_data(incidents_data)"
   ]
  },
  {
   "cell_type": "markdown",
   "id": "e18f308a",
   "metadata": {},
   "source": [
    "### Visualization 6: Are areas trying to improve the amount of trees in the neighborhood?\n",
    "\n",
    "**Question:** Create a geospatial plot of two sets of data: the coordinates of trees in NYC, and the coordinates of \"New Tree Request\" 311 complaint types that were made from October 1st, 2018 to September 30th, 2023 (inclusive).\n",
    "\n",
    "**Solution:**\n",
    "\n",
    "- **Objective:** Compare the locations of existing trees and \"New Tree Request\" complaints in NYC from October 2018 to September 2023.\n",
    "- **Data Retrieval:** Gathers coordinates for all existing trees and for \"New Tree Request\" complaints within the specified timeframe.\n",
    "- **Visualization:** Produces a geospatial plot displaying trees as green points and new tree requests as red points."
   ]
  },
  {
   "cell_type": "code",
   "execution_count": null,
   "id": "ba05d7c3",
   "metadata": {},
   "outputs": [],
   "source": [
    "def get_data_for_improve_tree()->pd.DataFrame:\n",
    "\n",
    "    # Query for existing tree coordinates\n",
    "    tree_query = \"\"\"\n",
    "    SELECT \n",
    "        tree_id, \n",
    "        ST_X(location::geometry) AS longitude, \n",
    "        ST_Y(location::geometry) AS latitude\n",
    "    FROM \n",
    "        nyc_tree\n",
    "    \"\"\"\n",
    "\n",
    "    # Query for \"New Tree Request\" complaint coordinates\n",
    "    complaint_query = \"\"\"\n",
    "    SELECT \n",
    "        unique_key, \n",
    "        ST_X(location::geometry) AS longitude, \n",
    "        ST_Y(location::geometry) AS latitude\n",
    "    FROM \n",
    "        nyc_311\n",
    "    WHERE \n",
    "        complaint_type = 'New Tree Request' AND\n",
    "        created_date BETWEEN '2018-10-01' AND '2023-09-30'\n",
    "    \"\"\"\n",
    "\n",
    "    # Execute queries and return dataframes\n",
    "    tree_df = pd.read_sql(tree_query, engine)\n",
    "    complaint_df = pd.read_sql(complaint_query, engine)\n",
    "\n",
    "    return tree_df, complaint_df"
   ]
  },
  {
   "cell_type": "code",
   "execution_count": null,
   "id": "a443c45c",
   "metadata": {},
   "outputs": [],
   "source": [
    "def plot_improve_tree(tree_df:pd.DataFrame, complaint_df:pd.DataFrame):\n",
    "    # Create GeoDataFrames\n",
    "    tree_gdf = gpd.GeoDataFrame(tree_df, geometry=gpd.points_from_xy(tree_df.longitude, tree_df.latitude))\n",
    "    complaint_gdf = gpd.GeoDataFrame(complaint_df, geometry=gpd.points_from_xy(complaint_df.longitude, complaint_df.latitude))\n",
    "\n",
    "    # Plot\n",
    "    fig, ax = plt.subplots(figsize=(15, 15))\n",
    "    tree_gdf.plot(ax=ax, marker='o', color='green', markersize=5, label='Existing Trees')\n",
    "    complaint_gdf.plot(ax=ax, marker='x', color='red', markersize=5, label='New Tree Requests')\n",
    "    plt.title(\"NYC Tree Locations vs New Tree Requests (Oct 2018 - Sep 2023)\")\n",
    "    ax.set_xlabel(\"Longitude\")\n",
    "    ax.set_ylabel(\"Latitude\")\n",
    "    ax.legend()\n",
    "    plt.show()"
   ]
  },
  {
   "cell_type": "code",
   "execution_count": null,
   "id": "08b69fd9",
   "metadata": {},
   "outputs": [],
   "source": [
    "# Show the result\n",
    "tree_df, complaint_df = get_data_for_improve_tree()\n",
    "plot_improve_tree(tree_df, complaint_df)"
   ]
  }
 ],
 "metadata": {
  "kernelspec": {
   "display_name": "Python 3 (ipykernel)",
   "language": "python",
   "name": "python3"
  },
  "language_info": {
   "codemirror_mode": {
    "name": "ipython",
    "version": 3
   },
   "file_extension": ".py",
   "mimetype": "text/x-python",
   "name": "python",
   "nbconvert_exporter": "python",
   "pygments_lexer": "ipython3",
   "version": "3.11.4"
  }
 },
 "nbformat": 4,
 "nbformat_minor": 5
}
