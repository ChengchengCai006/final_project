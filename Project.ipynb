{
 "cells": [
  {
   "cell_type": "markdown",
   "id": "d4c5a136-e872-4846-9965-9ddc5251a0b3",
   "metadata": {},
   "source": [
    "# NYC Apartment Search\n",
    "\n",
    "_[Project prompt](https://docs.google.com/document/d/1BYVyFBDcTywdUlanH0ysfOrNWPgl7UkqXA7NeewTzxA/edit#heading=h.bpxu7uvknnbk)_\n",
    "\n",
    "_This scaffolding notebook may be used to help setup your final project. It's **totally optional** whether you make use of this or not._\n",
    "\n",
    "_If you do use this notebook, everything provided is optional as well - you may remove or add code as you wish._\n",
    "\n",
    "_**All code below should be consider \"pseudo-code\" - not functional by itself, and only an idea of a possible approach.**_"
   ]
  },
  {
   "cell_type": "markdown",
   "id": "bdf11fa0-4684-4f5e-8048-0f4cc5f4f243",
   "metadata": {},
   "source": [
    "## Setup"
   ]
  },
  {
   "cell_type": "code",
   "execution_count": 30,
   "id": "0f675d4b-794e-407c-aac9-b85c4a3975d2",
   "metadata": {},
   "outputs": [],
   "source": [
    "# All import statements needed for the project\n",
    "import pathlib\n",
    "import pandas as pd\n",
    "import geopandas as gpd\n",
    "import matplotlib.pyplot as plt\n",
    "import requests\n",
    "import re\n",
    "import psycopg2\n",
    "import shapely\n",
    "import folium\n",
    "\n",
    "from sqlalchemy import create_engine, MetaData, Table, Column, Integer, String, Float, TIMESTAMP, Date, text\n",
    "from geoalchemy2 import Geometry, WKTElement\n",
    "from datetime import datetime, timedelta\n",
    "from shapely.geometry import Point\n",
    "from shapely.wkb import dumps\n",
    "from pathlib import Path"
   ]
  },
  {
   "cell_type": "code",
   "execution_count": 31,
   "id": "70a62277-51cf-48a2-81d2-9b2127088a7e",
   "metadata": {},
   "outputs": [],
   "source": [
    "# Any constants you might need; some have been added for you\n",
    "\n",
    "# Where data files will be read from/written to - this should already exist\n",
    "DATA_DIR = pathlib.Path(\"data\")\n",
    "ZIPCODE_DATA_FILE = DATA_DIR / \"nyc_zipcodes.shp\"\n",
    "ZILLOW_DATA_FILE = DATA_DIR / \"zillow_rent_data.csv\"\n",
    "\n",
    "NYC_DATA_APP_TOKEN = \"NJflFVV2YiwlXmMlt4Y9jwTGO\"\n",
    "API_311 = 'https://data.cityofnewyork.us/resource/erm2-nwe9.json'\n",
    "API_TREE='https://data.cityofnewyork.us/resource/uvpi-gqnh.json'\n",
    "\n",
    "## Soql for NYC_311 and NYC_TREE Download\n",
    "SOQL_BASE_QUERY_311 = f\"{API_311}?$where=created_date between '2015-01-01T00:00:00' and '2023-10-31T00:00:00'&$limit=1000000\"\n",
    "SOQL_QUERIES_311 = {f\"query_{i}\": f\"{SOQL_BASE_QUERY_311}&$offset={(i-1)*1000000}\" for i in range(1, 26)}\n",
    "SOQL_QUERY_TREE=f\"{API_TREE}?$where=created_at between '2015-01-01T00:00:00' and '2015-12-31T23:59:59'&$limit=1000000000\"\n",
    "\n",
    "DB_NAME = \"GroupProject\"\n",
    "DB_USER = 'postgres'\n",
    "DB_PASSWORD = ''\n",
    "DB_HOST = 'localhost'\n",
    "DB_URL=f'postgresql://{DB_USER}:{DB_PASSWORD}@{DB_HOST}/{DB_NAME}'\n",
    "DB_SCHEMA_FILE = \"schema.sql\"\n",
    "\n",
    "# directory where DB queries for Part 3 will be saved\n",
    "QUERY_DIR = pathlib.Path(\"queries\")"
   ]
  },
  {
   "cell_type": "code",
   "execution_count": 32,
   "id": "cd67cca9-ec72-44e3-83b8-b65f1ed5bb2f",
   "metadata": {},
   "outputs": [],
   "source": [
    "# Make sure the QUERY_DIRECTORY exists\n",
    "if not QUERY_DIR.exists():\n",
    "    QUERY_DIR.mkdir()"
   ]
  },
  {
   "cell_type": "markdown",
   "id": "52476a07-9bf2-4b7a-8cb7-93648bb4d303",
   "metadata": {},
   "source": [
    "## Part 1: Data Preprocessing"
   ]
  },
  {
   "cell_type": "markdown",
   "id": "7e08fe1c",
   "metadata": {},
   "source": [
    "### Download and Clean NYC_311"
   ]
  },
  {
   "cell_type": "code",
   "execution_count": 30,
   "id": "63b18f12-c0ce-4b9c-adc1-805703edc575",
   "metadata": {},
   "outputs": [],
   "source": [
    "def download_nyc_json_data(query):\n",
    "    headers = {'X-App-Token': NYC_DATA_APP_TOKEN }\n",
    "    response = requests.get(query, headers=headers)\n",
    "    df = pd.read_json(response.text)\n",
    "    return df"
   ]
  },
  {
   "cell_type": "code",
   "execution_count": 31,
   "id": "e56cca4c",
   "metadata": {},
   "outputs": [],
   "source": [
    "def download_311_data(queries_dict):\n",
    "    for query_name, query in queries_dict.items():\n",
    "        query_df = download_nyc_json_data(query)\n",
    "        query_df.to_csv(f\"{query_name}_data.csv\", index=False)"
   ]
  },
  {
   "cell_type": "code",
   "execution_count": 76,
   "id": "39c96195",
   "metadata": {},
   "outputs": [],
   "source": [
    "def load_and_clean_311_data():\n",
    "    all_data = pd.concat([pd.read_csv(f\"{query_name}_data.csv\", low_memory=False) for query_name in SOQL_QUERIES_311], ignore_index=True)\n",
    "\n",
    "    data_311 = all_data[['unique_key', 'created_date', 'complaint_type', 'incident_zip', 'latitude', 'longitude']].copy()\n",
    "\n",
    "    # Create a new column 'location' without modifying the original DataFrame\n",
    "    data_311['location'] = gpd.points_from_xy(data_311['longitude'], data_311['latitude'], crs=\"EPSG:4326\")\n",
    "\n",
    "    # Drop latitude and longitude columns\n",
    "    data_311 = data_311.drop(['latitude', 'longitude'], axis=1)\n",
    "\n",
    "    # Rename columns\n",
    "    data_311 = data_311.rename(columns={\"incident_zip\": \"zipcode\"})\n",
    "\n",
    "    # Drop rows with missing zip codes\n",
    "    data_311['zipcode'] = pd.to_numeric(data_311['zipcode'], errors='coerce')\n",
    "    data_311 = data_311.dropna(subset=['zipcode'])\n",
    "\n",
    "    # Change data types\n",
    "    convert_dict = {'unique_key': int, 'created_date': 'datetime64[ns]', 'complaint_type': str, 'zipcode': int}\n",
    "    data_311 = data_311.astype(convert_dict)\n",
    "\n",
    "    # Create GeoDataFrame with 'location' as the geometry column\n",
    "    geo_data_311 = gpd.GeoDataFrame(data_311, geometry='location')\n",
    "\n",
    "    return geo_data_311"
   ]
  },
  {
   "cell_type": "markdown",
   "id": "673fbbd9",
   "metadata": {},
   "source": [
    "### Download and Clean NYC_tree"
   ]
  },
  {
   "cell_type": "code",
   "execution_count": 77,
   "id": "ee245240-2fbb-45b8-9a92-4e2368f62c60",
   "metadata": {},
   "outputs": [],
   "source": [
    "def download_and_clean_tree_data():\n",
    "    # Download tree data for the year 2015\n",
    "    tree_data = download_nyc_json_data(SOQL_QUERY_TREE)\n",
    "\n",
    "    # Select relevant columns\n",
    "    selected_columns = ['tree_id', 'status', 'health', 'spc_common', 'zipcode', 'latitude', 'longitude']\n",
    "    tree_data = tree_data[selected_columns]\n",
    "\n",
    "    # Convert latitude and longitude to a GeoDataFrame with a 'location' column\n",
    "    tree_data['location'] = gpd.points_from_xy(tree_data['longitude'], tree_data['latitude'], crs=\"EPSG:4326\")\n",
    "\n",
    "    # Drop latitude and longitude columns\n",
    "    tree_data = tree_data.drop(['latitude', 'longitude'], axis=1)\n",
    "\n",
    "    # Rename columns\n",
    "    tree_data = tree_data.rename(columns={\"spc_common\": \"species\"})\n",
    "\n",
    "    return gpd.GeoDataFrame(tree_data, geometry='location')"
   ]
  },
  {
   "cell_type": "markdown",
   "id": "ea06c46a",
   "metadata": {},
   "source": [
    "### Load and Clean NYC_Zipcode"
   ]
  },
  {
   "cell_type": "code",
   "execution_count": 34,
   "id": "747ff49f-a18b-4fc0-8da6-6834a10d11ce",
   "metadata": {},
   "outputs": [],
   "source": [
    "def load_and_clean_zipcodes_data(zipcode_datafile): \n",
    "    try:\n",
    "        data = gpd.read_file(zipcode_datafile)\n",
    "        \n",
    "        # Select relevant columns and rename them\n",
    "        data_nyc = data[['ZIPCODE', 'geometry']].rename(\n",
    "            columns={\"ZIPCODE\": \"zipcode\", \"geometry\": \"location\"})\n",
    "        \n",
    "        # Create GeoDataFrame with the selected and renamed columns\n",
    "        zipcode_nyc = gpd.GeoDataFrame(data_nyc, geometry='location')\n",
    "        \n",
    "        # Change data types and coordinate reference system\n",
    "        zipcode_nyc = zipcode_nyc.to_crs(epsg=4326)\n",
    "        zipcode_nyc = zipcode_nyc.astype({'zipcode': int})\n",
    "        \n",
    "        # Drop duplicate zipcodes, keeping the first occurrence\n",
    "        zipcode_nyc = zipcode_nyc.drop_duplicates(subset=['zipcode'])\n",
    "        \n",
    "        return zipcode_nyc\n",
    "    \n",
    "    except Exception as e:\n",
    "        print(f\"Error: {e}. Could not read file: {zipcode_datafile}\")\n",
    "        return None"
   ]
  },
  {
   "cell_type": "markdown",
   "id": "22d98610",
   "metadata": {},
   "source": [
    "### Load and Clean NYC_Zillow"
   ]
  },
  {
   "cell_type": "code",
   "execution_count": 65,
   "id": "c9681a41",
   "metadata": {},
   "outputs": [],
   "source": [
    "def load_and_clean_zillow_data(zillow_datafile):\n",
    "    data = pd.read_csv(zillow_datafile)\n",
    "    \n",
    "    # Only get the data of \"NY\" state\n",
    "    zillow_data_NY = data[data.City == \"New York\"]\n",
    "    \n",
    "    # Get DataFrame containing selected columns and all numeric columns\n",
    "    numeric_columns = data.filter(regex='^\\d').columns.tolist()\n",
    "    zillow_NY_dataset = zillow_data_NY[[\"RegionName\"] + numeric_columns]\n",
    "    \n",
    "    # Melt the DataFrame to transform the date columns into rows\n",
    "    zillow_NY_dataset_melted = pd.melt(zillow_NY_dataset, id_vars=[\"RegionName\"], var_name=\"recorded_date\", value_name=\"rent\")\n",
    "    \n",
    "    # Drop rows with missing values in the \"value\" column\n",
    "    zillow_NY_dataset_melted = zillow_NY_dataset_melted.dropna(subset=[\"rent\"])\n",
    "    \n",
    "    # Rename some columns\n",
    "    zillow_NY_dataset_melted = zillow_NY_dataset_melted.rename(columns={\"RegionName\": \"zipcode\"})\n",
    "    \n",
    "    # Convert \"date\" column to date format\n",
    "    zillow_NY_dataset_melted[\"recorded_date\"] = pd.to_datetime(zillow_NY_dataset_melted[\"recorded_date\"])\n",
    "    \n",
    "    return zillow_NY_dataset_melted"
   ]
  },
  {
   "cell_type": "markdown",
   "id": "120e60ce",
   "metadata": {},
   "source": [
    "### Load all data"
   ]
  },
  {
   "cell_type": "code",
   "execution_count": 71,
   "id": "345ebc2c-14f1-490c-9857-11f1e332e3bc",
   "metadata": {},
   "outputs": [],
   "source": [
    "def load_all_data():\n",
    "    data_311 = load_and_clean_311_data()\n",
    "    data_tree = download_and_clean_tree_data()\n",
    "    data_zipcode = load_and_clean_zipcodes_data(ZIPCODE_DATA_FILE)\n",
    "    data_zillow = load_and_clean_zillow_data(ZILLOW_DATA_FILE)\n",
    "    \n",
    "    return (\n",
    "        data_311,\n",
    "        data_tree,\n",
    "        data_zipcode,\n",
    "        data_zillow\n",
    "    )"
   ]
  },
  {
   "cell_type": "code",
   "execution_count": 78,
   "id": "f2768bc8-4130-4298-be28-13d4b250a666",
   "metadata": {},
   "outputs": [],
   "source": [
    "data_311, data_tree, data_zipcode, data_zillow = load_all_data()"
   ]
  },
  {
   "cell_type": "code",
   "execution_count": 79,
   "id": "23ad8bbc-bf91-457e-97db-a945fabeee29",
   "metadata": {},
   "outputs": [
    {
     "name": "stdout",
     "output_type": "stream",
     "text": [
      "<class 'geopandas.geodataframe.GeoDataFrame'>\n",
      "Index: 5056549 entries, 9 to 24626307\n",
      "Data columns (total 5 columns):\n",
      " #   Column          Dtype         \n",
      "---  ------          -----         \n",
      " 0   unique_key      int64         \n",
      " 1   created_date    datetime64[ns]\n",
      " 2   complaint_type  object        \n",
      " 3   zipcode         int64         \n",
      " 4   location        geometry      \n",
      "dtypes: datetime64[ns](1), geometry(1), int64(2), object(1)\n",
      "memory usage: 231.5+ MB\n"
     ]
    }
   ],
   "source": [
    "# Show basic info about each dataframe\n",
    "data_311.info()"
   ]
  },
  {
   "cell_type": "code",
   "execution_count": 80,
   "id": "ec68f4be-f365-46c1-91a1-ab75deb75ff4",
   "metadata": {},
   "outputs": [
    {
     "data": {
      "text/html": [
       "<div>\n",
       "<style scoped>\n",
       "    .dataframe tbody tr th:only-of-type {\n",
       "        vertical-align: middle;\n",
       "    }\n",
       "\n",
       "    .dataframe tbody tr th {\n",
       "        vertical-align: top;\n",
       "    }\n",
       "\n",
       "    .dataframe thead th {\n",
       "        text-align: right;\n",
       "    }\n",
       "</style>\n",
       "<table border=\"1\" class=\"dataframe\">\n",
       "  <thead>\n",
       "    <tr style=\"text-align: right;\">\n",
       "      <th></th>\n",
       "      <th>unique_key</th>\n",
       "      <th>created_date</th>\n",
       "      <th>complaint_type</th>\n",
       "      <th>zipcode</th>\n",
       "      <th>location</th>\n",
       "    </tr>\n",
       "  </thead>\n",
       "  <tbody>\n",
       "    <tr>\n",
       "      <th>9</th>\n",
       "      <td>59273608</td>\n",
       "      <td>2023-10-30 23:58:22</td>\n",
       "      <td>Noise - Residential</td>\n",
       "      <td>11233</td>\n",
       "      <td>POINT (-73.93110 40.68470)</td>\n",
       "    </tr>\n",
       "    <tr>\n",
       "      <th>10</th>\n",
       "      <td>59277713</td>\n",
       "      <td>2023-10-30 23:58:20</td>\n",
       "      <td>Noise - Street/Sidewalk</td>\n",
       "      <td>11229</td>\n",
       "      <td>POINT (-73.95575 40.60559)</td>\n",
       "    </tr>\n",
       "    <tr>\n",
       "      <th>17</th>\n",
       "      <td>59271083</td>\n",
       "      <td>2023-10-30 23:54:45</td>\n",
       "      <td>Noise - Street/Sidewalk</td>\n",
       "      <td>10025</td>\n",
       "      <td>POINT (-73.96521 40.80111)</td>\n",
       "    </tr>\n",
       "    <tr>\n",
       "      <th>18</th>\n",
       "      <td>59270832</td>\n",
       "      <td>2023-10-30 23:54:19</td>\n",
       "      <td>Noise - Residential</td>\n",
       "      <td>11102</td>\n",
       "      <td>POINT (-73.92473 40.76758)</td>\n",
       "    </tr>\n",
       "    <tr>\n",
       "      <th>20</th>\n",
       "      <td>59272404</td>\n",
       "      <td>2023-10-30 23:54:04</td>\n",
       "      <td>Noise - Vehicle</td>\n",
       "      <td>11434</td>\n",
       "      <td>POINT (-73.77976 40.69105)</td>\n",
       "    </tr>\n",
       "  </tbody>\n",
       "</table>\n",
       "</div>"
      ],
      "text/plain": [
       "    unique_key        created_date           complaint_type  zipcode  \\\n",
       "9     59273608 2023-10-30 23:58:22      Noise - Residential    11233   \n",
       "10    59277713 2023-10-30 23:58:20  Noise - Street/Sidewalk    11229   \n",
       "17    59271083 2023-10-30 23:54:45  Noise - Street/Sidewalk    10025   \n",
       "18    59270832 2023-10-30 23:54:19      Noise - Residential    11102   \n",
       "20    59272404 2023-10-30 23:54:04          Noise - Vehicle    11434   \n",
       "\n",
       "                      location  \n",
       "9   POINT (-73.93110 40.68470)  \n",
       "10  POINT (-73.95575 40.60559)  \n",
       "17  POINT (-73.96521 40.80111)  \n",
       "18  POINT (-73.92473 40.76758)  \n",
       "20  POINT (-73.77976 40.69105)  "
      ]
     },
     "execution_count": 80,
     "metadata": {},
     "output_type": "execute_result"
    }
   ],
   "source": [
    "# Show first 5 entries about each dataframe\n",
    "data_311.head()"
   ]
  },
  {
   "cell_type": "code",
   "execution_count": 81,
   "id": "6a803b68-2f07-44b8-8b24-d4f16c9e03fe",
   "metadata": {},
   "outputs": [
    {
     "name": "stdout",
     "output_type": "stream",
     "text": [
      "<class 'geopandas.geodataframe.GeoDataFrame'>\n",
      "RangeIndex: 509525 entries, 0 to 509524\n",
      "Data columns (total 6 columns):\n",
      " #   Column    Non-Null Count   Dtype   \n",
      "---  ------    --------------   -----   \n",
      " 0   tree_id   509525 non-null  int64   \n",
      " 1   status    509525 non-null  object  \n",
      " 2   health    485498 non-null  object  \n",
      " 3   species   485498 non-null  object  \n",
      " 4   zipcode   509525 non-null  int64   \n",
      " 5   location  509525 non-null  geometry\n",
      "dtypes: geometry(1), int64(2), object(3)\n",
      "memory usage: 23.3+ MB\n"
     ]
    }
   ],
   "source": [
    "data_tree.info()"
   ]
  },
  {
   "cell_type": "code",
   "execution_count": 82,
   "id": "14705df9-ea77-4d57-ac8e-1845f80a216d",
   "metadata": {},
   "outputs": [
    {
     "data": {
      "text/html": [
       "<div>\n",
       "<style scoped>\n",
       "    .dataframe tbody tr th:only-of-type {\n",
       "        vertical-align: middle;\n",
       "    }\n",
       "\n",
       "    .dataframe tbody tr th {\n",
       "        vertical-align: top;\n",
       "    }\n",
       "\n",
       "    .dataframe thead th {\n",
       "        text-align: right;\n",
       "    }\n",
       "</style>\n",
       "<table border=\"1\" class=\"dataframe\">\n",
       "  <thead>\n",
       "    <tr style=\"text-align: right;\">\n",
       "      <th></th>\n",
       "      <th>tree_id</th>\n",
       "      <th>status</th>\n",
       "      <th>health</th>\n",
       "      <th>species</th>\n",
       "      <th>zipcode</th>\n",
       "      <th>location</th>\n",
       "    </tr>\n",
       "  </thead>\n",
       "  <tbody>\n",
       "    <tr>\n",
       "      <th>0</th>\n",
       "      <td>180683</td>\n",
       "      <td>Alive</td>\n",
       "      <td>Fair</td>\n",
       "      <td>red maple</td>\n",
       "      <td>11375</td>\n",
       "      <td>POINT (-73.84422 40.72309)</td>\n",
       "    </tr>\n",
       "    <tr>\n",
       "      <th>1</th>\n",
       "      <td>200540</td>\n",
       "      <td>Alive</td>\n",
       "      <td>Fair</td>\n",
       "      <td>pin oak</td>\n",
       "      <td>11357</td>\n",
       "      <td>POINT (-73.81868 40.79411)</td>\n",
       "    </tr>\n",
       "    <tr>\n",
       "      <th>2</th>\n",
       "      <td>204026</td>\n",
       "      <td>Alive</td>\n",
       "      <td>Good</td>\n",
       "      <td>honeylocust</td>\n",
       "      <td>11211</td>\n",
       "      <td>POINT (-73.93661 40.71758)</td>\n",
       "    </tr>\n",
       "    <tr>\n",
       "      <th>3</th>\n",
       "      <td>204337</td>\n",
       "      <td>Alive</td>\n",
       "      <td>Good</td>\n",
       "      <td>honeylocust</td>\n",
       "      <td>11211</td>\n",
       "      <td>POINT (-73.93446 40.71354)</td>\n",
       "    </tr>\n",
       "    <tr>\n",
       "      <th>4</th>\n",
       "      <td>189565</td>\n",
       "      <td>Alive</td>\n",
       "      <td>Good</td>\n",
       "      <td>American linden</td>\n",
       "      <td>11215</td>\n",
       "      <td>POINT (-73.97598 40.66678)</td>\n",
       "    </tr>\n",
       "  </tbody>\n",
       "</table>\n",
       "</div>"
      ],
      "text/plain": [
       "   tree_id status health          species  zipcode                    location\n",
       "0   180683  Alive   Fair        red maple    11375  POINT (-73.84422 40.72309)\n",
       "1   200540  Alive   Fair          pin oak    11357  POINT (-73.81868 40.79411)\n",
       "2   204026  Alive   Good      honeylocust    11211  POINT (-73.93661 40.71758)\n",
       "3   204337  Alive   Good      honeylocust    11211  POINT (-73.93446 40.71354)\n",
       "4   189565  Alive   Good  American linden    11215  POINT (-73.97598 40.66678)"
      ]
     },
     "execution_count": 82,
     "metadata": {},
     "output_type": "execute_result"
    }
   ],
   "source": [
    "data_tree.head()"
   ]
  },
  {
   "cell_type": "code",
   "execution_count": 83,
   "id": "e6006cd2-3a00-4660-8d2a-a660b9bfd91e",
   "metadata": {},
   "outputs": [
    {
     "name": "stdout",
     "output_type": "stream",
     "text": [
      "<class 'geopandas.geodataframe.GeoDataFrame'>\n",
      "Index: 248 entries, 0 to 262\n",
      "Data columns (total 2 columns):\n",
      " #   Column    Non-Null Count  Dtype   \n",
      "---  ------    --------------  -----   \n",
      " 0   zipcode   248 non-null    int64   \n",
      " 1   geometry  248 non-null    geometry\n",
      "dtypes: geometry(1), int64(1)\n",
      "memory usage: 5.8 KB\n"
     ]
    }
   ],
   "source": [
    "data_zipcode.info()"
   ]
  },
  {
   "cell_type": "code",
   "execution_count": 84,
   "id": "07f880ef-c5fc-4159-8174-21ccd44f492d",
   "metadata": {},
   "outputs": [
    {
     "data": {
      "text/html": [
       "<div>\n",
       "<style scoped>\n",
       "    .dataframe tbody tr th:only-of-type {\n",
       "        vertical-align: middle;\n",
       "    }\n",
       "\n",
       "    .dataframe tbody tr th {\n",
       "        vertical-align: top;\n",
       "    }\n",
       "\n",
       "    .dataframe thead th {\n",
       "        text-align: right;\n",
       "    }\n",
       "</style>\n",
       "<table border=\"1\" class=\"dataframe\">\n",
       "  <thead>\n",
       "    <tr style=\"text-align: right;\">\n",
       "      <th></th>\n",
       "      <th>zipcode</th>\n",
       "      <th>geometry</th>\n",
       "    </tr>\n",
       "  </thead>\n",
       "  <tbody>\n",
       "    <tr>\n",
       "      <th>0</th>\n",
       "      <td>11436</td>\n",
       "      <td>POLYGON ((-73.80585 40.68291, -73.80569 40.682...</td>\n",
       "    </tr>\n",
       "    <tr>\n",
       "      <th>1</th>\n",
       "      <td>11213</td>\n",
       "      <td>POLYGON ((-73.93740 40.67973, -73.93487 40.679...</td>\n",
       "    </tr>\n",
       "    <tr>\n",
       "      <th>2</th>\n",
       "      <td>11212</td>\n",
       "      <td>POLYGON ((-73.90294 40.67084, -73.90223 40.668...</td>\n",
       "    </tr>\n",
       "    <tr>\n",
       "      <th>3</th>\n",
       "      <td>11225</td>\n",
       "      <td>POLYGON ((-73.95797 40.67066, -73.95576 40.670...</td>\n",
       "    </tr>\n",
       "    <tr>\n",
       "      <th>4</th>\n",
       "      <td>11218</td>\n",
       "      <td>POLYGON ((-73.97208 40.65060, -73.97192 40.650...</td>\n",
       "    </tr>\n",
       "  </tbody>\n",
       "</table>\n",
       "</div>"
      ],
      "text/plain": [
       "   zipcode                                           geometry\n",
       "0    11436  POLYGON ((-73.80585 40.68291, -73.80569 40.682...\n",
       "1    11213  POLYGON ((-73.93740 40.67973, -73.93487 40.679...\n",
       "2    11212  POLYGON ((-73.90294 40.67084, -73.90223 40.668...\n",
       "3    11225  POLYGON ((-73.95797 40.67066, -73.95576 40.670...\n",
       "4    11218  POLYGON ((-73.97208 40.65060, -73.97192 40.650..."
      ]
     },
     "execution_count": 84,
     "metadata": {},
     "output_type": "execute_result"
    }
   ],
   "source": [
    "data_zipcode.head()"
   ]
  },
  {
   "cell_type": "code",
   "execution_count": 85,
   "id": "59724f74-5f1e-435c-b843-f381a875dd4a",
   "metadata": {},
   "outputs": [
    {
     "name": "stdout",
     "output_type": "stream",
     "text": [
      "<class 'pandas.core.frame.DataFrame'>\n",
      "Index: 9039 entries, 5 to 15224\n",
      "Data columns (total 3 columns):\n",
      " #   Column         Non-Null Count  Dtype         \n",
      "---  ------         --------------  -----         \n",
      " 0   zipcode        9039 non-null   int64         \n",
      " 1   recorded_date  9039 non-null   datetime64[ns]\n",
      " 2   rent           9039 non-null   float64       \n",
      "dtypes: datetime64[ns](1), float64(1), int64(1)\n",
      "memory usage: 282.5 KB\n"
     ]
    }
   ],
   "source": [
    "data_zillow.info()"
   ]
  },
  {
   "cell_type": "code",
   "execution_count": 86,
   "id": "e29ae5d9-9768-4590-a2f2-dd63b07dd712",
   "metadata": {},
   "outputs": [
    {
     "data": {
      "text/html": [
       "<div>\n",
       "<style scoped>\n",
       "    .dataframe tbody tr th:only-of-type {\n",
       "        vertical-align: middle;\n",
       "    }\n",
       "\n",
       "    .dataframe tbody tr th {\n",
       "        vertical-align: top;\n",
       "    }\n",
       "\n",
       "    .dataframe thead th {\n",
       "        text-align: right;\n",
       "    }\n",
       "</style>\n",
       "<table border=\"1\" class=\"dataframe\">\n",
       "  <thead>\n",
       "    <tr style=\"text-align: right;\">\n",
       "      <th></th>\n",
       "      <th>zipcode</th>\n",
       "      <th>recorded_date</th>\n",
       "      <th>rent</th>\n",
       "    </tr>\n",
       "  </thead>\n",
       "  <tbody>\n",
       "    <tr>\n",
       "      <th>5</th>\n",
       "      <td>11226</td>\n",
       "      <td>2015-01-31</td>\n",
       "      <td>1944.609891</td>\n",
       "    </tr>\n",
       "    <tr>\n",
       "      <th>7</th>\n",
       "      <td>10025</td>\n",
       "      <td>2015-01-31</td>\n",
       "      <td>3068.951823</td>\n",
       "    </tr>\n",
       "    <tr>\n",
       "      <th>13</th>\n",
       "      <td>11206</td>\n",
       "      <td>2015-01-31</td>\n",
       "      <td>2482.829299</td>\n",
       "    </tr>\n",
       "    <tr>\n",
       "      <th>14</th>\n",
       "      <td>11221</td>\n",
       "      <td>2015-01-31</td>\n",
       "      <td>2125.738807</td>\n",
       "    </tr>\n",
       "    <tr>\n",
       "      <th>20</th>\n",
       "      <td>11235</td>\n",
       "      <td>2015-01-31</td>\n",
       "      <td>1687.789898</td>\n",
       "    </tr>\n",
       "  </tbody>\n",
       "</table>\n",
       "</div>"
      ],
      "text/plain": [
       "    zipcode recorded_date         rent\n",
       "5     11226    2015-01-31  1944.609891\n",
       "7     10025    2015-01-31  3068.951823\n",
       "13    11206    2015-01-31  2482.829299\n",
       "14    11221    2015-01-31  2125.738807\n",
       "20    11235    2015-01-31  1687.789898"
      ]
     },
     "execution_count": 86,
     "metadata": {},
     "output_type": "execute_result"
    }
   ],
   "source": [
    "data_zillow.head()"
   ]
  },
  {
   "cell_type": "markdown",
   "id": "e685942c-26dc-40db-84c2-a71aa3340806",
   "metadata": {},
   "source": [
    "## Part 2: Storing Data"
   ]
  },
  {
   "cell_type": "code",
   "execution_count": 33,
   "id": "f349fbdd-67d0-40a4-97a0-d9b8c8ec8013",
   "metadata": {},
   "outputs": [
    {
     "name": "stdout",
     "output_type": "stream",
     "text": [
      "createdb: error: database creation failed: ERROR:  database \"GroupProject\" already exists\r\n"
     ]
    }
   ],
   "source": [
    "## first step: create database 'GroupProject'in PostgreSQL\n",
    "!createdb GroupProject"
   ]
  },
  {
   "cell_type": "code",
   "execution_count": 34,
   "id": "590ed80d-7b60-484f-a123-23b673b0f440",
   "metadata": {},
   "outputs": [
    {
     "name": "stdout",
     "output_type": "stream",
     "text": [
      "ERROR:  extension \"postgis\" already exists\r\n"
     ]
    }
   ],
   "source": [
    "!psql --dbname GroupProject -c 'CREATE EXTENSION postgis;'"
   ]
  },
  {
   "cell_type": "markdown",
   "id": "527a251c-f337-4b24-bb41-96ee4621a9bd",
   "metadata": {},
   "source": [
    "### Creating Tables\n",
    "\n",
    "\n",
    "These are just a couple of options to creating your tables; you can use one or the other, a different method, or a combination."
   ]
  },
  {
   "cell_type": "code",
   "execution_count": 54,
   "id": "490d0cc6-74b3-4d35-a454-57f647c9f8e3",
   "metadata": {},
   "outputs": [],
   "source": [
    "def create_tables(engine):\n",
    "    metadata = MetaData()\n",
    "\n",
    "    nyc_311 = Table(\n",
    "        'nyc_311', metadata,\n",
    "        Column('unique_key', Integer, primary_key=True),\n",
    "        Column('created_date', TIMESTAMP),\n",
    "        Column('complaint_type', String),\n",
    "        Column('zipcode', Integer),\n",
    "        Column('location', Geometry('POINT', srid=4326))\n",
    "    )\n",
    "\n",
    "    nyc_tree = Table(\n",
    "        'nyc_tree', metadata,\n",
    "        Column('tree_id', Integer, primary_key=True),\n",
    "        Column('status', String),\n",
    "        Column('health', String),\n",
    "        Column('species', String),\n",
    "        Column('zipcode', Integer),\n",
    "        Column('location', Geometry('POINT', srid=4326))\n",
    "    )\n",
    "\n",
    "    nyc_zipcode = Table(\n",
    "        'nyc_zipcode', metadata,\n",
    "        Column('zipcode', Integer, primary_key=True),\n",
    "        Column('location', Geometry('POLYGON', srid=4326))\n",
    "    )\n",
    "    \n",
    "    nyc_zillow = Table(\n",
    "        'nyc_zillow', metadata,\n",
    "        Column('zipcode', Integer, primary_key=True),\n",
    "        Column('recorded_date', Date),\n",
    "        Column('rent', Float)\n",
    "    )\n",
    "\n",
    "    metadata.create_all(engine)"
   ]
  },
  {
   "cell_type": "code",
   "execution_count": 55,
   "id": "7759fefc",
   "metadata": {},
   "outputs": [],
   "source": [
    "def create_indexes(connection):\n",
    "    sql_create_indexes = \"\"\"\n",
    "    CREATE INDEX IF NOT EXISTS idx_nyc_311_location ON \"nyc_311\" USING gist (location);\n",
    "    CREATE INDEX IF NOT EXISTS idx_nyc_tree_location ON \"nyc_tree\" USING gist (location);\n",
    "    CREATE INDEX IF NOT EXISTS idx_nyc_zipcode_location ON \"nyc_zipcode\" USING gist (location);\n",
    "    \"\"\"\n",
    "\n",
    "    with connection.cursor() as cursor:\n",
    "        cursor.execute(sql_create_indexes)"
   ]
  },
  {
   "cell_type": "code",
   "execution_count": 15,
   "id": "f36d86f6-ff6e-4bb8-8fa2-df0d4282e959",
   "metadata": {},
   "outputs": [
    {
     "ename": "NameError",
     "evalue": "name 'create_tables' is not defined",
     "output_type": "error",
     "traceback": [
      "\u001b[0;31m---------------------------------------------------------------------------\u001b[0m",
      "\u001b[0;31mNameError\u001b[0m                                 Traceback (most recent call last)",
      "Cell \u001b[0;32mIn[15], line 2\u001b[0m\n\u001b[1;32m      1\u001b[0m engine \u001b[38;5;241m=\u001b[39m create_engine(DB_URL)\n\u001b[0;32m----> 2\u001b[0m create_tables(engine)\n",
      "\u001b[0;31mNameError\u001b[0m: name 'create_tables' is not defined"
     ]
    }
   ],
   "source": [
    "engine = create_engine(DB_URL)\n",
    "create_tables(engine)"
   ]
  },
  {
   "cell_type": "code",
   "execution_count": 57,
   "id": "48eacd37-4fd7-4768-b689-88b07d5c234e",
   "metadata": {},
   "outputs": [],
   "source": [
    "with psycopg2.connect(DB_URL) as connection:\n",
    "    create_indexes(connection)"
   ]
  },
  {
   "cell_type": "markdown",
   "id": "2e88a50c-9528-4a5c-9a52-b96781ee8985",
   "metadata": {},
   "source": [
    "### Add Data to Database"
   ]
  },
  {
   "cell_type": "code",
   "execution_count": 58,
   "id": "69e37800-cd95-44b5-9c21-eb7ac2b2e4ec",
   "metadata": {},
   "outputs": [],
   "source": [
    "def write_dataframes_to_table(df_name, table_name):\n",
    "    engine = create_engine(DB_URL)\n",
    "    \n",
    "    # if it cantains geometry data, use \"gpd.to_postgis\", else use \"pd.to_sql\"\n",
    "    try:\n",
    "        df_name.to_postgis(table_name, engine, if_exists='replace', index=False)\n",
    "    except:\n",
    "        df_name.to_sql(table_name, engine, if_exists='replace', index=False)"
   ]
  },
  {
   "cell_type": "code",
   "execution_count": 59,
   "id": "d1f042f5-8270-477d-929a-872f7d9a0bc8",
   "metadata": {},
   "outputs": [],
   "source": [
    "write_dataframes_to_table(data_311, 'nyc_311')\n",
    "write_dataframes_to_table(data_tree, 'nyc_tree')\n",
    "write_dataframes_to_table(data_zipcode,\"nyc_zipcode\")\n",
    "write_dataframes_to_table(data_zillow,\"nyc_zillow\")"
   ]
  },
  {
   "cell_type": "markdown",
   "id": "eb63b553-0c64-4da8-9fc7-41555d89d853",
   "metadata": {},
   "source": [
    "## Part 3: Understanding the Data"
   ]
  },
  {
   "cell_type": "markdown",
   "id": "7ac7e12b-e251-4f08-8dc5-601db30c2089",
   "metadata": {},
   "source": [
    "### Query 1 : Which area might be more calm to live in?\n",
    "Between October 1st, 2022 and September 30th, 2023 (inclusive), find the number of 311 complaints per zip code. \n",
    "\n",
    "The query result should have two columns, one row per zip code, with the number of complaints in descending order."
   ]
  },
  {
   "cell_type": "code",
   "execution_count": 20,
   "id": "d6ce8548-4aba-4bf9-992c-dedd0f249db4",
   "metadata": {},
   "outputs": [],
   "source": [
    "# Helper function to write the queries to file\n",
    "# Setting the filename for the SQL query file\n",
    "def write_query_to_file(query, outfile):\n",
    "    with open(outfile, 'w') as file:\n",
    "        file.write(query)  # Writing the SQL query to the specified file"
   ]
  },
  {
   "cell_type": "code",
   "execution_count": 26,
   "id": "6605e6f3-ec42-4a8b-833c-5138c14b678b",
   "metadata": {},
   "outputs": [],
   "source": [
    "# Setting the filename for the SQL query file\n",
    "QUERY_1_FILENAME = QUERY_DIR / \"top_zipcodes_by_complaints.sql\"\n",
    "\n",
    "\n",
    "# SQL query to find the number of 311 complaints per zip code\n",
    "QUERY_1 = \"\"\"\n",
    "SELECT zipcode, COUNT(*) AS complaint_count\n",
    "FROM nyc_311\n",
    "WHERE created_date BETWEEN '2022-10-01' AND '2023-09-30'\n",
    "GROUP BY zipcode\n",
    "ORDER BY complaint_count DESC;\n",
    "\"\"\""
   ]
  },
  {
   "cell_type": "code",
   "execution_count": 28,
   "id": "ce044adf-ecdf-4237-9b20-b7cdaaab0c6c",
   "metadata": {},
   "outputs": [
    {
     "name": "stdout",
     "output_type": "stream",
     "text": [
      "Zip Code\tComplaint Count\n",
      "10023｜15595\n",
      "10031｜12439\n",
      "10456｜12291\n",
      "10025｜11903\n",
      "10453｜11408\n",
      "10457｜11086\n",
      "10458｜10642\n",
      "10032｜10619\n",
      "10452｜10544\n",
      "10468｜10309\n",
      "11226｜10184\n",
      "10466｜10067\n",
      "11201｜10051\n",
      "11221｜10017\n",
      "11414｜9725\n",
      "10002｜8889\n",
      "11238｜8580\n",
      "11207｜8504\n",
      "10467｜8237\n",
      "10033｜8201\n",
      "10027｜8089\n",
      "10034｜7676\n",
      "11216｜7518\n",
      "10011｜7290\n",
      "11237｜7277\n",
      "10009｜7234\n",
      "11206｜6838\n",
      "11368｜6710\n",
      "10029｜6627\n",
      "11208｜6505\n",
      "10040｜6490\n",
      "11225｜6374\n",
      "10026｜6363\n",
      "11211｜6193\n",
      "11385｜6190\n",
      "10472｜6178\n",
      "11212｜6110\n",
      "10463｜5922\n",
      "10003｜5848\n",
      "10460｜5705\n",
      "10030｜5494\n",
      "10019｜5461\n",
      "10462｜5300\n",
      "11233｜5239\n",
      "11372｜4976\n",
      "10016｜4970\n",
      "11220｜4916\n",
      "11366｜4886\n",
      "11249｜4884\n",
      "11419｜4860\n",
      "11377｜4784\n",
      "11213｜4757\n",
      "11373｜4750\n",
      "11433｜4723\n",
      "10028｜4679\n",
      "10024｜4556\n",
      "11101｜4545\n",
      "10451｜4464\n",
      "10035｜4430\n",
      "10455｜4402\n",
      "11203｜4398\n",
      "11217｜4346\n",
      "10459｜4338\n",
      "11231｜4297\n",
      "11420｜4280\n",
      "11103｜4217\n",
      "11222｜4142\n",
      "11375｜4011\n",
      "11209｜3905\n",
      "11235｜3618\n",
      "10454｜3528\n",
      "11215｜3525\n",
      "10473｜3460\n",
      "10036｜3445\n",
      "11357｜3344\n",
      "10014｜3340\n",
      "10128｜3306\n",
      "11435｜3286\n",
      "11229｜3284\n",
      "11223｜3269\n",
      "11234｜3267\n",
      "11218｜3222\n",
      "10001｜3207\n",
      "11230｜3201\n",
      "10012｜3184\n",
      "10461｜3164\n",
      "11106｜3145\n",
      "11224｜3022\n",
      "11355｜2951\n",
      "10469｜2909\n",
      "11421｜2891\n",
      "10039｜2853\n",
      "11210｜2817\n",
      "10301｜2712\n",
      "11214｜2702\n",
      "11232｜2681\n",
      "11236｜2649\n",
      "11205｜2641\n",
      "11434｜2615\n",
      "11691｜2607\n",
      "11432｜2541\n",
      "10013｜2506\n",
      "11102｜2383\n",
      "10465｜2372\n",
      "11354｜2357\n",
      "11204｜2244\n",
      "11105｜2158\n",
      "10314｜2088\n",
      "10037｜2073\n",
      "11417｜1910\n",
      "11374｜1870\n",
      "11219｜1845\n",
      "11418｜1835\n",
      "10304｜1834\n",
      "10021｜1807\n",
      "10038｜1803\n",
      "10010｜1775\n",
      "11356｜1669\n",
      "11378｜1663\n",
      "11104｜1632\n",
      "10306｜1603\n",
      "11436｜1602\n",
      "11361｜1532\n",
      "11369｜1522\n",
      "11412｜1509\n",
      "11365｜1476\n",
      "11694｜1403\n",
      "11358｜1368\n",
      "11423｜1327\n",
      "10470｜1325\n",
      "11367｜1323\n",
      "10065｜1297\n",
      "10471｜1293\n",
      "11428｜1292\n",
      "10075｜1269\n",
      "11692｜1267\n",
      "10022｜1256\n",
      "11416｜1177\n",
      "10017｜1162\n",
      "10305｜1157\n",
      "11413｜1139\n",
      "11415｜1119\n",
      "11379｜1099\n",
      "11422｜1031\n",
      "11370｜990\n",
      "10312｜982\n",
      "10310｜922\n",
      "10018｜913\n",
      "11693｜896\n",
      "11411｜834\n",
      "10474｜817\n",
      "10302｜793\n",
      "11228｜787\n",
      "11429｜767\n",
      "10303｜763\n",
      "11427｜718\n",
      "11364｜701\n",
      "10309｜669\n",
      "10307｜609\n",
      "10308｜568\n",
      "10007｜532\n",
      "10005｜530\n",
      "11239｜525\n",
      "11426｜445\n",
      "10464｜442\n",
      "10475｜435\n",
      "11004｜431\n",
      "11360｜419\n",
      "10004｜328\n",
      "10000｜241\n",
      "11362｜224\n",
      "10006｜223\n",
      "10044｜218\n",
      "11109｜216\n",
      "10280｜175\n",
      "10282｜167\n",
      "11363｜104\n",
      "10069｜99\n",
      "11040｜77\n",
      "11001｜57\n",
      "11359｜44\n",
      "10020｜18\n",
      "11005｜17\n",
      "10105｜16\n",
      "10120｜12\n",
      "10162｜11\n",
      "10110｜10\n",
      "11697｜8\n",
      "10106｜8\n",
      "10281｜6\n",
      "10169｜5\n",
      "11430｜4\n",
      "10121｜4\n",
      "10118｜4\n",
      "10154｜4\n",
      "10278｜3\n",
      "10172｜3\n",
      "10103｜3\n",
      "10112｜3\n",
      "10178｜3\n",
      "12345｜2\n",
      "10158｜2\n",
      "10153｜2\n",
      "10048｜2\n",
      "11241｜2\n",
      "10041｜2\n",
      "11251｜2\n",
      "10165｜1\n",
      "10166｜1\n",
      "11242｜1\n",
      "10045｜1\n",
      "10271｜1\n",
      "10171｜1\n",
      "10119｜1\n",
      "10123｜1\n",
      "10155｜1\n",
      "10279｜1\n"
     ]
    }
   ],
   "source": [
    "with engine.connect() as conn:\n",
    "    result = conn.execute(text(QUERY_1))\n",
    "    print(f\"Zip Code\\tComplaint Count\")\n",
    "    for row in result:\n",
    "        print(f\"{row.zipcode}｜{row.complaint_count}\")"
   ]
  },
  {
   "cell_type": "code",
   "execution_count": null,
   "id": "4b7b2c3d-8961-4c7e-8eb1-fc973d0ab9c1",
   "metadata": {},
   "outputs": [],
   "source": [
    "write_query_to_file(QUERY_1, QUERY_1_FILENAME)"
   ]
  },
  {
   "cell_type": "markdown",
   "id": "6aa157ef",
   "metadata": {},
   "source": [
    "### Query 2: Where has the most greenery?\n",
    "Using just the trees table, which 10 zip codes have the most trees?\n",
    "\n",
    "The query result should have two columns, 10 rows. The rows should be sorted by the total number of trees, descending."
   ]
  },
  {
   "cell_type": "code",
   "execution_count": 23,
   "id": "ad8c30f9",
   "metadata": {},
   "outputs": [],
   "source": [
    "QUERY_2_FILENAME = QUERY_DIR / \"zipcodes_by_tree_count.sq\"\n",
    "\n",
    "QUERY_2 = \"\"\"\n",
    "SELECT zipcode, COUNT(*) AS tree_count\n",
    "FROM nyc_tree\n",
    "WHERE status = 'Alive'\n",
    "GROUP BY zipcode\n",
    "ORDER BY tree_count DESC\n",
    "LIMIT 10;\n",
    "\"\"\""
   ]
  },
  {
   "cell_type": "code",
   "execution_count": 24,
   "id": "5b564f23",
   "metadata": {},
   "outputs": [
    {
     "name": "stdout",
     "output_type": "stream",
     "text": [
      "Zip Code| Tree Count\n",
      "10312| 20155\n",
      "10314| 15291\n",
      "10306| 11905\n",
      "10309| 11133\n",
      "11208| 7762\n",
      "11207| 7456\n",
      "11385| 7382\n",
      "11230| 6936\n",
      "10308| 6479\n",
      "10305| 6239\n"
     ]
    }
   ],
   "source": [
    "with engine.connect() as conn:\n",
    "    result = conn.execute(text(QUERY_2))\n",
    "    print(f\"Zip Code| Tree Count\")\n",
    "    for row in result:\n",
    "        print(f\"{row.zipcode}| {row.tree_count}\")"
   ]
  },
  {
   "cell_type": "code",
   "execution_count": null,
   "id": "5df945a4",
   "metadata": {},
   "outputs": [],
   "source": [
    "write_query_to_file(QUERY_2, QUERY_2_FILENAME)"
   ]
  },
  {
   "cell_type": "markdown",
   "id": "03814875",
   "metadata": {},
   "source": [
    "### Query 3: Can I afford a place in the areas with the most trees?\n",
    "Of the 10 zip codes with the most trees, for the month of August 2023, what is the average rent by zip code?\n",
    "\n",
    "The query should have a JOIN statement. The query result should have two columns (not three) and 10 rows. The rows should be sorted by the total number of trees, descending. “Humanize” the rent numbers, meaning format the results as 2,879.58 instead of 2879.575128. \n"
   ]
  },
  {
   "cell_type": "code",
   "execution_count": null,
   "id": "d264d18e",
   "metadata": {},
   "outputs": [],
   "source": [
    "QUERY_3_FILENAME = QUERY_DIR / \"average_rent_top_tree_zipcodes.sql\"\n",
    "\n",
    "QUERY_3 = \"\"\"\n",
    "SELECT \n",
    "    tree_counts.zipcode, \n",
    "    TO_CHAR(AVG(z.rent), 'FM9,999,999.00') as average_rent\n",
    "FROM \n",
    "    (\n",
    "        SELECT \n",
    "            zipcode, \n",
    "            COUNT(*) AS tree_count\n",
    "        FROM \n",
    "            nyc_tree\n",
    "        WHERE \n",
    "            status = 'Alive'\n",
    "        GROUP BY \n",
    "            zipcode\n",
    "        ORDER BY \n",
    "            COUNT(*) DESC\n",
    "        LIMIT 10\n",
    "    ) AS tree_counts\n",
    "JOIN \n",
    "    nyc_zillow z ON tree_counts.zipcode = z.zipcode\n",
    "WHERE \n",
    "    z.recorded_date BETWEEN '2023-08-01' AND '2023-08-31'\n",
    "GROUP BY \n",
    "    tree_counts.zipcode, tree_counts.tree_count\n",
    "ORDER BY \n",
    "    tree_counts.tree_count DESC\n",
    "\"\"\""
   ]
  },
  {
   "cell_type": "code",
   "execution_count": null,
   "id": "e5c371b2",
   "metadata": {},
   "outputs": [],
   "source": [
    "with engine.connect() as conn:\n",
    "    result = conn.execute(text(QUERY_3))\n",
    "    print(f\"Zip Code| Average Rent\")\n",
    "    for row in result:\n",
    "        print(f\"{row.zipcode}| {row.average_rent}\")"
   ]
  },
  {
   "cell_type": "code",
   "execution_count": null,
   "id": "ca70ccb8",
   "metadata": {},
   "outputs": [],
   "source": [
    "write_query_to_file(QUERY_3, QUERY_3_FILENAME)"
   ]
  },
  {
   "cell_type": "markdown",
   "id": "af17a8f9",
   "metadata": {},
   "source": [
    "### Query 4: Could there be a correlation between an area’s rent, the number of its trees, and the number of 311 complaints?\n",
    "\n",
    "For the month of January 2023, return the 5 zip codes with the lowest average rent, and 5 zipcodes of the highest average rent, and include the tree count and complaint count for each zip code by using JOIN statements.\n",
    "\n",
    "The query result should have 4 columns (zip code, average rent, tree count, and complaint count) and 10 rows: five with the highest average rent, and five with the lowest average rent. “Humanize” the rent numbers, meaning format the results as 2,879.58 instead of 2879.575128."
   ]
  },
  {
   "cell_type": "code",
   "execution_count": null,
   "id": "0d0177ea",
   "metadata": {},
   "outputs": [],
   "source": [
    "QUERY_4_FILENAME = QUERY_DIR / \"rent_tree_complaint_correlation.sql\"\n",
    "\n",
    "# SQL query\n",
    "QUERY_4 = \"\"\"\n",
    "WITH RentData AS (\n",
    "    SELECT \n",
    "        zipcode, \n",
    "        AVG(rent) AS average_rent\n",
    "    FROM \n",
    "        nyc_zillow\n",
    "    WHERE \n",
    "        recorded_date BETWEEN '2023-01-01' AND '2023-01-31'\n",
    "    GROUP BY \n",
    "        zipcode\n",
    "), RentRank AS (\n",
    "    SELECT \n",
    "        zipcode, \n",
    "        average_rent,\n",
    "        RANK() OVER (ORDER BY average_rent DESC) AS high_rank,\n",
    "        RANK() OVER (ORDER BY average_rent ASC) AS low_rank\n",
    "    FROM \n",
    "        RentData\n",
    "), TreeData AS (\n",
    "    SELECT \n",
    "        zipcode, \n",
    "        COUNT(*) AS tree_count\n",
    "    FROM \n",
    "        nyc_tree\n",
    "    GROUP BY \n",
    "        zipcode\n",
    "), ComplaintData AS (\n",
    "    SELECT \n",
    "        zipcode, \n",
    "        COUNT(*) AS complaint_count\n",
    "    FROM \n",
    "        nyc_311\n",
    "    WHERE \n",
    "        created_date BETWEEN '2023-01-01' AND '2023-01-31'\n",
    "    GROUP BY \n",
    "        zipcode\n",
    ")\n",
    "SELECT \n",
    "    r.zipcode, \n",
    "    TO_CHAR(r.average_rent, 'FM9,999,999.00') as formatted_rent, \n",
    "    t.tree_count, \n",
    "    c.complaint_count\n",
    "FROM \n",
    "    RentRank r\n",
    "JOIN \n",
    "    TreeData t ON r.zipcode = t.zipcode\n",
    "JOIN \n",
    "    ComplaintData c ON r.zipcode = c.zipcode\n",
    "WHERE \n",
    "    r.high_rank <= 5 OR r.low_rank <= 5\n",
    "ORDER BY \n",
    "    r.high_rank, r.low_rank\n",
    "\"\"\""
   ]
  },
  {
   "cell_type": "code",
   "execution_count": null,
   "id": "7c52ff97",
   "metadata": {},
   "outputs": [],
   "source": [
    "with engine.connect() as conn:\n",
    "    result = conn.execute(text(QUERY_4))\n",
    "    print(\"Zipcode |  Average Rent |  Tree Count |  Complaint Count\")\n",
    "    for row in result:\n",
    "        print(f\"{row.zipcode} |  {row.formatted_rent} |  {row.tree_count} |  {row.complaint_count}\")\n"
   ]
  },
  {
   "cell_type": "code",
   "execution_count": null,
   "id": "1974882b",
   "metadata": {},
   "outputs": [],
   "source": [
    "write_query_to_file(QUERY_4, QUERY_4_FILENAME)"
   ]
  },
  {
   "cell_type": "markdown",
   "id": "f5cea009",
   "metadata": {},
   "source": [
    "### Query 5: Where has the most greenery (take 2)?\n",
    "Rewrite Query 2 to use both the trees table and the zipcodes table. Join both tables where the coordinate point of the tree is inside the polygon boundary of the zipcode as defined in the zipcode table.\n",
    "\n",
    "The query should have a JOIN statement. The query results should match exactly the results of Query 2."
   ]
  },
  {
   "cell_type": "code",
   "execution_count": null,
   "id": "dc7b4f57",
   "metadata": {},
   "outputs": [],
   "source": [
    "QUERY_5_FILENAME = QUERY_DIR / \"greenery_with_zipcode_spatial_join.sql\"\n",
    "\n",
    "QUERY_5 = \"\"\"\n",
    "SELECT z.zipcode, COUNT(*) as tree_count\n",
    "FROM nyc_tree t\n",
    "JOIN nyc_zipcode z ON ST_Contains(z.location, t.location)\n",
    "WHERE t.status = 'Alive'\n",
    "GROUP BY z.zipcode\n",
    "ORDER BY tree_count DESC\n",
    "LIMIT 2;\n",
    "\"\"\""
   ]
  },
  {
   "cell_type": "code",
   "execution_count": null,
   "id": "0e8c907b",
   "metadata": {},
   "outputs": [],
   "source": [
    "with engine.connect() as conn:\n",
    "    result = conn.execute(text(QUERY_5))\n",
    "    print(\"Zipcode | Tree Count\")\n",
    "    for row in result:\n",
    "        print(f\"{row.zipcode} | {row.tree_count}\")"
   ]
  },
  {
   "cell_type": "code",
   "execution_count": null,
   "id": "e2a5beda",
   "metadata": {},
   "outputs": [],
   "source": [
    "write_query_to_file(QUERY_5, QUERY_5_FILENAME)"
   ]
  },
  {
   "cell_type": "markdown",
   "id": "9cf80aef",
   "metadata": {},
   "source": [
    "### Query 6: What is the immediate area like?\n",
    "Using the following coordinate pair on campus, which trees are within ½ mile radius of this point? Latitude: 40.80737875669467, Longitude: -73.96253174434912\n",
    "\n",
    "The result should have 5 columns (ID, species, health, status, and coordinate location of each tree).\n",
    "\n",
    "You may use regular Python to help construct the geometric object needed for setting the radius in the query."
   ]
  },
  {
   "cell_type": "code",
   "execution_count": null,
   "id": "80df5c88",
   "metadata": {},
   "outputs": [],
   "source": [
    "# Latitude and Longitude\n",
    "latitude = 40.80737875669467\n",
    "longitude = -73.96253174434912\n",
    "\n",
    "# Construct point using Well-Known Text (WKT) format\n",
    "point_wkt = WKTElement(f'POINT({longitude} {latitude})', srid=4326)"
   ]
  },
  {
   "cell_type": "code",
   "execution_count": null,
   "id": "8ec36ac2",
   "metadata": {},
   "outputs": [],
   "source": [
    "QUERY_6_FILENAME = QUERY_DIR / \"trees_near_coordinate.sql\"\n",
    "\n",
    "QUERY_6 = f\"\"\"\n",
    "SELECT \n",
    "    tree_id, \n",
    "    species, \n",
    "    health, \n",
    "    status, \n",
    "    location\n",
    "FROM \n",
    "    nyc_tree\n",
    "WHERE \n",
    "    ST_DWithin(location::geography, '{point_wkt}'::geography, 804.672)\n",
    "\"\"\"\n"
   ]
  },
  {
   "cell_type": "code",
   "execution_count": null,
   "id": "45e113f9",
   "metadata": {},
   "outputs": [],
   "source": [
    "with engine.connect() as conn:\n",
    "    result = conn.execute(text(QUERY_6), point=point_wkb)\n",
    "    print(\"ID | Species | Health | Status | Location\")\n",
    "    for row in result:\n",
    "        print(f\"{row.tree_id} | {row.species} | {row.health} | {row.status} | {row.location}\")"
   ]
  },
  {
   "cell_type": "code",
   "execution_count": null,
   "id": "59a67fb2",
   "metadata": {},
   "outputs": [],
   "source": [
    "write_query_to_file(QUERY_6, QUERY_6_FILENAME)"
   ]
  },
  {
   "cell_type": "markdown",
   "id": "75223ce5-6ab5-4613-b6af-fa8e33bcc7d5",
   "metadata": {},
   "source": [
    "## Part 4: Visualizing the Data"
   ]
  },
  {
   "cell_type": "markdown",
   "id": "b21fcfed-ddbb-4908-a60e-ed7cbc6d5b00",
   "metadata": {},
   "source": [
    "### Visualization 1: What can I expect to put up with in NYC?\n",
    "First, find the top 3 complaint types for October 1st, 2022 to September 30th, 2023 (inclusive). \n",
    "\n",
    "Then, create an appropriate visualization for the number of complaints per day over $timeframe for those complaint types.  "
   ]
  },
  {
   "cell_type": "code",
   "execution_count": null,
   "id": "6f0e2cde-e43b-407b-ab93-ff85a2dba469",
   "metadata": {},
   "outputs": [],
   "source": [
    "def get_data_for_visual_1():\n",
    "    # SQL query to get the number of complaints per day for the top 3 complaint types\n",
    "    complaints_per_day_query = \"\"\"\n",
    "    SELECT \n",
    "        created_date::date, \n",
    "        complaint_type, \n",
    "        COUNT(*) as complaint_count\n",
    "    FROM \n",
    "        nyc_311\n",
    "    WHERE \n",
    "        created_date BETWEEN '2022-10-01' AND '2023-09-30'\n",
    "        AND complaint_type IN (\n",
    "            SELECT complaint_type\n",
    "            FROM nyc_311\n",
    "            WHERE created_date BETWEEN '2022-10-01' AND '2023-09-30'\n",
    "            GROUP BY complaint_type\n",
    "            ORDER BY COUNT(*) DESC\n",
    "            LIMIT 3\n",
    "        )\n",
    "    GROUP BY created_date::date, complaint_type\n",
    "    ORDER BY created_date\n",
    "    \"\"\"\n",
    "\n",
    "    with engine.connect() as conn:\n",
    "        complaints_data = pd.read_sql(complaints_per_day_query, conn)\n",
    "\n",
    "    return complaints_data"
   ]
  },
  {
   "cell_type": "code",
   "execution_count": null,
   "id": "ed80755f-d1e1-4e53-8ef8-f5295c59a3fe",
   "metadata": {},
   "outputs": [],
   "source": [
    "def plot_visual_1(dataframe):\n",
    "    figure, axes = plt.subplots(figsize=(20, 10))\n",
    "\n",
    "    # Plotting the data for each complaint type\n",
    "    for complaint_type in dataframe['complaint_type'].unique():\n",
    "        filtered_data = dataframe[dataframe['complaint_type'] == complaint_type]\n",
    "        axes.plot(filtered_data['created_date'], filtered_data['complaint_count'], label=complaint_type)\n",
    "\n",
    "    # Labeling and styling\n",
    "    axes.set_title(\"Top 3 NYC Complaint Types per Day\")\n",
    "    axes.set_xlabel(\"Date\")\n",
    "    axes.set_ylabel(\"Number of Complaints\")\n",
    "    axes.legend()\n",
    "\n",
    "    plt.show()\n"
   ]
  },
  {
   "cell_type": "code",
   "execution_count": null,
   "id": "f6a2632a-b516-4a6e-8b67-97116ab6fce4",
   "metadata": {},
   "outputs": [],
   "source": [
    "# Retrieve the data\n",
    "complaints_data = get_data_for_visual_1()\n",
    "\n",
    "# Plot the data\n",
    "plot_visual_1(complaints_data)"
   ]
  },
  {
   "cell_type": "markdown",
   "id": "a44215d5",
   "metadata": {},
   "source": [
    "### Visualization 2: What are the most common complaints in the immediate area?\n",
    "Create a visualization that shows the number of complaints by complaint type for the top 10 complaints in zip code 10027 for October 1st, 2018 to September 30th, 2023 (inclusive). "
   ]
  },
  {
   "cell_type": "code",
   "execution_count": null,
   "id": "5275d7fd",
   "metadata": {},
   "outputs": [],
   "source": [
    "def get_data_for_visual_2():\n",
    "    # SQL query to get the number of complaints by complaint type for zip code 10027\n",
    "    complaints_query = \"\"\"\n",
    "    SELECT \n",
    "        complaint_type, \n",
    "        COUNT(*) as complaint_count\n",
    "    FROM \n",
    "        nyc_311\n",
    "    WHERE \n",
    "        zipcode = 10027 AND\n",
    "        created_date BETWEEN '2018-10-01' AND '2023-09-30'\n",
    "    GROUP BY \n",
    "        complaint_type\n",
    "    ORDER BY \n",
    "        complaint_count DESC\n",
    "    LIMIT 10\n",
    "    \"\"\"\n",
    "\n",
    "    with engine.connect() as conn:\n",
    "        complaints_data = pd.read_sql(complaints_query, conn)\n",
    "\n",
    "    return complaints_data"
   ]
  },
  {
   "cell_type": "code",
   "execution_count": null,
   "id": "eb330624",
   "metadata": {},
   "outputs": [],
   "source": [
    "def plot_visual_2(dataframe):\n",
    "    figure, axes = plt.subplots(figsize=(20, 10))\n",
    "    # Plotting a bar chart\n",
    "    axes.bar(dataframe['complaint_type'], dataframe['complaint_count'], color='skyblue')\n",
    "\n",
    "    # Labeling and styling\n",
    "    axes.set_title(\"Top 10 Complaints in Zip Code 10027 (Oct 2018 - Sep 2023)\")\n",
    "    axes.set_xlabel(\"Complaint Type\")\n",
    "    axes.set_ylabel(\"Number of Complaints\")\n",
    "    plt.xticks(rotation=45, ha='right')  # Rotate labels for better readability\n",
    "\n",
    "    plt.show()"
   ]
  },
  {
   "cell_type": "code",
   "execution_count": null,
   "id": "f2cbcd93",
   "metadata": {},
   "outputs": [],
   "source": [
    "# Retrieve the data\n",
    "complaints_data_10027 = get_data_for_visual_2()\n",
    "\n",
    "# Plot the data\n",
    "plot_visual_2(complaints_data_10027)"
   ]
  },
  {
   "cell_type": "markdown",
   "id": "2cb6b4ae",
   "metadata": {},
   "source": [
    "### Visualization 3: Is there any correlation between rent, trees, and complaints at all?\n",
    "\n",
    "Between January 1st, 2015 and September 30th, 2023 (inclusive), create a visualization using 2 subplots that share the x-axis where one subplot shows rent compared to the number of trees by zip code, and the other subplot shows rent compared to the number of complaints by zip code.\n"
   ]
  },
  {
   "cell_type": "code",
   "execution_count": null,
   "id": "a7064a41",
   "metadata": {},
   "outputs": [],
   "source": [
    "def get_data_for_visual_3():\n",
    "    # Query to get average rent by zip code\n",
    "    rent_query = \"\"\"\n",
    "    SELECT zipcode, AVG(rent) as average_rent\n",
    "    FROM nyc_zillow\n",
    "    WHERE recorded_date BETWEEN '2015-01-01' AND '2023-09-30'\n",
    "    GROUP BY zipcode\n",
    "    \"\"\"\n",
    "\n",
    "    # Query to get tree count by zip code\n",
    "    tree_query = \"\"\"\n",
    "    SELECT zipcode, COUNT(*) as tree_count\n",
    "    FROM nyc_tree\n",
    "    GROUP BY zipcode\n",
    "    \"\"\"\n",
    "\n",
    "    # Query to get complaint count by zip code\n",
    "    complaint_query = \"\"\"\n",
    "    SELECT zipcode, COUNT(*) as complaint_count\n",
    "    FROM nyc_311\n",
    "    WHERE created_date BETWEEN '2015-01-01' AND '2023-09-30'\n",
    "    GROUP BY zipcode\n",
    "    \"\"\"\n",
    "\n",
    "    # Execute queries and return dataframes\n",
    "    with engine.connect() as conn:\n",
    "        rent_data = pd.read_sql(rent_query, conn)\n",
    "        tree_data = pd.read_sql(tree_query, conn)\n",
    "        complaint_data = pd.read_sql(complaint_query, conn)\n",
    "\n",
    "    return rent_data, tree_data, complaint_data"
   ]
  },
  {
   "cell_type": "code",
   "execution_count": null,
   "id": "b422e621",
   "metadata": {},
   "outputs": [],
   "source": [
    "def plot_visual_3(rent_df, tree_df, complaint_df):\n",
    "    # Merging dataframes on zipcode\n",
    "    merged_df = rent_df.merge(tree_df, on='zipcode').merge(complaint_df, on='zipcode')\n",
    "\n",
    "    # Creating subplots\n",
    "    fig, (ax1, ax2) = plt.subplots(2, 1, figsize=(15, 10), sharex=True)\n",
    "\n",
    "    # Subplot 1: Rent vs Tree Count\n",
    "    ax1.scatter(merged_df['average_rent'], merged_df['tree_count'], color='green')\n",
    "    ax1.set_title('Average Rent vs Tree Count by Zip Code')\n",
    "    ax1.set_ylabel('Tree Count')\n",
    "\n",
    "    # Subplot 2: Rent vs Complaint Count\n",
    "    ax2.scatter(merged_df['average_rent'], merged_df['complaint_count'], color='red')\n",
    "    ax2.set_title('Average Rent vs Complaint Count by Zip Code')\n",
    "    ax2.set_xlabel('Average Rent')\n",
    "    ax2.set_ylabel('Complaint Count')\n",
    "\n",
    "    plt.show()"
   ]
  },
  {
   "cell_type": "code",
   "execution_count": null,
   "id": "3b6c7813",
   "metadata": {},
   "outputs": [],
   "source": [
    "# Retrieve the data\n",
    "rent_data, tree_data, complaint_data = get_data_for_visual_3()\n",
    "\n",
    "# Plot the data\n",
    "plot_visual_3(rent_data, tree_data, complaint_data)"
   ]
  },
  {
   "cell_type": "markdown",
   "id": "1a52b578",
   "metadata": {},
   "source": [
    "### Visualization 4: If I can afford more in rent, will there be fewer issues & complaints?\n",
    "\n",
    "Create a boxplot, where the x-axis is average rent in September 2023, separated into $1000 bins (i.e. $0-1000, $1001-2000, etc), and the y-axis is the number of 311 complaints observed in each zip code between October 1, 2022 (inclusive) to September 30, 2023 (inclusive)."
   ]
  },
  {
   "cell_type": "code",
   "execution_count": null,
   "id": "bcca96a4",
   "metadata": {},
   "outputs": [],
   "source": [
    "def get_data_for_visual_4():\n",
    "    # Query to get average rent by zip code for September 2023\n",
    "    rent_query = \"\"\"\n",
    "    SELECT zipcode, AVG(rent) as average_rent\n",
    "    FROM nyc_zillow\n",
    "    WHERE recorded_date BETWEEN '2023-09-01' AND '2023-09-30'\n",
    "    GROUP BY zipcode\n",
    "    \"\"\"\n",
    "\n",
    "    # Query to get complaint count by zip code\n",
    "    complaint_query = \"\"\"\n",
    "    SELECT zipcode, COUNT(*) as complaint_count\n",
    "    FROM nyc_311\n",
    "    WHERE created_date BETWEEN '2022-10-01' AND '2023-09-30'\n",
    "    GROUP BY zipcode\n",
    "    \"\"\"\n",
    "\n",
    "    with engine.connect() as conn:\n",
    "        rent_data = pd.read_sql(rent_query, conn)\n",
    "        complaint_data = pd.read_sql(complaint_query, conn)\n",
    "\n",
    "    # Merging dataframes on zipcode\n",
    "    merged_data = rent_data.merge(complaint_data, on='zipcode')\n",
    "\n",
    "    # Categorizing rent into bins\n",
    "    rent_bins = pd.cut(merged_data['average_rent'], bins=range(0, int(merged_data['average_rent'].max()) + 1000, 1000), right=False)\n",
    "    merged_data['rent_bins'] = rent_bins\n",
    "\n",
    "    return merged_data"
   ]
  },
  {
   "cell_type": "code",
   "execution_count": null,
   "id": "e524ef97",
   "metadata": {},
   "outputs": [],
   "source": [
    "def plot_visual_4(dataframe):\n",
    "    fig, ax = plt.subplots(figsize=(20, 10))\n",
    "\n",
    "    # Creating a boxplot\n",
    "    dataframe.boxplot(column='complaint_count', by='rent_bins', ax=ax, grid=False)\n",
    "\n",
    "    # Labeling and styling\n",
    "    ax.set_title('Number of 311 Complaints vs Average Rent')\n",
    "    ax.set_xlabel('Average Rent Bins ($)')\n",
    "    ax.set_ylabel('Number of 311 Complaints')\n",
    "    plt.suptitle('')  # Remove default Pandas title\n",
    "    plt.xticks(rotation=45)\n",
    "\n",
    "    plt.show()"
   ]
  },
  {
   "cell_type": "code",
   "execution_count": null,
   "id": "6d06320a",
   "metadata": {},
   "outputs": [],
   "source": [
    "afford_vs_complaint = get_data_for_visual_4()\n",
    "plot_visual_4(afford_vs_complaint)"
   ]
  },
  {
   "cell_type": "markdown",
   "id": "9bf4d631",
   "metadata": {},
   "source": [
    "### Visualization 5: Where were the recent 311 incidents reported from in the immediate area?\n",
    "Create a geospatial plot of the coordinates of reported 311 incidents that happened between January 1st, 2023 and September 30th, 2023 (inclusive) within a 1 kilometer radius of the same coordinate from Query 6 in Part 3."
   ]
  },
  {
   "cell_type": "code",
   "execution_count": null,
   "id": "00cc4f80",
   "metadata": {},
   "outputs": [],
   "source": [
    "def get_data_for_visual_5():\n",
    "    # Define the coordinate\n",
    "    latitude = 40.80737875669467\n",
    "    longitude = -73.96253174434912\n",
    "    point = Point(longitude, latitude)\n",
    "\n",
    "    # Convert to WKB format\n",
    "    point_wkb = dumps(point, hex=True)\n",
    "\n",
    "    # Modify the query to extract longitude and latitude\n",
    "    incident_query = f\"\"\"\n",
    "    SELECT ST_X(location::geometry) as longitude, ST_Y(location::geometry) as latitude\n",
    "    FROM nyc_311\n",
    "    WHERE \n",
    "        created_date BETWEEN '2023-01-01' AND '2023-09-30'\n",
    "        AND ST_DWithin(location::geography, ST_GeomFromWKB('\\\\x{point_wkb}', 4326)::geography, 1000)\n",
    "    \"\"\"\n",
    "\n",
    "    with engine.connect() as conn:\n",
    "        incidents_data = pd.read_sql(incident_query, conn)\n",
    "\n",
    "    return incidents_data\n"
   ]
  },
  {
   "cell_type": "code",
   "execution_count": null,
   "id": "80a44588",
   "metadata": {},
   "outputs": [],
   "source": [
    "def plot_visual_5_gpd(dataframe):\n",
    "    # Convert DataFrame to GeoDataFrame\n",
    "    gdf = gpd.GeoDataFrame(dataframe, geometry=gpd.points_from_xy(dataframe['longitude'], dataframe['latitude']))\n",
    "\n",
    "    # Plotting\n",
    "    fig, ax = plt.subplots(figsize=(10, 10))\n",
    "    gdf.plot(ax=ax, markersize=5, color='red', marker='o')\n",
    "    plt.title(\"311 Incidents Near Latitude 40.8074, Longitude -73.9625 (Jan 1, 2023 - Sep 30, 2023)\")\n",
    "    ax.set_xlabel(\"Longitude\")\n",
    "    ax.set_ylabel(\"Latitude\")    \n",
    "    \n",
    "    # Center the plot around the given coordinate\n",
    "    ax.set_xlim(longitude - 0.02, longitude + 0.02)\n",
    "    ax.set_ylim(latitude - 0.02, latitude + 0.02)\n",
    "    \n",
    "    plt.show()"
   ]
  },
  {
   "cell_type": "code",
   "execution_count": null,
   "id": "9b691f4e",
   "metadata": {},
   "outputs": [],
   "source": [
    "# Option1: Using Geopandas\n",
    "incidents_data = get_data_for_visual_5()\n",
    "plot_visual_5_gpd(incidents_data)"
   ]
  },
  {
   "cell_type": "markdown",
   "id": "e18f308a",
   "metadata": {},
   "source": [
    "### Visualization 6: Are areas trying to improve the amount of trees in the neighborhood?\n",
    "\n",
    "Create a geospatial plot of two sets of data: the coordinates of trees in NYC, and the coordinates of \"New Tree Request\" 311 complaint types that were made from October 1st, 2018 to September 30th, 2023 (inclusive)."
   ]
  },
  {
   "cell_type": "code",
   "execution_count": null,
   "id": "ba05d7c3",
   "metadata": {},
   "outputs": [],
   "source": []
  },
  {
   "cell_type": "code",
   "execution_count": null,
   "id": "a443c45c",
   "metadata": {},
   "outputs": [],
   "source": []
  }
 ],
 "metadata": {
  "kernelspec": {
   "display_name": "Python 3 (ipykernel)",
   "language": "python",
   "name": "python3"
  },
  "language_info": {
   "codemirror_mode": {
    "name": "ipython",
    "version": 3
   },
   "file_extension": ".py",
   "mimetype": "text/x-python",
   "name": "python",
   "nbconvert_exporter": "python",
   "pygments_lexer": "ipython3",
   "version": "3.11.5"
  }
 },
 "nbformat": 4,
 "nbformat_minor": 5
}
